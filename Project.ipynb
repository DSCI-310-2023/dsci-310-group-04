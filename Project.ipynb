{
 "cells": [
  {
   "cell_type": "code",
   "execution_count": 1,
   "id": "87576eb3-2eb3-45a8-a170-9404db069d69",
   "metadata": {
    "tags": []
   },
   "outputs": [
    {
     "name": "stderr",
     "output_type": "stream",
     "text": [
      "── \u001b[1mAttaching packages\u001b[22m ────────────────────────────────────────────────────────────────────────────────────────── tidyverse 1.3.2 ──\n",
      "\u001b[32m✔\u001b[39m \u001b[34mggplot2\u001b[39m 3.4.1     \u001b[32m✔\u001b[39m \u001b[34mpurrr  \u001b[39m 1.0.1\n",
      "\u001b[32m✔\u001b[39m \u001b[34mtibble \u001b[39m 3.1.8     \u001b[32m✔\u001b[39m \u001b[34mdplyr  \u001b[39m 1.1.0\n",
      "\u001b[32m✔\u001b[39m \u001b[34mtidyr  \u001b[39m 1.3.0     \u001b[32m✔\u001b[39m \u001b[34mstringr\u001b[39m 1.5.0\n",
      "\u001b[32m✔\u001b[39m \u001b[34mreadr  \u001b[39m 2.1.4     \u001b[32m✔\u001b[39m \u001b[34mforcats\u001b[39m 1.0.0\n",
      "── \u001b[1mConflicts\u001b[22m ───────────────────────────────────────────────────────────────────────────────────────────── tidyverse_conflicts() ──\n",
      "\u001b[31m✖\u001b[39m \u001b[34mdplyr\u001b[39m::\u001b[32mfilter()\u001b[39m masks \u001b[34mstats\u001b[39m::filter()\n",
      "\u001b[31m✖\u001b[39m \u001b[34mdplyr\u001b[39m::\u001b[32mlag()\u001b[39m    masks \u001b[34mstats\u001b[39m::lag()\n",
      "── \u001b[1mAttaching packages\u001b[22m ───────────────────────────────────────────────────────────────────────────────────────── tidymodels 1.0.0 ──\n",
      "\n",
      "\u001b[32m✔\u001b[39m \u001b[34mbroom       \u001b[39m 1.0.3     \u001b[32m✔\u001b[39m \u001b[34mrsample     \u001b[39m 1.1.1\n",
      "\u001b[32m✔\u001b[39m \u001b[34mdials       \u001b[39m 1.1.0     \u001b[32m✔\u001b[39m \u001b[34mtune        \u001b[39m 1.0.1\n",
      "\u001b[32m✔\u001b[39m \u001b[34minfer       \u001b[39m 1.0.4     \u001b[32m✔\u001b[39m \u001b[34mworkflows   \u001b[39m 1.1.2\n",
      "\u001b[32m✔\u001b[39m \u001b[34mmodeldata   \u001b[39m 1.1.0     \u001b[32m✔\u001b[39m \u001b[34mworkflowsets\u001b[39m 1.0.0\n",
      "\u001b[32m✔\u001b[39m \u001b[34mparsnip     \u001b[39m 1.0.3     \u001b[32m✔\u001b[39m \u001b[34myardstick   \u001b[39m 1.1.0\n",
      "\u001b[32m✔\u001b[39m \u001b[34mrecipes     \u001b[39m 1.0.4     \n",
      "\n",
      "── \u001b[1mConflicts\u001b[22m ──────────────────────────────────────────────────────────────────────────────────────────── tidymodels_conflicts() ──\n",
      "\u001b[31m✖\u001b[39m \u001b[34mscales\u001b[39m::\u001b[32mdiscard()\u001b[39m masks \u001b[34mpurrr\u001b[39m::discard()\n",
      "\u001b[31m✖\u001b[39m \u001b[34mdplyr\u001b[39m::\u001b[32mfilter()\u001b[39m   masks \u001b[34mstats\u001b[39m::filter()\n",
      "\u001b[31m✖\u001b[39m \u001b[34mrecipes\u001b[39m::\u001b[32mfixed()\u001b[39m  masks \u001b[34mstringr\u001b[39m::fixed()\n",
      "\u001b[31m✖\u001b[39m \u001b[34mdplyr\u001b[39m::\u001b[32mlag()\u001b[39m      masks \u001b[34mstats\u001b[39m::lag()\n",
      "\u001b[31m✖\u001b[39m \u001b[34myardstick\u001b[39m::\u001b[32mspec()\u001b[39m masks \u001b[34mreadr\u001b[39m::spec()\n",
      "\u001b[31m✖\u001b[39m \u001b[34mrecipes\u001b[39m::\u001b[32mstep()\u001b[39m   masks \u001b[34mstats\u001b[39m::step()\n",
      "\u001b[34m•\u001b[39m Use suppressPackageStartupMessages() to eliminate package startup messages\n",
      "\n",
      "\n",
      "Attaching package: ‘RCurl’\n",
      "\n",
      "\n",
      "The following object is masked from ‘package:tidyr’:\n",
      "\n",
      "    complete\n",
      "\n",
      "\n"
     ]
    }
   ],
   "source": [
    "library(tidyverse)\n",
    "library(repr)\n",
    "library(tidymodels)\n",
    "library(RCurl)\n",
    "library(kknn)\n",
    "library(cowplot)\n",
    "options(repr.matrix.max.rows = 6)\n",
    "set.seed(1)"
   ]
  },
  {
   "cell_type": "code",
   "execution_count": 5,
   "id": "0a99eab1-ac49-4188-910f-a49407eb8afe",
   "metadata": {
    "tags": []
   },
   "outputs": [],
   "source": [
    "# Read the data from the web into jupyter\n",
    "x <- getURL(\"https://raw.githubusercontent.com/rfordatascience/tidytuesday/master/data/2020/2020-01-21/spotify_songs.csv\")\n",
    "data <- read.csv(text = x)"
   ]
  },
  {
   "cell_type": "code",
   "execution_count": 6,
   "id": "f7050567-c8a4-4130-97ac-8c85e2bc8f98",
   "metadata": {
    "tags": []
   },
   "outputs": [
    {
     "data": {
      "text/html": [
       "<table class=\"dataframe\">\n",
       "<caption>A data.frame: 32833 × 23</caption>\n",
       "<thead>\n",
       "\t<tr><th scope=col>track_id</th><th scope=col>track_name</th><th scope=col>track_artist</th><th scope=col>track_popularity</th><th scope=col>track_album_id</th><th scope=col>track_album_name</th><th scope=col>track_album_release_date</th><th scope=col>playlist_name</th><th scope=col>playlist_id</th><th scope=col>playlist_genre</th><th scope=col>⋯</th><th scope=col>key</th><th scope=col>loudness</th><th scope=col>mode</th><th scope=col>speechiness</th><th scope=col>acousticness</th><th scope=col>instrumentalness</th><th scope=col>liveness</th><th scope=col>valence</th><th scope=col>tempo</th><th scope=col>duration_ms</th></tr>\n",
       "\t<tr><th scope=col>&lt;chr&gt;</th><th scope=col>&lt;chr&gt;</th><th scope=col>&lt;chr&gt;</th><th scope=col>&lt;int&gt;</th><th scope=col>&lt;chr&gt;</th><th scope=col>&lt;chr&gt;</th><th scope=col>&lt;chr&gt;</th><th scope=col>&lt;chr&gt;</th><th scope=col>&lt;chr&gt;</th><th scope=col>&lt;chr&gt;</th><th scope=col>⋯</th><th scope=col>&lt;int&gt;</th><th scope=col>&lt;dbl&gt;</th><th scope=col>&lt;int&gt;</th><th scope=col>&lt;dbl&gt;</th><th scope=col>&lt;dbl&gt;</th><th scope=col>&lt;dbl&gt;</th><th scope=col>&lt;dbl&gt;</th><th scope=col>&lt;dbl&gt;</th><th scope=col>&lt;dbl&gt;</th><th scope=col>&lt;int&gt;</th></tr>\n",
       "</thead>\n",
       "<tbody>\n",
       "\t<tr><td>6f807x0ima9a1j3VPbc7VN</td><td>I Don't Care (with Justin Bieber) - Loud Luxury Remix</td><td>Ed Sheeran  </td><td>66</td><td>2oCs0DGTsRO98Gh5ZSl2Cx</td><td>I Don't Care (with Justin Bieber) [Loud Luxury Remix]</td><td>2019-06-14</td><td>Pop Remix</td><td>37i9dQZF1DXcZDD7cfEKhW</td><td>pop</td><td>⋯</td><td> 6</td><td>-2.634</td><td>1</td><td>0.0583</td><td>0.1020</td><td>0.00e+00</td><td>0.0653</td><td>0.518</td><td>122.036</td><td>194754</td></tr>\n",
       "\t<tr><td>0r7CVbZTWZgbTCYdfa2P31</td><td>Memories - Dillon Francis Remix                      </td><td>Maroon 5    </td><td>67</td><td>63rPSO264uRjW1X5E6cWv6</td><td>Memories (Dillon Francis Remix)                      </td><td>2019-12-13</td><td>Pop Remix</td><td>37i9dQZF1DXcZDD7cfEKhW</td><td>pop</td><td>⋯</td><td>11</td><td>-4.969</td><td>1</td><td>0.0373</td><td>0.0724</td><td>4.21e-03</td><td>0.3570</td><td>0.693</td><td> 99.972</td><td>162600</td></tr>\n",
       "\t<tr><td>1z1Hg7Vb0AhHDiEmnDE79l</td><td>All the Time - Don Diablo Remix                      </td><td>Zara Larsson</td><td>70</td><td>1HoSmj2eLcsrR0vE9gThr4</td><td>All the Time (Don Diablo Remix)                      </td><td>2019-07-05</td><td>Pop Remix</td><td>37i9dQZF1DXcZDD7cfEKhW</td><td>pop</td><td>⋯</td><td> 1</td><td>-3.432</td><td>0</td><td>0.0742</td><td>0.0794</td><td>2.33e-05</td><td>0.1100</td><td>0.613</td><td>124.008</td><td>176616</td></tr>\n",
       "\t<tr><td>⋮</td><td>⋮</td><td>⋮</td><td>⋮</td><td>⋮</td><td>⋮</td><td>⋮</td><td>⋮</td><td>⋮</td><td>⋮</td><td>⋱</td><td>⋮</td><td>⋮</td><td>⋮</td><td>⋮</td><td>⋮</td><td>⋮</td><td>⋮</td><td>⋮</td><td>⋮</td><td>⋮</td></tr>\n",
       "\t<tr><td>7ImMqPP3Q1yfUHvsdn7wEo</td><td>Sweet Surrender - Radio Edit  </td><td>Starkillers </td><td>14</td><td>0ltWNSY9JgxoIZO4VzuCa6</td><td>Sweet Surrender (Radio Edit)</td><td>2014-04-21</td><td>â™¥ EDM LOVE 2020</td><td>6jI1gFr6ANFtT8MmTvA2Ux</td><td>edm</td><td>⋯</td><td>6</td><td>-4.899</td><td>0</td><td>0.0481</td><td>0.108000</td><td>1.11e-06</td><td>0.150</td><td>0.4360</td><td>127.989</td><td>210112</td></tr>\n",
       "\t<tr><td>2m69mhnfQ1Oq6lGtXuYhgX</td><td>Only For You - Maor Levi Remix</td><td>Mat Zo      </td><td>15</td><td>1fGrOkHnHJcStl14zNx8Jy</td><td>Only For You (Remixes)      </td><td>2014-01-01</td><td>â™¥ EDM LOVE 2020</td><td>6jI1gFr6ANFtT8MmTvA2Ux</td><td>edm</td><td>⋯</td><td>2</td><td>-3.361</td><td>1</td><td>0.1090</td><td>0.007920</td><td>1.27e-01</td><td>0.343</td><td>0.3080</td><td>128.008</td><td>367432</td></tr>\n",
       "\t<tr><td>29zWqhca3zt5NsckZqDf6c</td><td>Typhoon - Original Mix        </td><td>Julian Calor</td><td>27</td><td>0X3mUOm6MhxR7PzxG95rAo</td><td>Typhoon/Storm               </td><td>2014-03-03</td><td>â™¥ EDM LOVE 2020</td><td>6jI1gFr6ANFtT8MmTvA2Ux</td><td>edm</td><td>⋯</td><td>5</td><td>-4.571</td><td>0</td><td>0.0385</td><td>0.000133</td><td>3.41e-01</td><td>0.742</td><td>0.0894</td><td>127.984</td><td>337500</td></tr>\n",
       "</tbody>\n",
       "</table>\n"
      ],
      "text/latex": [
       "A data.frame: 32833 × 23\n",
       "\\begin{tabular}{lllllllllllllllllllll}\n",
       " track\\_id & track\\_name & track\\_artist & track\\_popularity & track\\_album\\_id & track\\_album\\_name & track\\_album\\_release\\_date & playlist\\_name & playlist\\_id & playlist\\_genre & ⋯ & key & loudness & mode & speechiness & acousticness & instrumentalness & liveness & valence & tempo & duration\\_ms\\\\\n",
       " <chr> & <chr> & <chr> & <int> & <chr> & <chr> & <chr> & <chr> & <chr> & <chr> & ⋯ & <int> & <dbl> & <int> & <dbl> & <dbl> & <dbl> & <dbl> & <dbl> & <dbl> & <int>\\\\\n",
       "\\hline\n",
       "\t 6f807x0ima9a1j3VPbc7VN & I Don't Care (with Justin Bieber) - Loud Luxury Remix & Ed Sheeran   & 66 & 2oCs0DGTsRO98Gh5ZSl2Cx & I Don't Care (with Justin Bieber) {[}Loud Luxury Remix{]} & 2019-06-14 & Pop Remix & 37i9dQZF1DXcZDD7cfEKhW & pop & ⋯ &  6 & -2.634 & 1 & 0.0583 & 0.1020 & 0.00e+00 & 0.0653 & 0.518 & 122.036 & 194754\\\\\n",
       "\t 0r7CVbZTWZgbTCYdfa2P31 & Memories - Dillon Francis Remix                       & Maroon 5     & 67 & 63rPSO264uRjW1X5E6cWv6 & Memories (Dillon Francis Remix)                       & 2019-12-13 & Pop Remix & 37i9dQZF1DXcZDD7cfEKhW & pop & ⋯ & 11 & -4.969 & 1 & 0.0373 & 0.0724 & 4.21e-03 & 0.3570 & 0.693 &  99.972 & 162600\\\\\n",
       "\t 1z1Hg7Vb0AhHDiEmnDE79l & All the Time - Don Diablo Remix                       & Zara Larsson & 70 & 1HoSmj2eLcsrR0vE9gThr4 & All the Time (Don Diablo Remix)                       & 2019-07-05 & Pop Remix & 37i9dQZF1DXcZDD7cfEKhW & pop & ⋯ &  1 & -3.432 & 0 & 0.0742 & 0.0794 & 2.33e-05 & 0.1100 & 0.613 & 124.008 & 176616\\\\\n",
       "\t ⋮ & ⋮ & ⋮ & ⋮ & ⋮ & ⋮ & ⋮ & ⋮ & ⋮ & ⋮ & ⋱ & ⋮ & ⋮ & ⋮ & ⋮ & ⋮ & ⋮ & ⋮ & ⋮ & ⋮ & ⋮\\\\\n",
       "\t 7ImMqPP3Q1yfUHvsdn7wEo & Sweet Surrender - Radio Edit   & Starkillers  & 14 & 0ltWNSY9JgxoIZO4VzuCa6 & Sweet Surrender (Radio Edit) & 2014-04-21 & â™¥ EDM LOVE 2020 & 6jI1gFr6ANFtT8MmTvA2Ux & edm & ⋯ & 6 & -4.899 & 0 & 0.0481 & 0.108000 & 1.11e-06 & 0.150 & 0.4360 & 127.989 & 210112\\\\\n",
       "\t 2m69mhnfQ1Oq6lGtXuYhgX & Only For You - Maor Levi Remix & Mat Zo       & 15 & 1fGrOkHnHJcStl14zNx8Jy & Only For You (Remixes)       & 2014-01-01 & â™¥ EDM LOVE 2020 & 6jI1gFr6ANFtT8MmTvA2Ux & edm & ⋯ & 2 & -3.361 & 1 & 0.1090 & 0.007920 & 1.27e-01 & 0.343 & 0.3080 & 128.008 & 367432\\\\\n",
       "\t 29zWqhca3zt5NsckZqDf6c & Typhoon - Original Mix         & Julian Calor & 27 & 0X3mUOm6MhxR7PzxG95rAo & Typhoon/Storm                & 2014-03-03 & â™¥ EDM LOVE 2020 & 6jI1gFr6ANFtT8MmTvA2Ux & edm & ⋯ & 5 & -4.571 & 0 & 0.0385 & 0.000133 & 3.41e-01 & 0.742 & 0.0894 & 127.984 & 337500\\\\\n",
       "\\end{tabular}\n"
      ],
      "text/markdown": [
       "\n",
       "A data.frame: 32833 × 23\n",
       "\n",
       "| track_id &lt;chr&gt; | track_name &lt;chr&gt; | track_artist &lt;chr&gt; | track_popularity &lt;int&gt; | track_album_id &lt;chr&gt; | track_album_name &lt;chr&gt; | track_album_release_date &lt;chr&gt; | playlist_name &lt;chr&gt; | playlist_id &lt;chr&gt; | playlist_genre &lt;chr&gt; | ⋯ ⋯ | key &lt;int&gt; | loudness &lt;dbl&gt; | mode &lt;int&gt; | speechiness &lt;dbl&gt; | acousticness &lt;dbl&gt; | instrumentalness &lt;dbl&gt; | liveness &lt;dbl&gt; | valence &lt;dbl&gt; | tempo &lt;dbl&gt; | duration_ms &lt;int&gt; |\n",
       "|---|---|---|---|---|---|---|---|---|---|---|---|---|---|---|---|---|---|---|---|---|\n",
       "| 6f807x0ima9a1j3VPbc7VN | I Don't Care (with Justin Bieber) - Loud Luxury Remix | Ed Sheeran   | 66 | 2oCs0DGTsRO98Gh5ZSl2Cx | I Don't Care (with Justin Bieber) [Loud Luxury Remix] | 2019-06-14 | Pop Remix | 37i9dQZF1DXcZDD7cfEKhW | pop | ⋯ |  6 | -2.634 | 1 | 0.0583 | 0.1020 | 0.00e+00 | 0.0653 | 0.518 | 122.036 | 194754 |\n",
       "| 0r7CVbZTWZgbTCYdfa2P31 | Memories - Dillon Francis Remix                       | Maroon 5     | 67 | 63rPSO264uRjW1X5E6cWv6 | Memories (Dillon Francis Remix)                       | 2019-12-13 | Pop Remix | 37i9dQZF1DXcZDD7cfEKhW | pop | ⋯ | 11 | -4.969 | 1 | 0.0373 | 0.0724 | 4.21e-03 | 0.3570 | 0.693 |  99.972 | 162600 |\n",
       "| 1z1Hg7Vb0AhHDiEmnDE79l | All the Time - Don Diablo Remix                       | Zara Larsson | 70 | 1HoSmj2eLcsrR0vE9gThr4 | All the Time (Don Diablo Remix)                       | 2019-07-05 | Pop Remix | 37i9dQZF1DXcZDD7cfEKhW | pop | ⋯ |  1 | -3.432 | 0 | 0.0742 | 0.0794 | 2.33e-05 | 0.1100 | 0.613 | 124.008 | 176616 |\n",
       "| ⋮ | ⋮ | ⋮ | ⋮ | ⋮ | ⋮ | ⋮ | ⋮ | ⋮ | ⋮ | ⋱ | ⋮ | ⋮ | ⋮ | ⋮ | ⋮ | ⋮ | ⋮ | ⋮ | ⋮ | ⋮ |\n",
       "| 7ImMqPP3Q1yfUHvsdn7wEo | Sweet Surrender - Radio Edit   | Starkillers  | 14 | 0ltWNSY9JgxoIZO4VzuCa6 | Sweet Surrender (Radio Edit) | 2014-04-21 | â™¥ EDM LOVE 2020 | 6jI1gFr6ANFtT8MmTvA2Ux | edm | ⋯ | 6 | -4.899 | 0 | 0.0481 | 0.108000 | 1.11e-06 | 0.150 | 0.4360 | 127.989 | 210112 |\n",
       "| 2m69mhnfQ1Oq6lGtXuYhgX | Only For You - Maor Levi Remix | Mat Zo       | 15 | 1fGrOkHnHJcStl14zNx8Jy | Only For You (Remixes)       | 2014-01-01 | â™¥ EDM LOVE 2020 | 6jI1gFr6ANFtT8MmTvA2Ux | edm | ⋯ | 2 | -3.361 | 1 | 0.1090 | 0.007920 | 1.27e-01 | 0.343 | 0.3080 | 128.008 | 367432 |\n",
       "| 29zWqhca3zt5NsckZqDf6c | Typhoon - Original Mix         | Julian Calor | 27 | 0X3mUOm6MhxR7PzxG95rAo | Typhoon/Storm                | 2014-03-03 | â™¥ EDM LOVE 2020 | 6jI1gFr6ANFtT8MmTvA2Ux | edm | ⋯ | 5 | -4.571 | 0 | 0.0385 | 0.000133 | 3.41e-01 | 0.742 | 0.0894 | 127.984 | 337500 |\n",
       "\n"
      ],
      "text/plain": [
       "      track_id              \n",
       "1     6f807x0ima9a1j3VPbc7VN\n",
       "2     0r7CVbZTWZgbTCYdfa2P31\n",
       "3     1z1Hg7Vb0AhHDiEmnDE79l\n",
       "⋮     ⋮                     \n",
       "32831 7ImMqPP3Q1yfUHvsdn7wEo\n",
       "32832 2m69mhnfQ1Oq6lGtXuYhgX\n",
       "32833 29zWqhca3zt5NsckZqDf6c\n",
       "      track_name                                            track_artist\n",
       "1     I Don't Care (with Justin Bieber) - Loud Luxury Remix Ed Sheeran  \n",
       "2     Memories - Dillon Francis Remix                       Maroon 5    \n",
       "3     All the Time - Don Diablo Remix                       Zara Larsson\n",
       "⋮     ⋮                                                     ⋮           \n",
       "32831 Sweet Surrender - Radio Edit                          Starkillers \n",
       "32832 Only For You - Maor Levi Remix                        Mat Zo      \n",
       "32833 Typhoon - Original Mix                                Julian Calor\n",
       "      track_popularity track_album_id        \n",
       "1     66               2oCs0DGTsRO98Gh5ZSl2Cx\n",
       "2     67               63rPSO264uRjW1X5E6cWv6\n",
       "3     70               1HoSmj2eLcsrR0vE9gThr4\n",
       "⋮     ⋮                ⋮                     \n",
       "32831 14               0ltWNSY9JgxoIZO4VzuCa6\n",
       "32832 15               1fGrOkHnHJcStl14zNx8Jy\n",
       "32833 27               0X3mUOm6MhxR7PzxG95rAo\n",
       "      track_album_name                                     \n",
       "1     I Don't Care (with Justin Bieber) [Loud Luxury Remix]\n",
       "2     Memories (Dillon Francis Remix)                      \n",
       "3     All the Time (Don Diablo Remix)                      \n",
       "⋮     ⋮                                                    \n",
       "32831 Sweet Surrender (Radio Edit)                         \n",
       "32832 Only For You (Remixes)                               \n",
       "32833 Typhoon/Storm                                        \n",
       "      track_album_release_date playlist_name     playlist_id           \n",
       "1     2019-06-14               Pop Remix         37i9dQZF1DXcZDD7cfEKhW\n",
       "2     2019-12-13               Pop Remix         37i9dQZF1DXcZDD7cfEKhW\n",
       "3     2019-07-05               Pop Remix         37i9dQZF1DXcZDD7cfEKhW\n",
       "⋮     ⋮                        ⋮                 ⋮                     \n",
       "32831 2014-04-21               â™¥ EDM LOVE 2020 6jI1gFr6ANFtT8MmTvA2Ux\n",
       "32832 2014-01-01               â™¥ EDM LOVE 2020 6jI1gFr6ANFtT8MmTvA2Ux\n",
       "32833 2014-03-03               â™¥ EDM LOVE 2020 6jI1gFr6ANFtT8MmTvA2Ux\n",
       "      playlist_genre ⋯ key loudness mode speechiness acousticness\n",
       "1     pop            ⋯  6  -2.634   1    0.0583      0.1020      \n",
       "2     pop            ⋯ 11  -4.969   1    0.0373      0.0724      \n",
       "3     pop            ⋯  1  -3.432   0    0.0742      0.0794      \n",
       "⋮     ⋮              ⋱ ⋮   ⋮        ⋮    ⋮           ⋮           \n",
       "32831 edm            ⋯ 6   -4.899   0    0.0481      0.108000    \n",
       "32832 edm            ⋯ 2   -3.361   1    0.1090      0.007920    \n",
       "32833 edm            ⋯ 5   -4.571   0    0.0385      0.000133    \n",
       "      instrumentalness liveness valence tempo   duration_ms\n",
       "1     0.00e+00         0.0653   0.518   122.036 194754     \n",
       "2     4.21e-03         0.3570   0.693    99.972 162600     \n",
       "3     2.33e-05         0.1100   0.613   124.008 176616     \n",
       "⋮     ⋮                ⋮        ⋮       ⋮       ⋮          \n",
       "32831 1.11e-06         0.150    0.4360  127.989 210112     \n",
       "32832 1.27e-01         0.343    0.3080  128.008 367432     \n",
       "32833 3.41e-01         0.742    0.0894  127.984 337500     "
      ]
     },
     "metadata": {},
     "output_type": "display_data"
    }
   ],
   "source": [
    "# Overview of the original dataset\n",
    "data"
   ]
  },
  {
   "cell_type": "markdown",
   "id": "5091c92b-4ba7-4342-90d5-f68eba09e49d",
   "metadata": {},
   "source": [
    "**Table 1.1** - Original dataset"
   ]
  },
  {
   "cell_type": "code",
   "execution_count": 7,
   "id": "c2fa5721-b60f-402a-bf00-2d575f1b0f00",
   "metadata": {
    "tags": []
   },
   "outputs": [
    {
     "data": {
      "text/html": [
       "<table class=\"dataframe\">\n",
       "<caption>A data.frame: 32833 × 12</caption>\n",
       "<thead>\n",
       "\t<tr><th scope=col>playlist_genre</th><th scope=col>danceability</th><th scope=col>energy</th><th scope=col>key</th><th scope=col>loudness</th><th scope=col>mode</th><th scope=col>speechiness</th><th scope=col>acousticness</th><th scope=col>instrumentalness</th><th scope=col>liveness</th><th scope=col>valence</th><th scope=col>tempo</th></tr>\n",
       "\t<tr><th scope=col>&lt;fct&gt;</th><th scope=col>&lt;dbl&gt;</th><th scope=col>&lt;dbl&gt;</th><th scope=col>&lt;int&gt;</th><th scope=col>&lt;dbl&gt;</th><th scope=col>&lt;int&gt;</th><th scope=col>&lt;dbl&gt;</th><th scope=col>&lt;dbl&gt;</th><th scope=col>&lt;dbl&gt;</th><th scope=col>&lt;dbl&gt;</th><th scope=col>&lt;dbl&gt;</th><th scope=col>&lt;dbl&gt;</th></tr>\n",
       "</thead>\n",
       "<tbody>\n",
       "\t<tr><td>pop</td><td>0.748</td><td>0.916</td><td> 6</td><td>-2.634</td><td>1</td><td>0.0583</td><td>0.1020</td><td>0.00e+00</td><td>0.0653</td><td>0.518</td><td>122.036</td></tr>\n",
       "\t<tr><td>pop</td><td>0.726</td><td>0.815</td><td>11</td><td>-4.969</td><td>1</td><td>0.0373</td><td>0.0724</td><td>4.21e-03</td><td>0.3570</td><td>0.693</td><td> 99.972</td></tr>\n",
       "\t<tr><td>pop</td><td>0.675</td><td>0.931</td><td> 1</td><td>-3.432</td><td>0</td><td>0.0742</td><td>0.0794</td><td>2.33e-05</td><td>0.1100</td><td>0.613</td><td>124.008</td></tr>\n",
       "\t<tr><td>⋮</td><td>⋮</td><td>⋮</td><td>⋮</td><td>⋮</td><td>⋮</td><td>⋮</td><td>⋮</td><td>⋮</td><td>⋮</td><td>⋮</td><td>⋮</td></tr>\n",
       "\t<tr><td>edm</td><td>0.529</td><td>0.821</td><td>6</td><td>-4.899</td><td>0</td><td>0.0481</td><td>0.108000</td><td>1.11e-06</td><td>0.150</td><td>0.4360</td><td>127.989</td></tr>\n",
       "\t<tr><td>edm</td><td>0.626</td><td>0.888</td><td>2</td><td>-3.361</td><td>1</td><td>0.1090</td><td>0.007920</td><td>1.27e-01</td><td>0.343</td><td>0.3080</td><td>128.008</td></tr>\n",
       "\t<tr><td>edm</td><td>0.603</td><td>0.884</td><td>5</td><td>-4.571</td><td>0</td><td>0.0385</td><td>0.000133</td><td>3.41e-01</td><td>0.742</td><td>0.0894</td><td>127.984</td></tr>\n",
       "</tbody>\n",
       "</table>\n"
      ],
      "text/latex": [
       "A data.frame: 32833 × 12\n",
       "\\begin{tabular}{llllllllllll}\n",
       " playlist\\_genre & danceability & energy & key & loudness & mode & speechiness & acousticness & instrumentalness & liveness & valence & tempo\\\\\n",
       " <fct> & <dbl> & <dbl> & <int> & <dbl> & <int> & <dbl> & <dbl> & <dbl> & <dbl> & <dbl> & <dbl>\\\\\n",
       "\\hline\n",
       "\t pop & 0.748 & 0.916 &  6 & -2.634 & 1 & 0.0583 & 0.1020 & 0.00e+00 & 0.0653 & 0.518 & 122.036\\\\\n",
       "\t pop & 0.726 & 0.815 & 11 & -4.969 & 1 & 0.0373 & 0.0724 & 4.21e-03 & 0.3570 & 0.693 &  99.972\\\\\n",
       "\t pop & 0.675 & 0.931 &  1 & -3.432 & 0 & 0.0742 & 0.0794 & 2.33e-05 & 0.1100 & 0.613 & 124.008\\\\\n",
       "\t ⋮ & ⋮ & ⋮ & ⋮ & ⋮ & ⋮ & ⋮ & ⋮ & ⋮ & ⋮ & ⋮ & ⋮\\\\\n",
       "\t edm & 0.529 & 0.821 & 6 & -4.899 & 0 & 0.0481 & 0.108000 & 1.11e-06 & 0.150 & 0.4360 & 127.989\\\\\n",
       "\t edm & 0.626 & 0.888 & 2 & -3.361 & 1 & 0.1090 & 0.007920 & 1.27e-01 & 0.343 & 0.3080 & 128.008\\\\\n",
       "\t edm & 0.603 & 0.884 & 5 & -4.571 & 0 & 0.0385 & 0.000133 & 3.41e-01 & 0.742 & 0.0894 & 127.984\\\\\n",
       "\\end{tabular}\n"
      ],
      "text/markdown": [
       "\n",
       "A data.frame: 32833 × 12\n",
       "\n",
       "| playlist_genre &lt;fct&gt; | danceability &lt;dbl&gt; | energy &lt;dbl&gt; | key &lt;int&gt; | loudness &lt;dbl&gt; | mode &lt;int&gt; | speechiness &lt;dbl&gt; | acousticness &lt;dbl&gt; | instrumentalness &lt;dbl&gt; | liveness &lt;dbl&gt; | valence &lt;dbl&gt; | tempo &lt;dbl&gt; |\n",
       "|---|---|---|---|---|---|---|---|---|---|---|---|\n",
       "| pop | 0.748 | 0.916 |  6 | -2.634 | 1 | 0.0583 | 0.1020 | 0.00e+00 | 0.0653 | 0.518 | 122.036 |\n",
       "| pop | 0.726 | 0.815 | 11 | -4.969 | 1 | 0.0373 | 0.0724 | 4.21e-03 | 0.3570 | 0.693 |  99.972 |\n",
       "| pop | 0.675 | 0.931 |  1 | -3.432 | 0 | 0.0742 | 0.0794 | 2.33e-05 | 0.1100 | 0.613 | 124.008 |\n",
       "| ⋮ | ⋮ | ⋮ | ⋮ | ⋮ | ⋮ | ⋮ | ⋮ | ⋮ | ⋮ | ⋮ | ⋮ |\n",
       "| edm | 0.529 | 0.821 | 6 | -4.899 | 0 | 0.0481 | 0.108000 | 1.11e-06 | 0.150 | 0.4360 | 127.989 |\n",
       "| edm | 0.626 | 0.888 | 2 | -3.361 | 1 | 0.1090 | 0.007920 | 1.27e-01 | 0.343 | 0.3080 | 128.008 |\n",
       "| edm | 0.603 | 0.884 | 5 | -4.571 | 0 | 0.0385 | 0.000133 | 3.41e-01 | 0.742 | 0.0894 | 127.984 |\n",
       "\n"
      ],
      "text/plain": [
       "      playlist_genre danceability energy key loudness mode speechiness\n",
       "1     pop            0.748        0.916   6  -2.634   1    0.0583     \n",
       "2     pop            0.726        0.815  11  -4.969   1    0.0373     \n",
       "3     pop            0.675        0.931   1  -3.432   0    0.0742     \n",
       "⋮     ⋮              ⋮            ⋮      ⋮   ⋮        ⋮    ⋮          \n",
       "32831 edm            0.529        0.821  6   -4.899   0    0.0481     \n",
       "32832 edm            0.626        0.888  2   -3.361   1    0.1090     \n",
       "32833 edm            0.603        0.884  5   -4.571   0    0.0385     \n",
       "      acousticness instrumentalness liveness valence tempo  \n",
       "1     0.1020       0.00e+00         0.0653   0.518   122.036\n",
       "2     0.0724       4.21e-03         0.3570   0.693    99.972\n",
       "3     0.0794       2.33e-05         0.1100   0.613   124.008\n",
       "⋮     ⋮            ⋮                ⋮        ⋮       ⋮      \n",
       "32831 0.108000     1.11e-06         0.150    0.4360  127.989\n",
       "32832 0.007920     1.27e-01         0.343    0.3080  128.008\n",
       "32833 0.000133     3.41e-01         0.742    0.0894  127.984"
      ]
     },
     "metadata": {},
     "output_type": "display_data"
    }
   ],
   "source": [
    "# Tidy the data, only keep the releveant columns\n",
    "tidy_data <- data |>\n",
    "            select(playlist_genre, danceability:tempo)\n",
    "# Change datatype of match_result from character to factor in order for the next few functions to work \n",
    "# and successfully classify if it's a win or lose\n",
    "tidy_data$playlist_genre <- as.factor(tidy_data$playlist_genre)\n",
    "#TEMPORARY TAKE ONLY 5000 ROWS SO THE CODE RUNS FASTER, USE ALL THE DATA LATER\n",
    "#tidy_data <- initial_split(tidy_data, prop = 0.15, strata = playlist_genre)|>\n",
    "#               training()\n",
    "tidy_data"
   ]
  },
  {
   "cell_type": "markdown",
   "id": "29fa7a5c-67d4-4a44-870e-72701b63aeba",
   "metadata": {},
   "source": [
    "**Table 1.2** - Tidy dataset"
   ]
  },
  {
   "cell_type": "code",
   "execution_count": 8,
   "id": "83716df3-b68e-40e9-b864-75741658cb9b",
   "metadata": {
    "tags": []
   },
   "outputs": [],
   "source": [
    "# Split the data into training and testing sets at 75:25 ratio\n",
    "\n",
    "set.seed(1) # Set the seed for reproducability\n",
    "split_data <- initial_split(tidy_data, prop = 0.75, strata = playlist_genre)\n",
    "\n",
    "# training set\n",
    "train_data <- training(split_data)\n",
    "\n",
    "# testing set\n",
    "test_data <- testing(split_data)"
   ]
  },
  {
   "cell_type": "code",
   "execution_count": 9,
   "id": "c9f120ff-652b-4b02-8913-b90fafa92bd6",
   "metadata": {
    "tags": []
   },
   "outputs": [
    {
     "data": {
      "text/html": [
       "<table class=\"dataframe\">\n",
       "<caption>A data.frame: 1 × 12</caption>\n",
       "<thead>\n",
       "\t<tr><th scope=col>playlist_genre</th><th scope=col>danceability</th><th scope=col>energy</th><th scope=col>key</th><th scope=col>loudness</th><th scope=col>mode</th><th scope=col>speechiness</th><th scope=col>acousticness</th><th scope=col>instrumentalness</th><th scope=col>liveness</th><th scope=col>valence</th><th scope=col>tempo</th></tr>\n",
       "\t<tr><th scope=col>&lt;int&gt;</th><th scope=col>&lt;int&gt;</th><th scope=col>&lt;int&gt;</th><th scope=col>&lt;int&gt;</th><th scope=col>&lt;int&gt;</th><th scope=col>&lt;int&gt;</th><th scope=col>&lt;int&gt;</th><th scope=col>&lt;int&gt;</th><th scope=col>&lt;int&gt;</th><th scope=col>&lt;int&gt;</th><th scope=col>&lt;int&gt;</th><th scope=col>&lt;int&gt;</th></tr>\n",
       "</thead>\n",
       "<tbody>\n",
       "\t<tr><td>0</td><td>0</td><td>0</td><td>0</td><td>0</td><td>0</td><td>0</td><td>0</td><td>0</td><td>0</td><td>0</td><td>0</td></tr>\n",
       "</tbody>\n",
       "</table>\n"
      ],
      "text/latex": [
       "A data.frame: 1 × 12\n",
       "\\begin{tabular}{llllllllllll}\n",
       " playlist\\_genre & danceability & energy & key & loudness & mode & speechiness & acousticness & instrumentalness & liveness & valence & tempo\\\\\n",
       " <int> & <int> & <int> & <int> & <int> & <int> & <int> & <int> & <int> & <int> & <int> & <int>\\\\\n",
       "\\hline\n",
       "\t 0 & 0 & 0 & 0 & 0 & 0 & 0 & 0 & 0 & 0 & 0 & 0\\\\\n",
       "\\end{tabular}\n"
      ],
      "text/markdown": [
       "\n",
       "A data.frame: 1 × 12\n",
       "\n",
       "| playlist_genre &lt;int&gt; | danceability &lt;int&gt; | energy &lt;int&gt; | key &lt;int&gt; | loudness &lt;int&gt; | mode &lt;int&gt; | speechiness &lt;int&gt; | acousticness &lt;int&gt; | instrumentalness &lt;int&gt; | liveness &lt;int&gt; | valence &lt;int&gt; | tempo &lt;int&gt; |\n",
       "|---|---|---|---|---|---|---|---|---|---|---|---|\n",
       "| 0 | 0 | 0 | 0 | 0 | 0 | 0 | 0 | 0 | 0 | 0 | 0 |\n",
       "\n"
      ],
      "text/plain": [
       "  playlist_genre danceability energy key loudness mode speechiness acousticness\n",
       "1 0              0            0      0   0        0    0           0           \n",
       "  instrumentalness liveness valence tempo\n",
       "1 0                0        0       0    "
      ]
     },
     "metadata": {},
     "output_type": "display_data"
    }
   ],
   "source": [
    "# Preliminary data analysis\n",
    "\n",
    "#Check number of missing values in each column of the table in the training data\n",
    "num_na <- train_data|> \n",
    "            summarize_all(~sum(is.na(.))) \n",
    "num_na"
   ]
  },
  {
   "cell_type": "markdown",
   "id": "d3f78389-a652-45cf-ad1d-29cc3e29dccf",
   "metadata": {},
   "source": [
    "**Table 1.3** - Preliminary data analysis"
   ]
  },
  {
   "cell_type": "code",
   "execution_count": 10,
   "id": "9a4f6abd-8d0e-4e9a-9cdc-e3f2d1223fb3",
   "metadata": {
    "tags": []
   },
   "outputs": [],
   "source": [
    "# Preliminary data visualization"
   ]
  },
  {
   "cell_type": "markdown",
   "id": "5375d8c2-a1da-4aa7-b06e-d8a4abbc3161",
   "metadata": {},
   "source": [
    "**Table 1.4** - Preliminary data "
   ]
  },
  {
   "cell_type": "code",
   "execution_count": 11,
   "id": "6968a0c9-1fb3-4349-b7d8-1ea95bcb0c90",
   "metadata": {
    "tags": []
   },
   "outputs": [],
   "source": [
    "# Building the classifier/regressor \n",
    "# Scale predictors, use standard recipe, setup knn_spec to tune for best k value\n",
    "data_recipe <- recipe(playlist_genre ~ ., data = train_data) |>\n",
    "  step_scale(all_predictors()) |>\n",
    "  step_center(all_predictors())\n",
    "\n",
    "knn_spec <- nearest_neighbor(weight_func = \"rectangular\", \n",
    "                             neighbors = tune()) |>\n",
    "  set_engine(\"kknn\") |>\n",
    "  set_mode(\"classification\")"
   ]
  },
  {
   "cell_type": "code",
   "execution_count": 12,
   "id": "49db1d7f-d40b-4a1d-a77c-d2674cc6c410",
   "metadata": {
    "tags": []
   },
   "outputs": [],
   "source": [
    "#trying 15 different k values, count by every 10 from 1 to 51\n",
    "\n",
    "set.seed(1)\n",
    "\n",
    "k_vals <- tibble(neighbors = seq(from = 1, to = 51, by = 10))\n",
    "\n",
    "data_vfold <- vfold_cv(train_data, v = 5, strata = playlist_genre)\n",
    "\n",
    "knn_results <- workflow() |>\n",
    "  add_recipe(data_recipe) |>\n",
    "  add_model(knn_spec) |>\n",
    "  tune_grid(resamples = data_vfold, grid = k_vals) |>\n",
    "  collect_metrics() \n",
    "\n",
    "accuracies <- knn_results |>\n",
    "  filter(.metric == \"accuracy\")"
   ]
  },
  {
   "cell_type": "code",
   "execution_count": 14,
   "id": "bcd925c3-042f-4a0e-8eda-90d1bb43316a",
   "metadata": {
    "tags": []
   },
   "outputs": [
    {
     "data": {
      "text/html": [
       "<table class=\"dataframe\">\n",
       "<caption>A tibble: 6 × 7</caption>\n",
       "<thead>\n",
       "\t<tr><th scope=col>neighbors</th><th scope=col>.metric</th><th scope=col>.estimator</th><th scope=col>mean</th><th scope=col>n</th><th scope=col>std_err</th><th scope=col>.config</th></tr>\n",
       "\t<tr><th scope=col>&lt;dbl&gt;</th><th scope=col>&lt;chr&gt;</th><th scope=col>&lt;chr&gt;</th><th scope=col>&lt;dbl&gt;</th><th scope=col>&lt;int&gt;</th><th scope=col>&lt;dbl&gt;</th><th scope=col>&lt;chr&gt;</th></tr>\n",
       "</thead>\n",
       "<tbody>\n",
       "\t<tr><td>41</td><td>accuracy</td><td>multiclass</td><td>0.4849506</td><td>5</td><td>0.005409901</td><td>Preprocessor1_Model5</td></tr>\n",
       "\t<tr><td>51</td><td>accuracy</td><td>multiclass</td><td>0.4847882</td><td>5</td><td>0.005032700</td><td>Preprocessor1_Model6</td></tr>\n",
       "\t<tr><td>31</td><td>accuracy</td><td>multiclass</td><td>0.4843824</td><td>5</td><td>0.005472263</td><td>Preprocessor1_Model4</td></tr>\n",
       "\t<tr><td>21</td><td>accuracy</td><td>multiclass</td><td>0.4793856</td><td>5</td><td>0.005437704</td><td>Preprocessor1_Model3</td></tr>\n",
       "\t<tr><td>11</td><td>accuracy</td><td>multiclass</td><td>0.4730514</td><td>5</td><td>0.003223286</td><td>Preprocessor1_Model2</td></tr>\n",
       "\t<tr><td> 1</td><td>accuracy</td><td>multiclass</td><td>0.4209050</td><td>5</td><td>0.003307323</td><td>Preprocessor1_Model1</td></tr>\n",
       "</tbody>\n",
       "</table>\n"
      ],
      "text/latex": [
       "A tibble: 6 × 7\n",
       "\\begin{tabular}{lllllll}\n",
       " neighbors & .metric & .estimator & mean & n & std\\_err & .config\\\\\n",
       " <dbl> & <chr> & <chr> & <dbl> & <int> & <dbl> & <chr>\\\\\n",
       "\\hline\n",
       "\t 41 & accuracy & multiclass & 0.4849506 & 5 & 0.005409901 & Preprocessor1\\_Model5\\\\\n",
       "\t 51 & accuracy & multiclass & 0.4847882 & 5 & 0.005032700 & Preprocessor1\\_Model6\\\\\n",
       "\t 31 & accuracy & multiclass & 0.4843824 & 5 & 0.005472263 & Preprocessor1\\_Model4\\\\\n",
       "\t 21 & accuracy & multiclass & 0.4793856 & 5 & 0.005437704 & Preprocessor1\\_Model3\\\\\n",
       "\t 11 & accuracy & multiclass & 0.4730514 & 5 & 0.003223286 & Preprocessor1\\_Model2\\\\\n",
       "\t  1 & accuracy & multiclass & 0.4209050 & 5 & 0.003307323 & Preprocessor1\\_Model1\\\\\n",
       "\\end{tabular}\n"
      ],
      "text/markdown": [
       "\n",
       "A tibble: 6 × 7\n",
       "\n",
       "| neighbors &lt;dbl&gt; | .metric &lt;chr&gt; | .estimator &lt;chr&gt; | mean &lt;dbl&gt; | n &lt;int&gt; | std_err &lt;dbl&gt; | .config &lt;chr&gt; |\n",
       "|---|---|---|---|---|---|---|\n",
       "| 41 | accuracy | multiclass | 0.4849506 | 5 | 0.005409901 | Preprocessor1_Model5 |\n",
       "| 51 | accuracy | multiclass | 0.4847882 | 5 | 0.005032700 | Preprocessor1_Model6 |\n",
       "| 31 | accuracy | multiclass | 0.4843824 | 5 | 0.005472263 | Preprocessor1_Model4 |\n",
       "| 21 | accuracy | multiclass | 0.4793856 | 5 | 0.005437704 | Preprocessor1_Model3 |\n",
       "| 11 | accuracy | multiclass | 0.4730514 | 5 | 0.003223286 | Preprocessor1_Model2 |\n",
       "|  1 | accuracy | multiclass | 0.4209050 | 5 | 0.003307323 | Preprocessor1_Model1 |\n",
       "\n"
      ],
      "text/plain": [
       "  neighbors .metric  .estimator mean      n std_err     .config             \n",
       "1 41        accuracy multiclass 0.4849506 5 0.005409901 Preprocessor1_Model5\n",
       "2 51        accuracy multiclass 0.4847882 5 0.005032700 Preprocessor1_Model6\n",
       "3 31        accuracy multiclass 0.4843824 5 0.005472263 Preprocessor1_Model4\n",
       "4 21        accuracy multiclass 0.4793856 5 0.005437704 Preprocessor1_Model3\n",
       "5 11        accuracy multiclass 0.4730514 5 0.003223286 Preprocessor1_Model2\n",
       "6  1        accuracy multiclass 0.4209050 5 0.003307323 Preprocessor1_Model1"
      ]
     },
     "metadata": {},
     "output_type": "display_data"
    }
   ],
   "source": [
    "# Accuracy table for different k values\n",
    "accuracies |>  arrange(desc(mean))"
   ]
  },
  {
   "cell_type": "markdown",
   "id": "1018a396-58e1-4cfc-9f3a-9dd3f20d12b4",
   "metadata": {},
   "source": [
    "**Table 2.1** - Accuracy of the different k values"
   ]
  },
  {
   "cell_type": "code",
   "execution_count": 15,
   "id": "332af50e-d711-4d99-bb28-38ca4475b2f1",
   "metadata": {
    "tags": []
   },
   "outputs": [
    {
     "data": {
      "application/pdf": "[encoded data removed]",
      "image/jpeg": "[encoded data removed]",
      "image/png": "[encoded data removed]",
      "image/svg+xml": [
       "<?xml version=\"1.0\" encoding=\"UTF-8\"?>\n",
       "<svg xmlns=\"http://www.w3.org/2000/svg\" xmlns:xlink=\"http://www.w3.org/1999/xlink\" width=\"504pt\" height=\"504pt\" viewBox=\"0 0 504 504\" version=\"1.1\">\n",
       "<defs>\n",
       "<g>\n",
       "<symbol overflow=\"visible\" id=\"glyph0-0\">\n",
       "<path style=\"stroke:none;\" d=\"M 0.40625 0 L 0.40625 -8 L 3.59375 -8 L 3.59375 0 Z M 0.796875 -0.40625 L 3.1875 -0.40625 L 3.1875 -7.59375 L 0.796875 -7.59375 Z M 0.796875 -0.40625 \"/>\n",
       "</symbol>\n",
       "<symbol overflow=\"visible\" id=\"glyph0-1\">\n",
       "<path style=\"stroke:none;\" d=\"M 6.203125 -4.125 C 6.203125 -3.332031 6.125 -2.664062 5.96875 -2.125 C 5.820312 -1.582031 5.617188 -1.144531 5.359375 -0.8125 C 5.097656 -0.476562 4.789062 -0.238281 4.4375 -0.09375 C 4.09375 0.0507812 3.722656 0.125 3.328125 0.125 C 2.921875 0.125 2.539062 0.0507812 2.1875 -0.09375 C 1.84375 -0.238281 1.539062 -0.476562 1.28125 -0.8125 C 1.03125 -1.144531 0.832031 -1.582031 0.6875 -2.125 C 0.539062 -2.664062 0.46875 -3.332031 0.46875 -4.125 C 0.46875 -4.957031 0.539062 -5.644531 0.6875 -6.1875 C 0.832031 -6.738281 1.035156 -7.175781 1.296875 -7.5 C 1.554688 -7.820312 1.859375 -8.046875 2.203125 -8.171875 C 2.554688 -8.304688 2.941406 -8.375 3.359375 -8.375 C 3.753906 -8.375 4.125 -8.304688 4.46875 -8.171875 C 4.8125 -8.046875 5.113281 -7.820312 5.375 -7.5 C 5.632812 -7.175781 5.835938 -6.738281 5.984375 -6.1875 C 6.128906 -5.644531 6.203125 -4.957031 6.203125 -4.125 Z M 5.140625 -4.125 C 5.140625 -4.78125 5.097656 -5.328125 5.015625 -5.765625 C 4.941406 -6.203125 4.828125 -6.550781 4.671875 -6.8125 C 4.515625 -7.070312 4.328125 -7.253906 4.109375 -7.359375 C 3.890625 -7.472656 3.640625 -7.53125 3.359375 -7.53125 C 3.054688 -7.53125 2.789062 -7.472656 2.5625 -7.359375 C 2.34375 -7.253906 2.15625 -7.070312 2 -6.8125 C 1.84375 -6.550781 1.722656 -6.203125 1.640625 -5.765625 C 1.566406 -5.328125 1.53125 -4.78125 1.53125 -4.125 C 1.53125 -3.5 1.570312 -2.96875 1.65625 -2.53125 C 1.738281 -2.09375 1.851562 -1.742188 2 -1.484375 C 2.15625 -1.222656 2.34375 -1.035156 2.5625 -0.921875 C 2.789062 -0.804688 3.046875 -0.75 3.328125 -0.75 C 3.609375 -0.75 3.859375 -0.804688 4.078125 -0.921875 C 4.304688 -1.035156 4.492188 -1.222656 4.640625 -1.484375 C 4.796875 -1.742188 4.914062 -2.09375 5 -2.53125 C 5.09375 -2.96875 5.140625 -3.5 5.140625 -4.125 Z M 5.140625 -4.125 \"/>\n",
       "</symbol>\n",
       "<symbol overflow=\"visible\" id=\"glyph0-2\">\n",
       "<path style=\"stroke:none;\" d=\"M 1.09375 0 L 1.09375 -1.28125 L 2.234375 -1.28125 L 2.234375 0 Z M 1.09375 0 \"/>\n",
       "</symbol>\n",
       "<symbol overflow=\"visible\" id=\"glyph0-3\">\n",
       "<path style=\"stroke:none;\" d=\"M 5.15625 -1.875 L 5.15625 0 L 4.171875 0 L 4.171875 -1.875 L 0.28125 -1.875 L 0.28125 -2.6875 L 4.0625 -8.25 L 5.15625 -8.25 L 5.15625 -2.703125 L 6.328125 -2.703125 L 6.328125 -1.875 Z M 4.171875 -7.0625 C 4.160156 -7.039062 4.140625 -7.003906 4.109375 -6.953125 C 4.078125 -6.898438 4.039062 -6.835938 4 -6.765625 C 3.957031 -6.691406 3.914062 -6.617188 3.875 -6.546875 C 3.84375 -6.472656 3.8125 -6.414062 3.78125 -6.375 L 1.65625 -3.25 C 1.632812 -3.21875 1.601562 -3.175781 1.5625 -3.125 C 1.53125 -3.070312 1.492188 -3.019531 1.453125 -2.96875 C 1.421875 -2.914062 1.382812 -2.863281 1.34375 -2.8125 C 1.300781 -2.769531 1.269531 -2.734375 1.25 -2.703125 L 4.171875 -2.703125 Z M 4.171875 -7.0625 \"/>\n",
       "</symbol>\n",
       "<symbol overflow=\"visible\" id=\"glyph0-4\">\n",
       "<path style=\"stroke:none;\" d=\"M 0.609375 0 L 0.609375 -0.75 C 0.804688 -1.207031 1.046875 -1.609375 1.328125 -1.953125 C 1.617188 -2.304688 1.921875 -2.625 2.234375 -2.90625 C 2.554688 -3.1875 2.867188 -3.445312 3.171875 -3.6875 C 3.484375 -3.9375 3.765625 -4.179688 4.015625 -4.421875 C 4.265625 -4.660156 4.46875 -4.910156 4.625 -5.171875 C 4.78125 -5.441406 4.859375 -5.742188 4.859375 -6.078125 C 4.859375 -6.316406 4.820312 -6.523438 4.75 -6.703125 C 4.675781 -6.878906 4.570312 -7.023438 4.4375 -7.140625 C 4.3125 -7.265625 4.15625 -7.359375 3.96875 -7.421875 C 3.78125 -7.484375 3.578125 -7.515625 3.359375 -7.515625 C 3.140625 -7.515625 2.9375 -7.484375 2.75 -7.421875 C 2.570312 -7.367188 2.410156 -7.28125 2.265625 -7.15625 C 2.117188 -7.039062 2 -6.894531 1.90625 -6.71875 C 1.8125 -6.550781 1.753906 -6.351562 1.734375 -6.125 L 0.65625 -6.21875 C 0.6875 -6.507812 0.765625 -6.785156 0.890625 -7.046875 C 1.023438 -7.316406 1.203125 -7.550781 1.421875 -7.75 C 1.648438 -7.945312 1.921875 -8.097656 2.234375 -8.203125 C 2.554688 -8.316406 2.929688 -8.375 3.359375 -8.375 C 3.765625 -8.375 4.125 -8.328125 4.4375 -8.234375 C 4.757812 -8.140625 5.03125 -7.992188 5.25 -7.796875 C 5.476562 -7.609375 5.648438 -7.375 5.765625 -7.09375 C 5.878906 -6.8125 5.9375 -6.488281 5.9375 -6.125 C 5.9375 -5.84375 5.882812 -5.578125 5.78125 -5.328125 C 5.6875 -5.078125 5.554688 -4.835938 5.390625 -4.609375 C 5.222656 -4.378906 5.03125 -4.160156 4.8125 -3.953125 C 4.59375 -3.742188 4.363281 -3.535156 4.125 -3.328125 C 3.894531 -3.128906 3.65625 -2.929688 3.40625 -2.734375 C 3.164062 -2.535156 2.9375 -2.335938 2.71875 -2.140625 C 2.507812 -1.941406 2.320312 -1.738281 2.15625 -1.53125 C 1.988281 -1.332031 1.859375 -1.117188 1.765625 -0.890625 L 6.078125 -0.890625 L 6.078125 0 Z M 0.609375 0 \"/>\n",
       "</symbol>\n",
       "<symbol overflow=\"visible\" id=\"glyph0-5\">\n",
       "<path style=\"stroke:none;\" d=\"M 6.140625 -2.703125 C 6.140625 -2.285156 6.082031 -1.90625 5.96875 -1.5625 C 5.851562 -1.21875 5.679688 -0.921875 5.453125 -0.671875 C 5.234375 -0.421875 4.957031 -0.222656 4.625 -0.078125 C 4.289062 0.0546875 3.910156 0.125 3.484375 0.125 C 3.003906 0.125 2.582031 0.03125 2.21875 -0.15625 C 1.863281 -0.34375 1.566406 -0.609375 1.328125 -0.953125 C 1.085938 -1.296875 0.90625 -1.71875 0.78125 -2.21875 C 0.664062 -2.726562 0.609375 -3.300781 0.609375 -3.9375 C 0.609375 -4.675781 0.675781 -5.320312 0.8125 -5.875 C 0.945312 -6.425781 1.140625 -6.882812 1.390625 -7.25 C 1.648438 -7.625 1.960938 -7.90625 2.328125 -8.09375 C 2.691406 -8.28125 3.101562 -8.375 3.5625 -8.375 C 3.84375 -8.375 4.101562 -8.34375 4.34375 -8.28125 C 4.59375 -8.226562 4.816406 -8.132812 5.015625 -8 C 5.222656 -7.875 5.398438 -7.703125 5.546875 -7.484375 C 5.703125 -7.273438 5.828125 -7.015625 5.921875 -6.703125 L 4.90625 -6.515625 C 4.800781 -6.867188 4.628906 -7.125 4.390625 -7.28125 C 4.148438 -7.445312 3.867188 -7.53125 3.546875 -7.53125 C 3.265625 -7.53125 3.003906 -7.457031 2.765625 -7.3125 C 2.535156 -7.175781 2.335938 -6.972656 2.171875 -6.703125 C 2.003906 -6.429688 1.875 -6.085938 1.78125 -5.671875 C 1.695312 -5.265625 1.65625 -4.789062 1.65625 -4.25 C 1.851562 -4.601562 2.125 -4.875 2.46875 -5.0625 C 2.8125 -5.25 3.207031 -5.34375 3.65625 -5.34375 C 4.03125 -5.34375 4.367188 -5.28125 4.671875 -5.15625 C 4.984375 -5.03125 5.25 -4.851562 5.46875 -4.625 C 5.6875 -4.40625 5.851562 -4.128906 5.96875 -3.796875 C 6.082031 -3.472656 6.140625 -3.109375 6.140625 -2.703125 Z M 5.078125 -2.65625 C 5.078125 -2.9375 5.039062 -3.191406 4.96875 -3.421875 C 4.894531 -3.660156 4.785156 -3.859375 4.640625 -4.015625 C 4.503906 -4.179688 4.332031 -4.304688 4.125 -4.390625 C 3.925781 -4.484375 3.6875 -4.53125 3.40625 -4.53125 C 3.21875 -4.53125 3.023438 -4.5 2.828125 -4.4375 C 2.628906 -4.382812 2.453125 -4.289062 2.296875 -4.15625 C 2.140625 -4.03125 2.007812 -3.863281 1.90625 -3.65625 C 1.8125 -3.457031 1.765625 -3.207031 1.765625 -2.90625 C 1.765625 -2.601562 1.800781 -2.316406 1.875 -2.046875 C 1.957031 -1.785156 2.070312 -1.554688 2.21875 -1.359375 C 2.363281 -1.171875 2.539062 -1.019531 2.75 -0.90625 C 2.957031 -0.789062 3.191406 -0.734375 3.453125 -0.734375 C 3.703125 -0.734375 3.925781 -0.773438 4.125 -0.859375 C 4.332031 -0.953125 4.503906 -1.082031 4.640625 -1.25 C 4.785156 -1.414062 4.894531 -1.613281 4.96875 -1.84375 C 5.039062 -2.082031 5.078125 -2.351562 5.078125 -2.65625 Z M 5.078125 -2.65625 \"/>\n",
       "</symbol>\n",
       "<symbol overflow=\"visible\" id=\"glyph0-6\">\n",
       "<path style=\"stroke:none;\" d=\"M 6.15625 -2.296875 C 6.15625 -1.953125 6.097656 -1.628906 5.984375 -1.328125 C 5.867188 -1.035156 5.695312 -0.78125 5.46875 -0.5625 C 5.25 -0.351562 4.957031 -0.1875 4.59375 -0.0625 C 4.238281 0.0625 3.820312 0.125 3.34375 0.125 C 2.851562 0.125 2.429688 0.0625 2.078125 -0.0625 C 1.722656 -0.1875 1.429688 -0.351562 1.203125 -0.5625 C 0.972656 -0.78125 0.800781 -1.035156 0.6875 -1.328125 C 0.570312 -1.617188 0.515625 -1.941406 0.515625 -2.296875 C 0.515625 -2.597656 0.5625 -2.863281 0.65625 -3.09375 C 0.75 -3.332031 0.875 -3.535156 1.03125 -3.703125 C 1.1875 -3.867188 1.363281 -4.003906 1.5625 -4.109375 C 1.757812 -4.210938 1.960938 -4.28125 2.171875 -4.3125 L 2.171875 -4.34375 C 1.941406 -4.394531 1.734375 -4.476562 1.546875 -4.59375 C 1.367188 -4.71875 1.21875 -4.863281 1.09375 -5.03125 C 0.96875 -5.207031 0.875 -5.398438 0.8125 -5.609375 C 0.75 -5.816406 0.71875 -6.035156 0.71875 -6.265625 C 0.71875 -6.554688 0.769531 -6.828125 0.875 -7.078125 C 0.988281 -7.335938 1.15625 -7.5625 1.375 -7.75 C 1.59375 -7.945312 1.863281 -8.097656 2.1875 -8.203125 C 2.507812 -8.316406 2.882812 -8.375 3.3125 -8.375 C 3.757812 -8.375 4.148438 -8.316406 4.484375 -8.203125 C 4.816406 -8.097656 5.085938 -7.945312 5.296875 -7.75 C 5.515625 -7.550781 5.675781 -7.320312 5.78125 -7.0625 C 5.894531 -6.8125 5.953125 -6.539062 5.953125 -6.25 C 5.953125 -6.019531 5.914062 -5.800781 5.84375 -5.59375 C 5.78125 -5.394531 5.6875 -5.207031 5.5625 -5.03125 C 5.445312 -4.863281 5.296875 -4.71875 5.109375 -4.59375 C 4.929688 -4.476562 4.722656 -4.398438 4.484375 -4.359375 L 4.484375 -4.328125 C 4.722656 -4.285156 4.941406 -4.210938 5.140625 -4.109375 C 5.347656 -4.015625 5.523438 -3.878906 5.671875 -3.703125 C 5.816406 -3.535156 5.929688 -3.332031 6.015625 -3.09375 C 6.109375 -2.863281 6.15625 -2.597656 6.15625 -2.296875 Z M 4.859375 -6.1875 C 4.859375 -6.394531 4.828125 -6.582031 4.765625 -6.75 C 4.710938 -6.925781 4.625 -7.078125 4.5 -7.203125 C 4.382812 -7.328125 4.226562 -7.421875 4.03125 -7.484375 C 3.84375 -7.554688 3.601562 -7.59375 3.3125 -7.59375 C 3.039062 -7.59375 2.804688 -7.554688 2.609375 -7.484375 C 2.421875 -7.421875 2.265625 -7.328125 2.140625 -7.203125 C 2.015625 -7.078125 1.925781 -6.925781 1.875 -6.75 C 1.820312 -6.582031 1.796875 -6.394531 1.796875 -6.1875 C 1.796875 -6.03125 1.816406 -5.863281 1.859375 -5.6875 C 1.898438 -5.519531 1.976562 -5.363281 2.09375 -5.21875 C 2.207031 -5.082031 2.363281 -4.96875 2.5625 -4.875 C 2.757812 -4.78125 3.015625 -4.734375 3.328125 -4.734375 C 3.660156 -4.734375 3.925781 -4.78125 4.125 -4.875 C 4.332031 -4.96875 4.488281 -5.082031 4.59375 -5.21875 C 4.695312 -5.363281 4.765625 -5.519531 4.796875 -5.6875 C 4.835938 -5.863281 4.859375 -6.03125 4.859375 -6.1875 Z M 5.0625 -2.40625 C 5.0625 -2.601562 5.03125 -2.796875 4.96875 -2.984375 C 4.914062 -3.171875 4.820312 -3.332031 4.6875 -3.46875 C 4.5625 -3.613281 4.382812 -3.726562 4.15625 -3.8125 C 3.9375 -3.90625 3.65625 -3.953125 3.3125 -3.953125 C 3.007812 -3.953125 2.75 -3.90625 2.53125 -3.8125 C 2.3125 -3.726562 2.132812 -3.613281 2 -3.46875 C 1.863281 -3.320312 1.765625 -3.15625 1.703125 -2.96875 C 1.640625 -2.78125 1.609375 -2.582031 1.609375 -2.375 C 1.609375 -2.125 1.640625 -1.894531 1.703125 -1.6875 C 1.765625 -1.476562 1.863281 -1.296875 2 -1.140625 C 2.132812 -0.992188 2.3125 -0.878906 2.53125 -0.796875 C 2.757812 -0.710938 3.035156 -0.671875 3.359375 -0.671875 C 3.671875 -0.671875 3.9375 -0.710938 4.15625 -0.796875 C 4.375 -0.878906 4.550781 -0.992188 4.6875 -1.140625 C 4.820312 -1.296875 4.914062 -1.476562 4.96875 -1.6875 C 5.03125 -1.90625 5.0625 -2.144531 5.0625 -2.40625 Z M 5.0625 -2.40625 \"/>\n",
       "</symbol>\n",
       "<symbol overflow=\"visible\" id=\"glyph0-7\">\n",
       "<path style=\"stroke:none;\" d=\"M 0.921875 0 L 0.921875 -0.890625 L 3.015625 -0.890625 L 3.015625 -7.25 L 1.15625 -5.921875 L 1.15625 -6.921875 L 3.109375 -8.25 L 4.078125 -8.25 L 4.078125 -0.890625 L 6.09375 -0.890625 L 6.09375 0 Z M 0.921875 0 \"/>\n",
       "</symbol>\n",
       "<symbol overflow=\"visible\" id=\"glyph0-8\">\n",
       "<path style=\"stroke:none;\" d=\"M 6.140625 -2.28125 C 6.140625 -1.90625 6.078125 -1.566406 5.953125 -1.265625 C 5.835938 -0.972656 5.660156 -0.722656 5.421875 -0.515625 C 5.179688 -0.304688 4.882812 -0.144531 4.53125 -0.03125 C 4.1875 0.0703125 3.789062 0.125 3.34375 0.125 C 2.832031 0.125 2.398438 0.0625 2.046875 -0.0625 C 1.703125 -0.195312 1.414062 -0.367188 1.1875 -0.578125 C 0.957031 -0.785156 0.785156 -1.019531 0.671875 -1.28125 C 0.566406 -1.550781 0.492188 -1.832031 0.453125 -2.125 L 1.546875 -2.21875 C 1.578125 -2 1.632812 -1.800781 1.71875 -1.625 C 1.800781 -1.445312 1.914062 -1.289062 2.0625 -1.15625 C 2.207031 -1.03125 2.382812 -0.929688 2.59375 -0.859375 C 2.800781 -0.785156 3.050781 -0.75 3.34375 -0.75 C 3.875 -0.75 4.289062 -0.878906 4.59375 -1.140625 C 4.894531 -1.410156 5.046875 -1.800781 5.046875 -2.3125 C 5.046875 -2.613281 4.976562 -2.859375 4.84375 -3.046875 C 4.707031 -3.234375 4.539062 -3.378906 4.34375 -3.484375 C 4.144531 -3.585938 3.925781 -3.65625 3.6875 -3.6875 C 3.445312 -3.726562 3.226562 -3.75 3.03125 -3.75 L 2.4375 -3.75 L 2.4375 -4.65625 L 3.015625 -4.65625 C 3.210938 -4.65625 3.414062 -4.675781 3.625 -4.71875 C 3.84375 -4.757812 4.039062 -4.832031 4.21875 -4.9375 C 4.394531 -5.050781 4.539062 -5.195312 4.65625 -5.375 C 4.769531 -5.5625 4.828125 -5.796875 4.828125 -6.078125 C 4.828125 -6.523438 4.695312 -6.875 4.4375 -7.125 C 4.1875 -7.382812 3.800781 -7.515625 3.28125 -7.515625 C 2.820312 -7.515625 2.445312 -7.394531 2.15625 -7.15625 C 1.875 -6.914062 1.707031 -6.578125 1.65625 -6.140625 L 0.59375 -6.234375 C 0.632812 -6.597656 0.734375 -6.910156 0.890625 -7.171875 C 1.046875 -7.441406 1.242188 -7.664062 1.484375 -7.84375 C 1.734375 -8.019531 2.007812 -8.148438 2.3125 -8.234375 C 2.625 -8.328125 2.953125 -8.375 3.296875 -8.375 C 3.753906 -8.375 4.148438 -8.316406 4.484375 -8.203125 C 4.816406 -8.085938 5.085938 -7.929688 5.296875 -7.734375 C 5.515625 -7.535156 5.671875 -7.300781 5.765625 -7.03125 C 5.867188 -6.769531 5.921875 -6.488281 5.921875 -6.1875 C 5.921875 -5.945312 5.882812 -5.722656 5.8125 -5.515625 C 5.75 -5.304688 5.644531 -5.113281 5.5 -4.9375 C 5.363281 -4.769531 5.1875 -4.625 4.96875 -4.5 C 4.75 -4.382812 4.488281 -4.296875 4.1875 -4.234375 L 4.1875 -4.21875 C 4.519531 -4.175781 4.804688 -4.097656 5.046875 -3.984375 C 5.296875 -3.867188 5.5 -3.722656 5.65625 -3.546875 C 5.820312 -3.378906 5.941406 -3.1875 6.015625 -2.96875 C 6.097656 -2.75 6.140625 -2.519531 6.140625 -2.28125 Z M 6.140625 -2.28125 \"/>\n",
       "</symbol>\n",
       "<symbol overflow=\"visible\" id=\"glyph0-9\">\n",
       "<path style=\"stroke:none;\" d=\"M 6.171875 -2.6875 C 6.171875 -2.269531 6.109375 -1.890625 5.984375 -1.546875 C 5.859375 -1.203125 5.671875 -0.90625 5.421875 -0.65625 C 5.179688 -0.414062 4.878906 -0.222656 4.515625 -0.078125 C 4.148438 0.0546875 3.722656 0.125 3.234375 0.125 C 2.804688 0.125 2.429688 0.0703125 2.109375 -0.03125 C 1.785156 -0.132812 1.507812 -0.273438 1.28125 -0.453125 C 1.0625 -0.628906 0.882812 -0.835938 0.75 -1.078125 C 0.625 -1.316406 0.535156 -1.570312 0.484375 -1.84375 L 1.546875 -1.96875 C 1.585938 -1.8125 1.644531 -1.660156 1.71875 -1.515625 C 1.800781 -1.367188 1.910156 -1.238281 2.046875 -1.125 C 2.179688 -1.007812 2.347656 -0.914062 2.546875 -0.84375 C 2.742188 -0.78125 2.984375 -0.75 3.265625 -0.75 C 3.535156 -0.75 3.78125 -0.789062 4 -0.875 C 4.226562 -0.957031 4.421875 -1.078125 4.578125 -1.234375 C 4.734375 -1.398438 4.851562 -1.601562 4.9375 -1.84375 C 5.03125 -2.082031 5.078125 -2.359375 5.078125 -2.671875 C 5.078125 -2.921875 5.035156 -3.148438 4.953125 -3.359375 C 4.867188 -3.578125 4.75 -3.765625 4.59375 -3.921875 C 4.445312 -4.078125 4.257812 -4.195312 4.03125 -4.28125 C 3.8125 -4.363281 3.5625 -4.40625 3.28125 -4.40625 C 3.113281 -4.40625 2.953125 -4.390625 2.796875 -4.359375 C 2.648438 -4.328125 2.515625 -4.285156 2.390625 -4.234375 C 2.265625 -4.179688 2.148438 -4.117188 2.046875 -4.046875 C 1.941406 -3.972656 1.84375 -3.894531 1.75 -3.8125 L 0.71875 -3.8125 L 1 -8.25 L 5.6875 -8.25 L 5.6875 -7.359375 L 1.953125 -7.359375 L 1.796875 -4.734375 C 1.984375 -4.878906 2.21875 -5.003906 2.5 -5.109375 C 2.78125 -5.210938 3.113281 -5.265625 3.5 -5.265625 C 3.914062 -5.265625 4.285156 -5.203125 4.609375 -5.078125 C 4.941406 -4.953125 5.222656 -4.773438 5.453125 -4.546875 C 5.679688 -4.316406 5.859375 -4.046875 5.984375 -3.734375 C 6.109375 -3.421875 6.171875 -3.070312 6.171875 -2.6875 Z M 6.171875 -2.6875 \"/>\n",
       "</symbol>\n",
       "<symbol overflow=\"visible\" id=\"glyph1-0\">\n",
       "<path style=\"stroke:none;\" d=\"M 0.5 0 L 0.5 -10 L 4.484375 -10 L 4.484375 0 Z M 1 -0.5 L 3.984375 -0.5 L 3.984375 -9.5 L 1 -9.5 Z M 1 -0.5 \"/>\n",
       "</symbol>\n",
       "<symbol overflow=\"visible\" id=\"glyph1-1\">\n",
       "<path style=\"stroke:none;\" d=\"M 7.921875 0 L 2.40625 -8.796875 C 2.414062 -8.554688 2.425781 -8.316406 2.4375 -8.078125 C 2.445312 -7.878906 2.453125 -7.664062 2.453125 -7.4375 C 2.460938 -7.21875 2.46875 -7.023438 2.46875 -6.859375 L 2.46875 0 L 1.234375 0 L 1.234375 -10.3125 L 2.859375 -10.3125 L 8.4375 -1.46875 C 8.425781 -1.707031 8.410156 -1.945312 8.390625 -2.1875 C 8.378906 -2.394531 8.367188 -2.617188 8.359375 -2.859375 C 8.347656 -3.097656 8.34375 -3.328125 8.34375 -3.546875 L 8.34375 -10.3125 L 9.609375 -10.3125 L 9.609375 0 Z M 7.921875 0 \"/>\n",
       "</symbol>\n",
       "<symbol overflow=\"visible\" id=\"glyph1-2\">\n",
       "<path style=\"stroke:none;\" d=\"M 2.015625 -3.6875 C 2.015625 -3.269531 2.054688 -2.882812 2.140625 -2.53125 C 2.234375 -2.1875 2.367188 -1.890625 2.546875 -1.640625 C 2.722656 -1.390625 2.945312 -1.191406 3.21875 -1.046875 C 3.5 -0.910156 3.835938 -0.84375 4.234375 -0.84375 C 4.804688 -0.84375 5.265625 -0.957031 5.609375 -1.1875 C 5.953125 -1.414062 6.1875 -1.707031 6.3125 -2.0625 L 7.46875 -1.734375 C 7.382812 -1.515625 7.265625 -1.289062 7.109375 -1.0625 C 6.960938 -0.84375 6.765625 -0.644531 6.515625 -0.46875 C 6.265625 -0.289062 5.953125 -0.144531 5.578125 -0.03125 C 5.210938 0.0820312 4.765625 0.140625 4.234375 0.140625 C 3.054688 0.140625 2.160156 -0.207031 1.546875 -0.90625 C 0.941406 -1.601562 0.640625 -2.640625 0.640625 -4.015625 C 0.640625 -4.753906 0.726562 -5.378906 0.90625 -5.890625 C 1.09375 -6.410156 1.347656 -6.832031 1.671875 -7.15625 C 1.992188 -7.476562 2.367188 -7.710938 2.796875 -7.859375 C 3.234375 -8.003906 3.695312 -8.078125 4.1875 -8.078125 C 4.84375 -8.078125 5.394531 -7.96875 5.84375 -7.75 C 6.289062 -7.53125 6.648438 -7.234375 6.921875 -6.859375 C 7.191406 -6.484375 7.382812 -6.035156 7.5 -5.515625 C 7.613281 -5.003906 7.671875 -4.453125 7.671875 -3.859375 L 7.671875 -3.6875 Z M 6.3125 -4.6875 C 6.238281 -5.53125 6.023438 -6.140625 5.671875 -6.515625 C 5.328125 -6.898438 4.820312 -7.09375 4.15625 -7.09375 C 3.9375 -7.09375 3.707031 -7.054688 3.46875 -6.984375 C 3.226562 -6.921875 3.003906 -6.796875 2.796875 -6.609375 C 2.585938 -6.429688 2.410156 -6.1875 2.265625 -5.875 C 2.128906 -5.5625 2.050781 -5.164062 2.03125 -4.6875 Z M 6.3125 -4.6875 \"/>\n",
       "</symbol>\n",
       "<symbol overflow=\"visible\" id=\"glyph1-3\">\n",
       "<path style=\"stroke:none;\" d=\"M 1 -9.609375 L 1 -10.875 L 2.328125 -10.875 L 2.328125 -9.609375 Z M 1 0 L 1 -7.921875 L 2.328125 -7.921875 L 2.328125 0 Z M 1 0 \"/>\n",
       "</symbol>\n",
       "<symbol overflow=\"visible\" id=\"glyph1-4\">\n",
       "<path style=\"stroke:none;\" d=\"M 4.015625 3.109375 C 3.554688 3.109375 3.148438 3.0625 2.796875 2.96875 C 2.453125 2.875 2.15625 2.738281 1.90625 2.5625 C 1.65625 2.394531 1.453125 2.191406 1.296875 1.953125 C 1.140625 1.710938 1.023438 1.445312 0.953125 1.15625 L 2.28125 0.96875 C 2.375 1.332031 2.566406 1.613281 2.859375 1.8125 C 3.160156 2.007812 3.554688 2.109375 4.046875 2.109375 C 4.347656 2.109375 4.617188 2.066406 4.859375 1.984375 C 5.109375 1.898438 5.316406 1.765625 5.484375 1.578125 C 5.660156 1.398438 5.789062 1.164062 5.875 0.875 C 5.96875 0.582031 6.015625 0.222656 6.015625 -0.203125 L 6.015625 -1.46875 L 6 -1.46875 C 5.90625 -1.269531 5.785156 -1.078125 5.640625 -0.890625 C 5.492188 -0.710938 5.316406 -0.550781 5.109375 -0.40625 C 4.910156 -0.269531 4.671875 -0.15625 4.390625 -0.0625 C 4.117188 0.0195312 3.804688 0.0625 3.453125 0.0625 C 2.953125 0.0625 2.519531 -0.0195312 2.15625 -0.1875 C 1.800781 -0.363281 1.507812 -0.617188 1.28125 -0.953125 C 1.050781 -1.285156 0.882812 -1.703125 0.78125 -2.203125 C 0.675781 -2.703125 0.625 -3.285156 0.625 -3.953125 C 0.625 -4.585938 0.675781 -5.15625 0.78125 -5.65625 C 0.882812 -6.164062 1.054688 -6.597656 1.296875 -6.953125 C 1.535156 -7.304688 1.84375 -7.578125 2.21875 -7.765625 C 2.601562 -7.953125 3.066406 -8.046875 3.609375 -8.046875 C 4.171875 -8.046875 4.65625 -7.914062 5.0625 -7.65625 C 5.476562 -7.40625 5.796875 -7.039062 6.015625 -6.5625 L 6.03125 -6.5625 C 6.03125 -6.6875 6.035156 -6.820312 6.046875 -6.96875 C 6.054688 -7.125 6.0625 -7.269531 6.0625 -7.40625 C 6.070312 -7.539062 6.082031 -7.65625 6.09375 -7.75 C 6.101562 -7.851562 6.113281 -7.910156 6.125 -7.921875 L 7.375 -7.921875 C 7.375 -7.878906 7.367188 -7.804688 7.359375 -7.703125 C 7.359375 -7.597656 7.351562 -7.472656 7.34375 -7.328125 C 7.34375 -7.179688 7.335938 -7.015625 7.328125 -6.828125 C 7.328125 -6.648438 7.328125 -6.46875 7.328125 -6.28125 L 7.328125 -0.234375 C 7.328125 0.878906 7.054688 1.710938 6.515625 2.265625 C 5.972656 2.828125 5.140625 3.109375 4.015625 3.109375 Z M 6.015625 -3.96875 C 6.015625 -4.519531 5.953125 -4.988281 5.828125 -5.375 C 5.710938 -5.769531 5.554688 -6.09375 5.359375 -6.34375 C 5.171875 -6.59375 4.953125 -6.773438 4.703125 -6.890625 C 4.453125 -7.003906 4.191406 -7.0625 3.921875 -7.0625 C 3.585938 -7.0625 3.300781 -7.003906 3.0625 -6.890625 C 2.820312 -6.773438 2.617188 -6.59375 2.453125 -6.34375 C 2.296875 -6.09375 2.179688 -5.769531 2.109375 -5.375 C 2.035156 -4.976562 2 -4.507812 2 -3.96875 C 2 -3.394531 2.035156 -2.910156 2.109375 -2.515625 C 2.179688 -2.128906 2.296875 -1.816406 2.453125 -1.578125 C 2.609375 -1.335938 2.804688 -1.164062 3.046875 -1.0625 C 3.285156 -0.96875 3.570312 -0.921875 3.90625 -0.921875 C 4.164062 -0.921875 4.421875 -0.972656 4.671875 -1.078125 C 4.921875 -1.191406 5.144531 -1.367188 5.34375 -1.609375 C 5.550781 -1.859375 5.710938 -2.175781 5.828125 -2.5625 C 5.953125 -2.945312 6.015625 -3.414062 6.015625 -3.96875 Z M 6.015625 -3.96875 \"/>\n",
       "</symbol>\n",
       "<symbol overflow=\"visible\" id=\"glyph1-5\">\n",
       "<path style=\"stroke:none;\" d=\"M 2.328125 -6.5625 C 2.472656 -6.832031 2.628906 -7.0625 2.796875 -7.25 C 2.960938 -7.4375 3.148438 -7.59375 3.359375 -7.71875 C 3.566406 -7.84375 3.789062 -7.929688 4.03125 -7.984375 C 4.28125 -8.046875 4.554688 -8.078125 4.859375 -8.078125 C 5.367188 -8.078125 5.785156 -8.003906 6.109375 -7.859375 C 6.429688 -7.722656 6.6875 -7.53125 6.875 -7.28125 C 7.0625 -7.039062 7.191406 -6.75 7.265625 -6.40625 C 7.335938 -6.0625 7.375 -5.6875 7.375 -5.28125 L 7.375 0 L 6.046875 0 L 6.046875 -5.03125 C 6.046875 -5.363281 6.023438 -5.65625 5.984375 -5.90625 C 5.941406 -6.164062 5.859375 -6.378906 5.734375 -6.546875 C 5.617188 -6.710938 5.453125 -6.835938 5.234375 -6.921875 C 5.023438 -7.003906 4.75 -7.046875 4.40625 -7.046875 C 4.09375 -7.046875 3.8125 -6.988281 3.5625 -6.875 C 3.3125 -6.769531 3.097656 -6.613281 2.921875 -6.40625 C 2.742188 -6.195312 2.601562 -5.945312 2.5 -5.65625 C 2.40625 -5.363281 2.359375 -5.035156 2.359375 -4.671875 L 2.359375 0 L 1.046875 0 L 1.046875 -10.875 L 2.359375 -10.875 L 2.359375 -8.046875 C 2.359375 -7.878906 2.351562 -7.710938 2.34375 -7.546875 C 2.34375 -7.390625 2.335938 -7.242188 2.328125 -7.109375 C 2.328125 -6.972656 2.320312 -6.859375 2.3125 -6.765625 C 2.3125 -6.671875 2.304688 -6.601562 2.296875 -6.5625 Z M 2.328125 -6.5625 \"/>\n",
       "</symbol>\n",
       "<symbol overflow=\"visible\" id=\"glyph1-6\">\n",
       "<path style=\"stroke:none;\" d=\"M 7.71875 -4 C 7.71875 -1.238281 6.742188 0.140625 4.796875 0.140625 C 4.191406 0.140625 3.691406 0.0351562 3.296875 -0.171875 C 2.898438 -0.390625 2.578125 -0.742188 2.328125 -1.234375 L 2.3125 -1.234375 C 2.3125 -1.109375 2.304688 -0.972656 2.296875 -0.828125 C 2.296875 -0.691406 2.289062 -0.566406 2.28125 -0.453125 C 2.269531 -0.335938 2.257812 -0.238281 2.25 -0.15625 C 2.25 -0.0703125 2.242188 -0.0195312 2.234375 0 L 0.96875 0 C 0.96875 -0.0390625 0.96875 -0.113281 0.96875 -0.21875 C 0.976562 -0.320312 0.984375 -0.445312 0.984375 -0.59375 C 0.992188 -0.75 1 -0.910156 1 -1.078125 C 1.007812 -1.253906 1.015625 -1.441406 1.015625 -1.640625 L 1.015625 -10.875 L 2.328125 -10.875 L 2.328125 -7.765625 C 2.328125 -7.617188 2.328125 -7.476562 2.328125 -7.34375 C 2.328125 -7.21875 2.320312 -7.101562 2.3125 -7 C 2.3125 -6.875 2.304688 -6.757812 2.296875 -6.65625 L 2.328125 -6.65625 C 2.578125 -7.15625 2.898438 -7.515625 3.296875 -7.734375 C 3.703125 -7.960938 4.203125 -8.078125 4.796875 -8.078125 C 5.796875 -8.078125 6.53125 -7.738281 7 -7.0625 C 7.476562 -6.382812 7.71875 -5.363281 7.71875 -4 Z M 6.328125 -3.953125 C 6.328125 -4.503906 6.289062 -4.972656 6.21875 -5.359375 C 6.15625 -5.753906 6.046875 -6.078125 5.890625 -6.328125 C 5.742188 -6.578125 5.550781 -6.757812 5.3125 -6.875 C 5.082031 -6.988281 4.796875 -7.046875 4.453125 -7.046875 C 4.109375 -7.046875 3.800781 -6.988281 3.53125 -6.875 C 3.269531 -6.769531 3.050781 -6.59375 2.875 -6.34375 C 2.695312 -6.09375 2.5625 -5.765625 2.46875 -5.359375 C 2.375 -4.953125 2.328125 -4.457031 2.328125 -3.875 C 2.328125 -3.3125 2.375 -2.835938 2.46875 -2.453125 C 2.5625 -2.066406 2.695312 -1.75 2.875 -1.5 C 3.050781 -1.257812 3.269531 -1.085938 3.53125 -0.984375 C 3.800781 -0.878906 4.109375 -0.828125 4.453125 -0.828125 C 4.765625 -0.828125 5.035156 -0.882812 5.265625 -1 C 5.503906 -1.113281 5.703125 -1.289062 5.859375 -1.53125 C 6.015625 -1.78125 6.128906 -2.101562 6.203125 -2.5 C 6.285156 -2.90625 6.328125 -3.390625 6.328125 -3.953125 Z M 6.328125 -3.953125 \"/>\n",
       "</symbol>\n",
       "<symbol overflow=\"visible\" id=\"glyph1-7\">\n",
       "<path style=\"stroke:none;\" d=\"M 7.71875 -3.96875 C 7.71875 -2.582031 7.410156 -1.550781 6.796875 -0.875 C 6.179688 -0.195312 5.296875 0.140625 4.140625 0.140625 C 3.585938 0.140625 3.09375 0.0546875 2.65625 -0.109375 C 2.21875 -0.273438 1.847656 -0.523438 1.546875 -0.859375 C 1.253906 -1.203125 1.023438 -1.628906 0.859375 -2.140625 C 0.703125 -2.660156 0.625 -3.269531 0.625 -3.96875 C 0.625 -6.707031 1.8125 -8.078125 4.1875 -8.078125 C 4.800781 -8.078125 5.332031 -7.988281 5.78125 -7.8125 C 6.226562 -7.644531 6.59375 -7.390625 6.875 -7.046875 C 7.15625 -6.703125 7.363281 -6.273438 7.5 -5.765625 C 7.644531 -5.253906 7.71875 -4.65625 7.71875 -3.96875 Z M 6.328125 -3.96875 C 6.328125 -4.582031 6.28125 -5.085938 6.1875 -5.484375 C 6.09375 -5.890625 5.953125 -6.210938 5.765625 -6.453125 C 5.585938 -6.691406 5.363281 -6.859375 5.09375 -6.953125 C 4.832031 -7.046875 4.535156 -7.09375 4.203125 -7.09375 C 3.867188 -7.09375 3.566406 -7.039062 3.296875 -6.9375 C 3.023438 -6.84375 2.789062 -6.675781 2.59375 -6.4375 C 2.40625 -6.195312 2.257812 -5.875 2.15625 -5.46875 C 2.0625 -5.070312 2.015625 -4.570312 2.015625 -3.96875 C 2.015625 -3.351562 2.066406 -2.84375 2.171875 -2.4375 C 2.285156 -2.039062 2.4375 -1.722656 2.625 -1.484375 C 2.8125 -1.242188 3.03125 -1.070312 3.28125 -0.96875 C 3.539062 -0.875 3.820312 -0.828125 4.125 -0.828125 C 4.457031 -0.828125 4.757812 -0.875 5.03125 -0.96875 C 5.3125 -1.0625 5.546875 -1.226562 5.734375 -1.46875 C 5.921875 -1.707031 6.066406 -2.03125 6.171875 -2.4375 C 6.273438 -2.84375 6.328125 -3.351562 6.328125 -3.96875 Z M 6.328125 -3.96875 \"/>\n",
       "</symbol>\n",
       "<symbol overflow=\"visible\" id=\"glyph1-8\">\n",
       "<path style=\"stroke:none;\" d=\"M 1.046875 0 L 1.046875 -6.078125 C 1.046875 -6.242188 1.039062 -6.410156 1.03125 -6.578125 C 1.03125 -6.753906 1.023438 -6.921875 1.015625 -7.078125 C 1.015625 -7.242188 1.007812 -7.394531 1 -7.53125 C 1 -7.675781 1 -7.804688 1 -7.921875 L 2.234375 -7.921875 C 2.242188 -7.804688 2.25 -7.675781 2.25 -7.53125 C 2.257812 -7.394531 2.269531 -7.25 2.28125 -7.09375 C 2.289062 -6.945312 2.296875 -6.800781 2.296875 -6.65625 C 2.296875 -6.519531 2.296875 -6.40625 2.296875 -6.3125 L 2.328125 -6.3125 C 2.421875 -6.613281 2.519531 -6.875 2.625 -7.09375 C 2.726562 -7.3125 2.847656 -7.492188 2.984375 -7.640625 C 3.128906 -7.785156 3.300781 -7.894531 3.5 -7.96875 C 3.695312 -8.039062 3.9375 -8.078125 4.21875 -8.078125 C 4.320312 -8.078125 4.421875 -8.066406 4.515625 -8.046875 C 4.617188 -8.023438 4.695312 -8.007812 4.75 -8 L 4.75 -6.796875 C 4.65625 -6.816406 4.550781 -6.832031 4.4375 -6.84375 C 4.320312 -6.851562 4.191406 -6.859375 4.046875 -6.859375 C 3.742188 -6.859375 3.484375 -6.789062 3.265625 -6.65625 C 3.054688 -6.519531 2.882812 -6.332031 2.75 -6.09375 C 2.613281 -5.851562 2.515625 -5.5625 2.453125 -5.21875 C 2.390625 -4.882812 2.359375 -4.519531 2.359375 -4.125 L 2.359375 0 Z M 1.046875 0 \"/>\n",
       "</symbol>\n",
       "<symbol overflow=\"visible\" id=\"glyph1-9\">\n",
       "<path style=\"stroke:none;\" d=\"M 6.953125 -2.1875 C 6.953125 -1.820312 6.878906 -1.492188 6.734375 -1.203125 C 6.597656 -0.910156 6.390625 -0.664062 6.109375 -0.46875 C 5.835938 -0.269531 5.503906 -0.117188 5.109375 -0.015625 C 4.710938 0.0859375 4.257812 0.140625 3.75 0.140625 C 3.28125 0.140625 2.863281 0.101562 2.5 0.03125 C 2.132812 -0.03125 1.8125 -0.140625 1.53125 -0.296875 C 1.25 -0.453125 1.015625 -0.65625 0.828125 -0.90625 C 0.640625 -1.164062 0.503906 -1.484375 0.421875 -1.859375 L 1.578125 -2.09375 C 1.691406 -1.664062 1.925781 -1.351562 2.28125 -1.15625 C 2.632812 -0.957031 3.125 -0.859375 3.75 -0.859375 C 4.03125 -0.859375 4.285156 -0.875 4.515625 -0.90625 C 4.753906 -0.945312 4.957031 -1.015625 5.125 -1.109375 C 5.300781 -1.210938 5.4375 -1.34375 5.53125 -1.5 C 5.625 -1.65625 5.671875 -1.851562 5.671875 -2.09375 C 5.671875 -2.332031 5.613281 -2.523438 5.5 -2.671875 C 5.394531 -2.828125 5.238281 -2.957031 5.03125 -3.0625 C 4.832031 -3.164062 4.585938 -3.253906 4.296875 -3.328125 C 4.015625 -3.398438 3.707031 -3.484375 3.375 -3.578125 C 3.050781 -3.660156 2.734375 -3.753906 2.421875 -3.859375 C 2.109375 -3.960938 1.828125 -4.097656 1.578125 -4.265625 C 1.328125 -4.429688 1.125 -4.640625 0.96875 -4.890625 C 0.8125 -5.140625 0.734375 -5.453125 0.734375 -5.828125 C 0.734375 -6.554688 0.988281 -7.109375 1.5 -7.484375 C 2.019531 -7.859375 2.769531 -8.046875 3.75 -8.046875 C 4.625 -8.046875 5.316406 -7.890625 5.828125 -7.578125 C 6.347656 -7.273438 6.675781 -6.785156 6.8125 -6.109375 L 5.625 -5.96875 C 5.582031 -6.164062 5.503906 -6.332031 5.390625 -6.46875 C 5.273438 -6.613281 5.132812 -6.726562 4.96875 -6.8125 C 4.800781 -6.894531 4.613281 -6.953125 4.40625 -6.984375 C 4.195312 -7.023438 3.976562 -7.046875 3.75 -7.046875 C 3.15625 -7.046875 2.71875 -6.957031 2.4375 -6.78125 C 2.15625 -6.601562 2.015625 -6.332031 2.015625 -5.96875 C 2.015625 -5.75 2.066406 -5.566406 2.171875 -5.421875 C 2.273438 -5.285156 2.421875 -5.171875 2.609375 -5.078125 C 2.796875 -4.984375 3.019531 -4.898438 3.28125 -4.828125 C 3.550781 -4.753906 3.84375 -4.679688 4.15625 -4.609375 C 4.363281 -4.554688 4.578125 -4.5 4.796875 -4.4375 C 5.023438 -4.375 5.238281 -4.300781 5.4375 -4.21875 C 5.644531 -4.132812 5.84375 -4.035156 6.03125 -3.921875 C 6.21875 -3.804688 6.378906 -3.664062 6.515625 -3.5 C 6.648438 -3.34375 6.753906 -3.15625 6.828125 -2.9375 C 6.910156 -2.71875 6.953125 -2.46875 6.953125 -2.1875 Z M 6.953125 -2.1875 \"/>\n",
       "</symbol>\n",
       "<symbol overflow=\"visible\" id=\"glyph2-0\">\n",
       "<path style=\"stroke:none;\" d=\"M 0 -0.5 L -10 -0.5 L -10 -4.484375 L 0 -4.484375 Z M -0.5 -1 L -0.5 -3.984375 L -9.5 -3.984375 L -9.5 -1 Z M -0.5 -1 \"/>\n",
       "</symbol>\n",
       "<symbol overflow=\"visible\" id=\"glyph2-1\">\n",
       "<path style=\"stroke:none;\" d=\"M 0 -8.546875 L -3.015625 -7.375 L -3.015625 -2.671875 L 0 -1.484375 L 0 -0.03125 L -10.3125 -4.234375 L -10.3125 -5.828125 L 0 -9.96875 Z M -7.515625 -5.625 C -7.710938 -5.550781 -7.910156 -5.476562 -8.109375 -5.40625 C -8.304688 -5.332031 -8.488281 -5.269531 -8.65625 -5.21875 C -8.820312 -5.164062 -8.957031 -5.117188 -9.0625 -5.078125 C -9.175781 -5.046875 -9.242188 -5.023438 -9.265625 -5.015625 C -9.242188 -5.003906 -9.175781 -4.984375 -9.0625 -4.953125 C -8.945312 -4.921875 -8.804688 -4.875 -8.640625 -4.8125 C -8.472656 -4.757812 -8.289062 -4.695312 -8.09375 -4.625 C -7.894531 -4.550781 -7.695312 -4.476562 -7.5 -4.40625 L -4.109375 -3.09375 L -4.109375 -6.953125 Z M -7.515625 -5.625 \"/>\n",
       "</symbol>\n",
       "<symbol overflow=\"visible\" id=\"glyph2-2\">\n",
       "<path style=\"stroke:none;\" d=\"M -4 -2.015625 C -3.539062 -2.015625 -3.117188 -2.046875 -2.734375 -2.109375 C -2.359375 -2.179688 -2.03125 -2.296875 -1.75 -2.453125 C -1.476562 -2.609375 -1.265625 -2.8125 -1.109375 -3.0625 C -0.960938 -3.320312 -0.890625 -3.640625 -0.890625 -4.015625 C -0.890625 -4.484375 -1.015625 -4.875 -1.265625 -5.1875 C -1.523438 -5.5 -1.921875 -5.691406 -2.453125 -5.765625 L -2.359375 -7.109375 C -2.035156 -7.054688 -1.71875 -6.957031 -1.40625 -6.8125 C -1.101562 -6.664062 -0.835938 -6.46875 -0.609375 -6.21875 C -0.378906 -5.96875 -0.195312 -5.660156 -0.0625 -5.296875 C 0.0703125 -4.941406 0.140625 -4.523438 0.140625 -4.046875 C 0.140625 -3.429688 0.0351562 -2.90625 -0.171875 -2.46875 C -0.378906 -2.03125 -0.664062 -1.675781 -1.03125 -1.40625 C -1.40625 -1.132812 -1.84375 -0.9375 -2.34375 -0.8125 C -2.84375 -0.695312 -3.382812 -0.640625 -3.96875 -0.640625 C -4.5 -0.640625 -4.96875 -0.679688 -5.375 -0.765625 C -5.78125 -0.859375 -6.132812 -0.984375 -6.4375 -1.140625 C -6.75 -1.296875 -7.007812 -1.476562 -7.21875 -1.6875 C -7.425781 -1.90625 -7.59375 -2.140625 -7.71875 -2.390625 C -7.84375 -2.648438 -7.929688 -2.914062 -7.984375 -3.1875 C -8.046875 -3.46875 -8.078125 -3.75 -8.078125 -4.03125 C -8.078125 -4.476562 -8.015625 -4.875 -7.890625 -5.21875 C -7.765625 -5.570312 -7.59375 -5.875 -7.375 -6.125 C -7.164062 -6.375 -6.914062 -6.578125 -6.625 -6.734375 C -6.34375 -6.890625 -6.035156 -7 -5.703125 -7.0625 L -5.609375 -5.703125 C -6.046875 -5.640625 -6.390625 -5.46875 -6.640625 -5.1875 C -6.898438 -4.90625 -7.03125 -4.507812 -7.03125 -4 C -7.03125 -3.625 -6.96875 -3.3125 -6.84375 -3.0625 C -6.726562 -2.8125 -6.539062 -2.609375 -6.28125 -2.453125 C -6.03125 -2.296875 -5.710938 -2.179688 -5.328125 -2.109375 C -4.953125 -2.046875 -4.507812 -2.015625 -4 -2.015625 Z M -4 -2.015625 \"/>\n",
       "</symbol>\n",
       "<symbol overflow=\"visible\" id=\"glyph2-3\">\n",
       "<path style=\"stroke:none;\" d=\"M -7.921875 -2.296875 L -2.90625 -2.296875 C -2.519531 -2.296875 -2.195312 -2.320312 -1.9375 -2.375 C -1.675781 -2.4375 -1.460938 -2.53125 -1.296875 -2.65625 C -1.140625 -2.78125 -1.03125 -2.945312 -0.96875 -3.15625 C -0.90625 -3.363281 -0.875 -3.625 -0.875 -3.9375 C -0.875 -4.25 -0.925781 -4.53125 -1.03125 -4.78125 C -1.144531 -5.03125 -1.304688 -5.242188 -1.515625 -5.421875 C -1.722656 -5.597656 -1.976562 -5.734375 -2.28125 -5.828125 C -2.582031 -5.929688 -2.929688 -5.984375 -3.328125 -5.984375 L -7.921875 -5.984375 L -7.921875 -7.296875 L -1.6875 -7.296875 C -1.519531 -7.296875 -1.34375 -7.296875 -1.15625 -7.296875 C -0.976562 -7.304688 -0.804688 -7.3125 -0.640625 -7.3125 C -0.484375 -7.320312 -0.34375 -7.328125 -0.21875 -7.328125 C -0.101562 -7.335938 -0.03125 -7.34375 0 -7.34375 L 0 -6.09375 C -0.0195312 -6.09375 -0.0820312 -6.085938 -0.1875 -6.078125 C -0.300781 -6.078125 -0.425781 -6.070312 -0.5625 -6.0625 C -0.707031 -6.0625 -0.847656 -6.054688 -0.984375 -6.046875 C -1.128906 -6.046875 -1.253906 -6.046875 -1.359375 -6.046875 L -1.359375 -6.015625 C -1.128906 -5.890625 -0.921875 -5.75 -0.734375 -5.59375 C -0.546875 -5.445312 -0.382812 -5.273438 -0.25 -5.078125 C -0.125 -4.878906 -0.03125 -4.648438 0.03125 -4.390625 C 0.101562 -4.128906 0.140625 -3.828125 0.140625 -3.484375 C 0.140625 -3.046875 0.0859375 -2.664062 -0.015625 -2.34375 C -0.117188 -2.03125 -0.28125 -1.769531 -0.5 -1.5625 C -0.726562 -1.363281 -1.019531 -1.210938 -1.375 -1.109375 C -1.726562 -1.015625 -2.148438 -0.96875 -2.640625 -0.96875 L -7.921875 -0.96875 Z M -7.921875 -2.296875 \"/>\n",
       "</symbol>\n",
       "<symbol overflow=\"visible\" id=\"glyph2-4\">\n",
       "<path style=\"stroke:none;\" d=\"M 0 -1.046875 L -6.078125 -1.046875 C -6.242188 -1.046875 -6.410156 -1.039062 -6.578125 -1.03125 C -6.753906 -1.03125 -6.921875 -1.023438 -7.078125 -1.015625 C -7.242188 -1.015625 -7.394531 -1.007812 -7.53125 -1 C -7.675781 -1 -7.804688 -1 -7.921875 -1 L -7.921875 -2.234375 C -7.804688 -2.242188 -7.675781 -2.25 -7.53125 -2.25 C -7.394531 -2.257812 -7.25 -2.269531 -7.09375 -2.28125 C -6.945312 -2.289062 -6.800781 -2.296875 -6.65625 -2.296875 C -6.519531 -2.296875 -6.40625 -2.296875 -6.3125 -2.296875 L -6.3125 -2.328125 C -6.613281 -2.421875 -6.875 -2.519531 -7.09375 -2.625 C -7.3125 -2.726562 -7.492188 -2.847656 -7.640625 -2.984375 C -7.785156 -3.128906 -7.894531 -3.300781 -7.96875 -3.5 C -8.039062 -3.695312 -8.078125 -3.9375 -8.078125 -4.21875 C -8.078125 -4.320312 -8.066406 -4.421875 -8.046875 -4.515625 C -8.023438 -4.617188 -8.007812 -4.695312 -8 -4.75 L -6.796875 -4.75 C -6.816406 -4.65625 -6.832031 -4.550781 -6.84375 -4.4375 C -6.851562 -4.320312 -6.859375 -4.191406 -6.859375 -4.046875 C -6.859375 -3.742188 -6.789062 -3.484375 -6.65625 -3.265625 C -6.519531 -3.054688 -6.332031 -2.882812 -6.09375 -2.75 C -5.851562 -2.613281 -5.5625 -2.515625 -5.21875 -2.453125 C -4.882812 -2.390625 -4.519531 -2.359375 -4.125 -2.359375 L 0 -2.359375 Z M 0 -1.046875 \"/>\n",
       "</symbol>\n",
       "<symbol overflow=\"visible\" id=\"glyph2-5\">\n",
       "<path style=\"stroke:none;\" d=\"M 0.140625 -3.03125 C 0.140625 -2.238281 -0.0664062 -1.640625 -0.484375 -1.234375 C -0.898438 -0.835938 -1.476562 -0.640625 -2.21875 -0.640625 C -2.738281 -0.640625 -3.164062 -0.738281 -3.5 -0.9375 C -3.832031 -1.132812 -4.09375 -1.390625 -4.28125 -1.703125 C -4.476562 -2.023438 -4.613281 -2.390625 -4.6875 -2.796875 C -4.757812 -3.210938 -4.800781 -3.632812 -4.8125 -4.0625 L -4.828125 -5.84375 L -5.265625 -5.84375 C -5.585938 -5.84375 -5.863281 -5.804688 -6.09375 -5.734375 C -6.332031 -5.660156 -6.519531 -5.550781 -6.65625 -5.40625 C -6.800781 -5.269531 -6.90625 -5.097656 -6.96875 -4.890625 C -7.03125 -4.679688 -7.0625 -4.429688 -7.0625 -4.140625 C -7.0625 -3.878906 -7.039062 -3.644531 -7 -3.4375 C -6.96875 -3.238281 -6.90625 -3.0625 -6.8125 -2.90625 C -6.71875 -2.757812 -6.585938 -2.640625 -6.421875 -2.546875 C -6.265625 -2.453125 -6.0625 -2.390625 -5.8125 -2.359375 L -5.9375 -0.984375 C -6.25 -1.035156 -6.535156 -1.128906 -6.796875 -1.265625 C -7.054688 -1.398438 -7.28125 -1.59375 -7.46875 -1.84375 C -7.65625 -2.101562 -7.800781 -2.421875 -7.90625 -2.796875 C -8.019531 -3.171875 -8.078125 -3.628906 -8.078125 -4.171875 C -8.078125 -5.160156 -7.847656 -5.90625 -7.390625 -6.40625 C -6.929688 -6.914062 -6.269531 -7.171875 -5.40625 -7.171875 L -2 -7.171875 C -1.601562 -7.171875 -1.304688 -7.222656 -1.109375 -7.328125 C -0.910156 -7.429688 -0.8125 -7.625 -0.8125 -7.90625 C -0.8125 -7.976562 -0.816406 -8.050781 -0.828125 -8.125 C -0.835938 -8.195312 -0.847656 -8.269531 -0.859375 -8.34375 L -0.046875 -8.34375 C -0.00390625 -8.175781 0.0234375 -8.007812 0.046875 -7.84375 C 0.0664062 -7.6875 0.078125 -7.515625 0.078125 -7.328125 C 0.078125 -7.078125 0.046875 -6.863281 -0.015625 -6.6875 C -0.0859375 -6.507812 -0.191406 -6.363281 -0.328125 -6.25 C -0.460938 -6.132812 -0.628906 -6.046875 -0.828125 -5.984375 C -1.023438 -5.929688 -1.253906 -5.894531 -1.515625 -5.875 L -1.515625 -5.84375 C -1.265625 -5.695312 -1.035156 -5.539062 -0.828125 -5.375 C -0.617188 -5.207031 -0.441406 -5.007812 -0.296875 -4.78125 C -0.160156 -4.5625 -0.0546875 -4.304688 0.015625 -4.015625 C 0.0976562 -3.734375 0.140625 -3.40625 0.140625 -3.03125 Z M -0.84375 -3.328125 C -0.84375 -3.753906 -0.914062 -4.125 -1.0625 -4.4375 C -1.21875 -4.75 -1.414062 -5.007812 -1.65625 -5.21875 C -1.894531 -5.425781 -2.15625 -5.582031 -2.4375 -5.6875 C -2.726562 -5.789062 -3.003906 -5.84375 -3.265625 -5.84375 L -3.90625 -5.84375 L -3.875 -4.390625 C -3.875 -4.066406 -3.851562 -3.757812 -3.8125 -3.46875 C -3.769531 -3.1875 -3.6875 -2.929688 -3.5625 -2.703125 C -3.445312 -2.484375 -3.273438 -2.3125 -3.046875 -2.1875 C -2.828125 -2.0625 -2.539062 -2 -2.1875 -2 C -1.757812 -2 -1.425781 -2.113281 -1.1875 -2.34375 C -0.957031 -2.570312 -0.84375 -2.898438 -0.84375 -3.328125 Z M -0.84375 -3.328125 \"/>\n",
       "</symbol>\n",
       "<symbol overflow=\"visible\" id=\"glyph2-6\">\n",
       "<path style=\"stroke:none;\" d=\"M 0 -4.421875 C 0.476562 -4.234375 0.910156 -4.039062 1.296875 -3.84375 C 1.679688 -3.65625 2.007812 -3.441406 2.28125 -3.203125 C 2.550781 -2.960938 2.753906 -2.695312 2.890625 -2.40625 C 3.035156 -2.113281 3.109375 -1.78125 3.109375 -1.40625 C 3.109375 -1.238281 3.101562 -1.082031 3.09375 -0.9375 C 3.082031 -0.789062 3.0625 -0.640625 3.03125 -0.484375 L 2.046875 -0.484375 C 2.054688 -0.578125 2.066406 -0.679688 2.078125 -0.796875 C 2.085938 -0.921875 2.09375 -1.023438 2.09375 -1.109375 C 2.09375 -1.492188 1.945312 -1.851562 1.65625 -2.1875 C 1.363281 -2.519531 0.90625 -2.804688 0.28125 -3.046875 L -0.03125 -3.171875 L -7.921875 -0.03125 L -7.921875 -1.4375 L -3.546875 -3.109375 C -3.410156 -3.160156 -3.234375 -3.222656 -3.015625 -3.296875 C -2.796875 -3.367188 -2.578125 -3.441406 -2.359375 -3.515625 C -2.140625 -3.597656 -1.941406 -3.664062 -1.765625 -3.71875 C -1.585938 -3.78125 -1.476562 -3.816406 -1.4375 -3.828125 C -1.488281 -3.847656 -1.59375 -3.882812 -1.75 -3.9375 C -1.914062 -3.988281 -2.09375 -4.050781 -2.28125 -4.125 C -2.476562 -4.195312 -2.675781 -4.269531 -2.875 -4.34375 C -3.070312 -4.414062 -3.25 -4.476562 -3.40625 -4.53125 L -7.921875 -6.078125 L -7.921875 -7.46875 Z M 0 -4.421875 \"/>\n",
       "</symbol>\n",
       "<symbol overflow=\"visible\" id=\"glyph2-7\">\n",
       "<path style=\"stroke:none;\" d=\"\"/>\n",
       "</symbol>\n",
       "<symbol overflow=\"visible\" id=\"glyph2-8\">\n",
       "<path style=\"stroke:none;\" d=\"M 0 -1.234375 L -10.3125 -1.234375 L -10.3125 -9.0625 L -9.171875 -9.0625 L -9.171875 -2.625 L -5.859375 -2.625 L -5.859375 -8.625 L -4.734375 -8.625 L -4.734375 -2.625 L -1.140625 -2.625 L -1.140625 -9.359375 L 0 -9.359375 Z M 0 -1.234375 \"/>\n",
       "</symbol>\n",
       "<symbol overflow=\"visible\" id=\"glyph2-9\">\n",
       "<path style=\"stroke:none;\" d=\"M -2.1875 -6.953125 C -1.820312 -6.953125 -1.492188 -6.878906 -1.203125 -6.734375 C -0.910156 -6.597656 -0.664062 -6.390625 -0.46875 -6.109375 C -0.269531 -5.835938 -0.117188 -5.503906 -0.015625 -5.109375 C 0.0859375 -4.710938 0.140625 -4.257812 0.140625 -3.75 C 0.140625 -3.28125 0.101562 -2.863281 0.03125 -2.5 C -0.03125 -2.132812 -0.140625 -1.8125 -0.296875 -1.53125 C -0.453125 -1.25 -0.65625 -1.015625 -0.90625 -0.828125 C -1.164062 -0.640625 -1.484375 -0.503906 -1.859375 -0.421875 L -2.09375 -1.578125 C -1.664062 -1.691406 -1.351562 -1.925781 -1.15625 -2.28125 C -0.957031 -2.632812 -0.859375 -3.125 -0.859375 -3.75 C -0.859375 -4.03125 -0.875 -4.285156 -0.90625 -4.515625 C -0.945312 -4.753906 -1.015625 -4.957031 -1.109375 -5.125 C -1.210938 -5.300781 -1.34375 -5.4375 -1.5 -5.53125 C -1.65625 -5.625 -1.851562 -5.671875 -2.09375 -5.671875 C -2.332031 -5.671875 -2.523438 -5.613281 -2.671875 -5.5 C -2.828125 -5.394531 -2.957031 -5.238281 -3.0625 -5.03125 C -3.164062 -4.832031 -3.253906 -4.585938 -3.328125 -4.296875 C -3.398438 -4.015625 -3.484375 -3.707031 -3.578125 -3.375 C -3.660156 -3.050781 -3.753906 -2.734375 -3.859375 -2.421875 C -3.960938 -2.109375 -4.097656 -1.828125 -4.265625 -1.578125 C -4.429688 -1.328125 -4.640625 -1.125 -4.890625 -0.96875 C -5.140625 -0.8125 -5.453125 -0.734375 -5.828125 -0.734375 C -6.554688 -0.734375 -7.109375 -0.988281 -7.484375 -1.5 C -7.859375 -2.019531 -8.046875 -2.769531 -8.046875 -3.75 C -8.046875 -4.625 -7.890625 -5.316406 -7.578125 -5.828125 C -7.273438 -6.347656 -6.785156 -6.675781 -6.109375 -6.8125 L -5.96875 -5.625 C -6.164062 -5.582031 -6.332031 -5.503906 -6.46875 -5.390625 C -6.613281 -5.273438 -6.726562 -5.132812 -6.8125 -4.96875 C -6.894531 -4.800781 -6.953125 -4.613281 -6.984375 -4.40625 C -7.023438 -4.195312 -7.046875 -3.976562 -7.046875 -3.75 C -7.046875 -3.15625 -6.957031 -2.71875 -6.78125 -2.4375 C -6.601562 -2.15625 -6.332031 -2.015625 -5.96875 -2.015625 C -5.75 -2.015625 -5.566406 -2.066406 -5.421875 -2.171875 C -5.285156 -2.273438 -5.171875 -2.421875 -5.078125 -2.609375 C -4.984375 -2.796875 -4.898438 -3.019531 -4.828125 -3.28125 C -4.753906 -3.550781 -4.679688 -3.84375 -4.609375 -4.15625 C -4.554688 -4.363281 -4.5 -4.578125 -4.4375 -4.796875 C -4.375 -5.023438 -4.300781 -5.238281 -4.21875 -5.4375 C -4.132812 -5.644531 -4.035156 -5.84375 -3.921875 -6.03125 C -3.804688 -6.21875 -3.664062 -6.378906 -3.5 -6.515625 C -3.34375 -6.648438 -3.15625 -6.753906 -2.9375 -6.828125 C -2.71875 -6.910156 -2.46875 -6.953125 -2.1875 -6.953125 Z M -2.1875 -6.953125 \"/>\n",
       "</symbol>\n",
       "<symbol overflow=\"visible\" id=\"glyph2-10\">\n",
       "<path style=\"stroke:none;\" d=\"M -0.0625 -4.0625 C -0.0078125 -3.851562 0.03125 -3.644531 0.0625 -3.4375 C 0.101562 -3.238281 0.125 -3 0.125 -2.71875 C 0.125 -1.664062 -0.472656 -1.140625 -1.671875 -1.140625 L -6.96875 -1.140625 L -6.96875 -0.234375 L -7.921875 -0.234375 L -7.921875 -1.1875 L -9.703125 -1.578125 L -9.703125 -2.46875 L -7.921875 -2.46875 L -7.921875 -3.921875 L -6.96875 -3.921875 L -6.96875 -2.46875 L -1.96875 -2.46875 C -1.582031 -2.46875 -1.3125 -2.523438 -1.15625 -2.640625 C -1.007812 -2.765625 -0.9375 -2.984375 -0.9375 -3.296875 C -0.9375 -3.421875 -0.941406 -3.539062 -0.953125 -3.65625 C -0.972656 -3.78125 -1 -3.914062 -1.03125 -4.0625 Z M -0.0625 -4.0625 \"/>\n",
       "</symbol>\n",
       "<symbol overflow=\"visible\" id=\"glyph2-11\">\n",
       "<path style=\"stroke:none;\" d=\"M -9.609375 -1 L -10.875 -1 L -10.875 -2.328125 L -9.609375 -2.328125 Z M 0 -1 L -7.921875 -1 L -7.921875 -2.328125 L 0 -2.328125 Z M 0 -1 \"/>\n",
       "</symbol>\n",
       "<symbol overflow=\"visible\" id=\"glyph2-12\">\n",
       "<path style=\"stroke:none;\" d=\"M 0 -5.625 L -5.03125 -5.625 C -5.414062 -5.625 -5.734375 -5.597656 -5.984375 -5.546875 C -6.242188 -5.503906 -6.453125 -5.425781 -6.609375 -5.3125 C -6.773438 -5.195312 -6.890625 -5.046875 -6.953125 -4.859375 C -7.015625 -4.671875 -7.046875 -4.441406 -7.046875 -4.171875 C -7.046875 -3.890625 -6.988281 -3.632812 -6.875 -3.40625 C -6.769531 -3.1875 -6.613281 -3 -6.40625 -2.84375 C -6.195312 -2.6875 -5.941406 -2.5625 -5.640625 -2.46875 C -5.335938 -2.382812 -4.988281 -2.34375 -4.59375 -2.34375 L 0 -2.34375 L 0 -1.046875 L -6.234375 -1.046875 C -6.398438 -1.046875 -6.570312 -1.039062 -6.75 -1.03125 C -6.9375 -1.03125 -7.109375 -1.023438 -7.265625 -1.015625 C -7.429688 -1.015625 -7.570312 -1.007812 -7.6875 -1 C -7.8125 -1 -7.890625 -1 -7.921875 -1 L -7.921875 -2.234375 C -7.898438 -2.242188 -7.832031 -2.25 -7.71875 -2.25 C -7.613281 -2.257812 -7.492188 -2.265625 -7.359375 -2.265625 C -7.222656 -2.273438 -7.082031 -2.28125 -6.9375 -2.28125 C -6.789062 -2.289062 -6.664062 -2.296875 -6.5625 -2.296875 L -6.5625 -2.328125 C -6.800781 -2.441406 -7.007812 -2.566406 -7.1875 -2.703125 C -7.375 -2.835938 -7.53125 -2.992188 -7.65625 -3.171875 C -7.789062 -3.359375 -7.894531 -3.570312 -7.96875 -3.8125 C -8.039062 -4.050781 -8.078125 -4.328125 -8.078125 -4.640625 C -8.078125 -5.234375 -7.957031 -5.703125 -7.71875 -6.046875 C -7.476562 -6.398438 -7.09375 -6.648438 -6.5625 -6.796875 L -6.5625 -6.8125 C -6.800781 -6.925781 -7.007812 -7.054688 -7.1875 -7.203125 C -7.375 -7.347656 -7.53125 -7.519531 -7.65625 -7.71875 C -7.789062 -7.914062 -7.894531 -8.132812 -7.96875 -8.375 C -8.039062 -8.625 -8.078125 -8.90625 -8.078125 -9.21875 C -8.078125 -9.613281 -8.019531 -9.957031 -7.90625 -10.25 C -7.800781 -10.539062 -7.632812 -10.78125 -7.40625 -10.96875 C -7.1875 -11.15625 -6.898438 -11.289062 -6.546875 -11.375 C -6.191406 -11.457031 -5.769531 -11.5 -5.28125 -11.5 L 0 -11.5 L 0 -10.203125 L -5.03125 -10.203125 C -5.414062 -10.203125 -5.734375 -10.175781 -5.984375 -10.125 C -6.242188 -10.082031 -6.453125 -10.003906 -6.609375 -9.890625 C -6.773438 -9.773438 -6.890625 -9.625 -6.953125 -9.4375 C -7.015625 -9.25 -7.046875 -9.019531 -7.046875 -8.75 C -7.046875 -8.46875 -6.992188 -8.210938 -6.890625 -7.984375 C -6.785156 -7.765625 -6.628906 -7.578125 -6.421875 -7.421875 C -6.222656 -7.265625 -5.96875 -7.140625 -5.65625 -7.046875 C -5.351562 -6.960938 -5 -6.921875 -4.59375 -6.921875 L 0 -6.921875 Z M 0 -5.625 \"/>\n",
       "</symbol>\n",
       "<symbol overflow=\"visible\" id=\"glyph2-13\">\n",
       "<path style=\"stroke:none;\" d=\"M -3.6875 -2.015625 C -3.269531 -2.015625 -2.882812 -2.054688 -2.53125 -2.140625 C -2.1875 -2.234375 -1.890625 -2.367188 -1.640625 -2.546875 C -1.390625 -2.722656 -1.191406 -2.945312 -1.046875 -3.21875 C -0.910156 -3.5 -0.84375 -3.835938 -0.84375 -4.234375 C -0.84375 -4.804688 -0.957031 -5.265625 -1.1875 -5.609375 C -1.414062 -5.953125 -1.707031 -6.1875 -2.0625 -6.3125 L -1.734375 -7.46875 C -1.515625 -7.382812 -1.289062 -7.265625 -1.0625 -7.109375 C -0.84375 -6.960938 -0.644531 -6.765625 -0.46875 -6.515625 C -0.289062 -6.265625 -0.144531 -5.953125 -0.03125 -5.578125 C 0.0820312 -5.210938 0.140625 -4.765625 0.140625 -4.234375 C 0.140625 -3.054688 -0.207031 -2.160156 -0.90625 -1.546875 C -1.601562 -0.941406 -2.640625 -0.640625 -4.015625 -0.640625 C -4.753906 -0.640625 -5.378906 -0.726562 -5.890625 -0.90625 C -6.410156 -1.09375 -6.832031 -1.347656 -7.15625 -1.671875 C -7.476562 -1.992188 -7.710938 -2.367188 -7.859375 -2.796875 C -8.003906 -3.234375 -8.078125 -3.695312 -8.078125 -4.1875 C -8.078125 -4.84375 -7.96875 -5.394531 -7.75 -5.84375 C -7.53125 -6.289062 -7.234375 -6.648438 -6.859375 -6.921875 C -6.484375 -7.191406 -6.035156 -7.382812 -5.515625 -7.5 C -5.003906 -7.613281 -4.453125 -7.671875 -3.859375 -7.671875 L -3.6875 -7.671875 Z M -4.6875 -6.3125 C -5.53125 -6.238281 -6.140625 -6.023438 -6.515625 -5.671875 C -6.898438 -5.328125 -7.09375 -4.820312 -7.09375 -4.15625 C -7.09375 -3.9375 -7.054688 -3.707031 -6.984375 -3.46875 C -6.921875 -3.226562 -6.796875 -3.003906 -6.609375 -2.796875 C -6.429688 -2.585938 -6.1875 -2.410156 -5.875 -2.265625 C -5.5625 -2.128906 -5.164062 -2.050781 -4.6875 -2.03125 Z M -4.6875 -6.3125 \"/>\n",
       "</symbol>\n",
       "</g>\n",
       "<clipPath id=\"clip1\">\n",
       "  <path d=\"M 51.152344 5.480469 L 498.523438 5.480469 L 498.523438 464.851562 L 51.152344 464.851562 Z M 51.152344 5.480469 \"/>\n",
       "</clipPath>\n",
       "<clipPath id=\"clip2\">\n",
       "  <path d=\"M 51.152344 384 L 498.523438 384 L 498.523438 385 L 51.152344 385 Z M 51.152344 384 \"/>\n",
       "</clipPath>\n",
       "<clipPath id=\"clip3\">\n",
       "  <path d=\"M 51.152344 253 L 498.523438 253 L 498.523438 255 L 51.152344 255 Z M 51.152344 253 \"/>\n",
       "</clipPath>\n",
       "<clipPath id=\"clip4\">\n",
       "  <path d=\"M 51.152344 123 L 498.523438 123 L 498.523438 125 L 51.152344 125 Z M 51.152344 123 \"/>\n",
       "</clipPath>\n",
       "<clipPath id=\"clip5\">\n",
       "  <path d=\"M 103 5.480469 L 105 5.480469 L 105 464.851562 L 103 464.851562 Z M 103 5.480469 \"/>\n",
       "</clipPath>\n",
       "<clipPath id=\"clip6\">\n",
       "  <path d=\"M 185 5.480469 L 186 5.480469 L 186 464.851562 L 185 464.851562 Z M 185 5.480469 \"/>\n",
       "</clipPath>\n",
       "<clipPath id=\"clip7\">\n",
       "  <path d=\"M 266 5.480469 L 267 5.480469 L 267 464.851562 L 266 464.851562 Z M 266 5.480469 \"/>\n",
       "</clipPath>\n",
       "<clipPath id=\"clip8\">\n",
       "  <path d=\"M 347 5.480469 L 349 5.480469 L 349 464.851562 L 347 464.851562 Z M 347 5.480469 \"/>\n",
       "</clipPath>\n",
       "<clipPath id=\"clip9\">\n",
       "  <path d=\"M 429 5.480469 L 430 5.480469 L 430 464.851562 L 429 464.851562 Z M 429 5.480469 \"/>\n",
       "</clipPath>\n",
       "<clipPath id=\"clip10\">\n",
       "  <path d=\"M 51.152344 449 L 498.523438 449 L 498.523438 451 L 51.152344 451 Z M 51.152344 449 \"/>\n",
       "</clipPath>\n",
       "<clipPath id=\"clip11\">\n",
       "  <path d=\"M 51.152344 318 L 498.523438 318 L 498.523438 320 L 51.152344 320 Z M 51.152344 318 \"/>\n",
       "</clipPath>\n",
       "<clipPath id=\"clip12\">\n",
       "  <path d=\"M 51.152344 188 L 498.523438 188 L 498.523438 190 L 51.152344 190 Z M 51.152344 188 \"/>\n",
       "</clipPath>\n",
       "<clipPath id=\"clip13\">\n",
       "  <path d=\"M 51.152344 58 L 498.523438 58 L 498.523438 60 L 51.152344 60 Z M 51.152344 58 \"/>\n",
       "</clipPath>\n",
       "<clipPath id=\"clip14\">\n",
       "  <path d=\"M 62 5.480469 L 64 5.480469 L 64 464.851562 L 62 464.851562 Z M 62 5.480469 \"/>\n",
       "</clipPath>\n",
       "<clipPath id=\"clip15\">\n",
       "  <path d=\"M 144 5.480469 L 146 5.480469 L 146 464.851562 L 144 464.851562 Z M 144 5.480469 \"/>\n",
       "</clipPath>\n",
       "<clipPath id=\"clip16\">\n",
       "  <path d=\"M 225 5.480469 L 227 5.480469 L 227 464.851562 L 225 464.851562 Z M 225 5.480469 \"/>\n",
       "</clipPath>\n",
       "<clipPath id=\"clip17\">\n",
       "  <path d=\"M 306 5.480469 L 308 5.480469 L 308 464.851562 L 306 464.851562 Z M 306 5.480469 \"/>\n",
       "</clipPath>\n",
       "<clipPath id=\"clip18\">\n",
       "  <path d=\"M 388 5.480469 L 390 5.480469 L 390 464.851562 L 388 464.851562 Z M 388 5.480469 \"/>\n",
       "</clipPath>\n",
       "<clipPath id=\"clip19\">\n",
       "  <path d=\"M 469 5.480469 L 471 5.480469 L 471 464.851562 L 469 464.851562 Z M 469 5.480469 \"/>\n",
       "</clipPath>\n",
       "</defs>\n",
       "<g id=\"surface131\">\n",
       "<rect x=\"0\" y=\"0\" width=\"504\" height=\"504\" style=\"fill:rgb(100%,100%,100%);fill-opacity:1;stroke:none;\"/>\n",
       "<rect x=\"0\" y=\"0\" width=\"504\" height=\"504\" style=\"fill:rgb(100%,100%,100%);fill-opacity:1;stroke:none;\"/>\n",
       "<path style=\"fill:none;stroke-width:1.066978;stroke-linecap:round;stroke-linejoin:round;stroke:rgb(100%,100%,100%);stroke-opacity:1;stroke-miterlimit:10;\" d=\"M 0 504 L 504 504 L 504 0 L 0 0 Z M 0 504 \"/>\n",
       "<g clip-path=\"url(#clip1)\" clip-rule=\"nonzero\">\n",
       "<path style=\" stroke:none;fill-rule:nonzero;fill:rgb(92.156863%,92.156863%,92.156863%);fill-opacity:1;\" d=\"M 51.152344 464.847656 L 498.523438 464.847656 L 498.523438 5.476562 L 51.152344 5.476562 Z M 51.152344 464.847656 \"/>\n",
       "</g>\n",
       "<g clip-path=\"url(#clip2)\" clip-rule=\"nonzero\">\n",
       "<path style=\"fill:none;stroke-width:0.533489;stroke-linecap:butt;stroke-linejoin:round;stroke:rgb(100%,100%,100%);stroke-opacity:1;stroke-miterlimit:10;\" d=\"M 51.152344 384.664062 L 498.519531 384.664062 \"/>\n",
       "</g>\n",
       "<g clip-path=\"url(#clip3)\" clip-rule=\"nonzero\">\n",
       "<path style=\"fill:none;stroke-width:0.533489;stroke-linecap:butt;stroke-linejoin:round;stroke:rgb(100%,100%,100%);stroke-opacity:1;stroke-miterlimit:10;\" d=\"M 51.152344 254.253906 L 498.519531 254.253906 \"/>\n",
       "</g>\n",
       "<g clip-path=\"url(#clip4)\" clip-rule=\"nonzero\">\n",
       "<path style=\"fill:none;stroke-width:0.533489;stroke-linecap:butt;stroke-linejoin:round;stroke:rgb(100%,100%,100%);stroke-opacity:1;stroke-miterlimit:10;\" d=\"M 51.152344 123.84375 L 498.519531 123.84375 \"/>\n",
       "</g>\n",
       "<g clip-path=\"url(#clip5)\" clip-rule=\"nonzero\">\n",
       "<path style=\"fill:none;stroke-width:0.533489;stroke-linecap:butt;stroke-linejoin:round;stroke:rgb(100%,100%,100%);stroke-opacity:1;stroke-miterlimit:10;\" d=\"M 104.023438 464.847656 L 104.023438 5.480469 \"/>\n",
       "</g>\n",
       "<g clip-path=\"url(#clip6)\" clip-rule=\"nonzero\">\n",
       "<path style=\"fill:none;stroke-width:0.533489;stroke-linecap:butt;stroke-linejoin:round;stroke:rgb(100%,100%,100%);stroke-opacity:1;stroke-miterlimit:10;\" d=\"M 185.363281 464.847656 L 185.363281 5.480469 \"/>\n",
       "</g>\n",
       "<g clip-path=\"url(#clip7)\" clip-rule=\"nonzero\">\n",
       "<path style=\"fill:none;stroke-width:0.533489;stroke-linecap:butt;stroke-linejoin:round;stroke:rgb(100%,100%,100%);stroke-opacity:1;stroke-miterlimit:10;\" d=\"M 266.703125 464.847656 L 266.703125 5.480469 \"/>\n",
       "</g>\n",
       "<g clip-path=\"url(#clip8)\" clip-rule=\"nonzero\">\n",
       "<path style=\"fill:none;stroke-width:0.533489;stroke-linecap:butt;stroke-linejoin:round;stroke:rgb(100%,100%,100%);stroke-opacity:1;stroke-miterlimit:10;\" d=\"M 348.042969 464.847656 L 348.042969 5.480469 \"/>\n",
       "</g>\n",
       "<g clip-path=\"url(#clip9)\" clip-rule=\"nonzero\">\n",
       "<path style=\"fill:none;stroke-width:0.533489;stroke-linecap:butt;stroke-linejoin:round;stroke:rgb(100%,100%,100%);stroke-opacity:1;stroke-miterlimit:10;\" d=\"M 429.382812 464.847656 L 429.382812 5.480469 \"/>\n",
       "</g>\n",
       "<g clip-path=\"url(#clip10)\" clip-rule=\"nonzero\">\n",
       "<path style=\"fill:none;stroke-width:1.066978;stroke-linecap:butt;stroke-linejoin:round;stroke:rgb(100%,100%,100%);stroke-opacity:1;stroke-miterlimit:10;\" d=\"M 51.152344 449.871094 L 498.519531 449.871094 \"/>\n",
       "</g>\n",
       "<g clip-path=\"url(#clip11)\" clip-rule=\"nonzero\">\n",
       "<path style=\"fill:none;stroke-width:1.066978;stroke-linecap:butt;stroke-linejoin:round;stroke:rgb(100%,100%,100%);stroke-opacity:1;stroke-miterlimit:10;\" d=\"M 51.152344 319.460938 L 498.519531 319.460938 \"/>\n",
       "</g>\n",
       "<g clip-path=\"url(#clip12)\" clip-rule=\"nonzero\">\n",
       "<path style=\"fill:none;stroke-width:1.066978;stroke-linecap:butt;stroke-linejoin:round;stroke:rgb(100%,100%,100%);stroke-opacity:1;stroke-miterlimit:10;\" d=\"M 51.152344 189.050781 L 498.519531 189.050781 \"/>\n",
       "</g>\n",
       "<g clip-path=\"url(#clip13)\" clip-rule=\"nonzero\">\n",
       "<path style=\"fill:none;stroke-width:1.066978;stroke-linecap:butt;stroke-linejoin:round;stroke:rgb(100%,100%,100%);stroke-opacity:1;stroke-miterlimit:10;\" d=\"M 51.152344 58.640625 L 498.519531 58.640625 \"/>\n",
       "</g>\n",
       "<g clip-path=\"url(#clip14)\" clip-rule=\"nonzero\">\n",
       "<path style=\"fill:none;stroke-width:1.066978;stroke-linecap:butt;stroke-linejoin:round;stroke:rgb(100%,100%,100%);stroke-opacity:1;stroke-miterlimit:10;\" d=\"M 63.351562 464.847656 L 63.351562 5.480469 \"/>\n",
       "</g>\n",
       "<g clip-path=\"url(#clip15)\" clip-rule=\"nonzero\">\n",
       "<path style=\"fill:none;stroke-width:1.066978;stroke-linecap:butt;stroke-linejoin:round;stroke:rgb(100%,100%,100%);stroke-opacity:1;stroke-miterlimit:10;\" d=\"M 144.691406 464.847656 L 144.691406 5.480469 \"/>\n",
       "</g>\n",
       "<g clip-path=\"url(#clip16)\" clip-rule=\"nonzero\">\n",
       "<path style=\"fill:none;stroke-width:1.066978;stroke-linecap:butt;stroke-linejoin:round;stroke:rgb(100%,100%,100%);stroke-opacity:1;stroke-miterlimit:10;\" d=\"M 226.03125 464.847656 L 226.03125 5.480469 \"/>\n",
       "</g>\n",
       "<g clip-path=\"url(#clip17)\" clip-rule=\"nonzero\">\n",
       "<path style=\"fill:none;stroke-width:1.066978;stroke-linecap:butt;stroke-linejoin:round;stroke:rgb(100%,100%,100%);stroke-opacity:1;stroke-miterlimit:10;\" d=\"M 307.371094 464.847656 L 307.371094 5.480469 \"/>\n",
       "</g>\n",
       "<g clip-path=\"url(#clip18)\" clip-rule=\"nonzero\">\n",
       "<path style=\"fill:none;stroke-width:1.066978;stroke-linecap:butt;stroke-linejoin:round;stroke:rgb(100%,100%,100%);stroke-opacity:1;stroke-miterlimit:10;\" d=\"M 388.710938 464.847656 L 388.710938 5.480469 \"/>\n",
       "</g>\n",
       "<g clip-path=\"url(#clip19)\" clip-rule=\"nonzero\">\n",
       "<path style=\"fill:none;stroke-width:1.066978;stroke-linecap:butt;stroke-linejoin:round;stroke:rgb(100%,100%,100%);stroke-opacity:1;stroke-miterlimit:10;\" d=\"M 470.050781 464.847656 L 470.050781 5.480469 \"/>\n",
       "</g>\n",
       "<path style=\"fill-rule:nonzero;fill:rgb(0%,0%,0%);fill-opacity:1;stroke-width:0.708661;stroke-linecap:round;stroke-linejoin:round;stroke:rgb(0%,0%,0%);stroke-opacity:1;stroke-miterlimit:10;\" d=\"M 73.441406 443.96875 C 73.441406 446.574219 69.53125 446.574219 69.53125 443.96875 C 69.53125 441.363281 73.441406 441.363281 73.441406 443.96875 \"/>\n",
       "<path style=\"fill-rule:nonzero;fill:rgb(0%,0%,0%);fill-opacity:1;stroke-width:0.708661;stroke-linecap:round;stroke-linejoin:round;stroke:rgb(0%,0%,0%);stroke-opacity:1;stroke-miterlimit:10;\" d=\"M 154.78125 103.949219 C 154.78125 106.554688 150.871094 106.554688 150.871094 103.949219 C 150.871094 101.339844 154.78125 101.339844 154.78125 103.949219 \"/>\n",
       "<path style=\"fill-rule:nonzero;fill:rgb(0%,0%,0%);fill-opacity:1;stroke-width:0.708661;stroke-linecap:round;stroke-linejoin:round;stroke:rgb(0%,0%,0%);stroke-opacity:1;stroke-miterlimit:10;\" d=\"M 236.121094 62.644531 C 236.121094 65.253906 232.210938 65.253906 232.210938 62.644531 C 232.210938 60.039062 236.121094 60.039062 236.121094 62.644531 \"/>\n",
       "<path style=\"fill-rule:nonzero;fill:rgb(0%,0%,0%);fill-opacity:1;stroke-width:0.708661;stroke-linecap:round;stroke-linejoin:round;stroke:rgb(0%,0%,0%);stroke-opacity:1;stroke-miterlimit:10;\" d=\"M 317.460938 30.066406 C 317.460938 32.671875 313.550781 32.671875 313.550781 30.066406 C 313.550781 27.457031 317.460938 27.457031 317.460938 30.066406 \"/>\n",
       "<path style=\"fill-rule:nonzero;fill:rgb(0%,0%,0%);fill-opacity:1;stroke-width:0.708661;stroke-linecap:round;stroke-linejoin:round;stroke:rgb(0%,0%,0%);stroke-opacity:1;stroke-miterlimit:10;\" d=\"M 398.800781 26.359375 C 398.800781 28.964844 394.890625 28.964844 394.890625 26.359375 C 394.890625 23.753906 398.800781 23.753906 398.800781 26.359375 \"/>\n",
       "<path style=\"fill-rule:nonzero;fill:rgb(0%,0%,0%);fill-opacity:1;stroke-width:0.708661;stroke-linecap:round;stroke-linejoin:round;stroke:rgb(0%,0%,0%);stroke-opacity:1;stroke-miterlimit:10;\" d=\"M 480.140625 27.417969 C 480.140625 30.023438 476.230469 30.023438 476.230469 27.417969 C 476.230469 24.8125 480.140625 24.8125 480.140625 27.417969 \"/>\n",
       "<path style=\"fill:none;stroke-width:1.066978;stroke-linecap:butt;stroke-linejoin:round;stroke:rgb(0%,0%,0%);stroke-opacity:1;stroke-miterlimit:10;\" d=\"M 71.484375 443.96875 L 152.824219 103.949219 L 234.164062 62.644531 L 315.503906 30.066406 L 396.84375 26.359375 L 478.1875 27.417969 \"/>\n",
       "<g style=\"fill:rgb(30.196078%,30.196078%,30.196078%);fill-opacity:1;\">\n",
       "  <use xlink:href=\"#glyph0-1\" x=\"22.21875\" y=\"454.234375\"/>\n",
       "  <use xlink:href=\"#glyph0-2\" x=\"29.21875\" y=\"454.234375\"/>\n",
       "  <use xlink:href=\"#glyph0-3\" x=\"32.21875\" y=\"454.234375\"/>\n",
       "  <use xlink:href=\"#glyph0-4\" x=\"39.21875\" y=\"454.234375\"/>\n",
       "</g>\n",
       "<g style=\"fill:rgb(30.196078%,30.196078%,30.196078%);fill-opacity:1;\">\n",
       "  <use xlink:href=\"#glyph0-1\" x=\"22.21875\" y=\"323.824219\"/>\n",
       "  <use xlink:href=\"#glyph0-2\" x=\"29.21875\" y=\"323.824219\"/>\n",
       "  <use xlink:href=\"#glyph0-3\" x=\"32.21875\" y=\"323.824219\"/>\n",
       "  <use xlink:href=\"#glyph0-3\" x=\"39.21875\" y=\"323.824219\"/>\n",
       "</g>\n",
       "<g style=\"fill:rgb(30.196078%,30.196078%,30.196078%);fill-opacity:1;\">\n",
       "  <use xlink:href=\"#glyph0-1\" x=\"22.21875\" y=\"193.414062\"/>\n",
       "  <use xlink:href=\"#glyph0-2\" x=\"29.21875\" y=\"193.414062\"/>\n",
       "  <use xlink:href=\"#glyph0-3\" x=\"32.21875\" y=\"193.414062\"/>\n",
       "  <use xlink:href=\"#glyph0-5\" x=\"39.21875\" y=\"193.414062\"/>\n",
       "</g>\n",
       "<g style=\"fill:rgb(30.196078%,30.196078%,30.196078%);fill-opacity:1;\">\n",
       "  <use xlink:href=\"#glyph0-1\" x=\"22.21875\" y=\"63.003906\"/>\n",
       "  <use xlink:href=\"#glyph0-2\" x=\"29.21875\" y=\"63.003906\"/>\n",
       "  <use xlink:href=\"#glyph0-3\" x=\"32.21875\" y=\"63.003906\"/>\n",
       "  <use xlink:href=\"#glyph0-6\" x=\"39.21875\" y=\"63.003906\"/>\n",
       "</g>\n",
       "<path style=\"fill:none;stroke-width:1.066978;stroke-linecap:butt;stroke-linejoin:round;stroke:rgb(20%,20%,20%);stroke-opacity:1;stroke-miterlimit:10;\" d=\"M 48.410156 449.871094 L 51.152344 449.871094 \"/>\n",
       "<path style=\"fill:none;stroke-width:1.066978;stroke-linecap:butt;stroke-linejoin:round;stroke:rgb(20%,20%,20%);stroke-opacity:1;stroke-miterlimit:10;\" d=\"M 48.410156 319.460938 L 51.152344 319.460938 \"/>\n",
       "<path style=\"fill:none;stroke-width:1.066978;stroke-linecap:butt;stroke-linejoin:round;stroke:rgb(20%,20%,20%);stroke-opacity:1;stroke-miterlimit:10;\" d=\"M 48.410156 189.050781 L 51.152344 189.050781 \"/>\n",
       "<path style=\"fill:none;stroke-width:1.066978;stroke-linecap:butt;stroke-linejoin:round;stroke:rgb(20%,20%,20%);stroke-opacity:1;stroke-miterlimit:10;\" d=\"M 48.410156 58.640625 L 51.152344 58.640625 \"/>\n",
       "<path style=\"fill:none;stroke-width:1.066978;stroke-linecap:butt;stroke-linejoin:round;stroke:rgb(20%,20%,20%);stroke-opacity:1;stroke-miterlimit:10;\" d=\"M 63.351562 467.589844 L 63.351562 464.847656 \"/>\n",
       "<path style=\"fill:none;stroke-width:1.066978;stroke-linecap:butt;stroke-linejoin:round;stroke:rgb(20%,20%,20%);stroke-opacity:1;stroke-miterlimit:10;\" d=\"M 144.691406 467.589844 L 144.691406 464.847656 \"/>\n",
       "<path style=\"fill:none;stroke-width:1.066978;stroke-linecap:butt;stroke-linejoin:round;stroke:rgb(20%,20%,20%);stroke-opacity:1;stroke-miterlimit:10;\" d=\"M 226.03125 467.589844 L 226.03125 464.847656 \"/>\n",
       "<path style=\"fill:none;stroke-width:1.066978;stroke-linecap:butt;stroke-linejoin:round;stroke:rgb(20%,20%,20%);stroke-opacity:1;stroke-miterlimit:10;\" d=\"M 307.371094 467.589844 L 307.371094 464.847656 \"/>\n",
       "<path style=\"fill:none;stroke-width:1.066978;stroke-linecap:butt;stroke-linejoin:round;stroke:rgb(20%,20%,20%);stroke-opacity:1;stroke-miterlimit:10;\" d=\"M 388.710938 467.589844 L 388.710938 464.847656 \"/>\n",
       "<path style=\"fill:none;stroke-width:1.066978;stroke-linecap:butt;stroke-linejoin:round;stroke:rgb(20%,20%,20%);stroke-opacity:1;stroke-miterlimit:10;\" d=\"M 470.050781 467.589844 L 470.050781 464.847656 \"/>\n",
       "<g style=\"fill:rgb(30.196078%,30.196078%,30.196078%);fill-opacity:1;\">\n",
       "  <use xlink:href=\"#glyph0-1\" x=\"59.851562\" y=\"478.644531\"/>\n",
       "</g>\n",
       "<g style=\"fill:rgb(30.196078%,30.196078%,30.196078%);fill-opacity:1;\">\n",
       "  <use xlink:href=\"#glyph0-7\" x=\"137.691406\" y=\"478.644531\"/>\n",
       "  <use xlink:href=\"#glyph0-1\" x=\"144.691406\" y=\"478.644531\"/>\n",
       "</g>\n",
       "<g style=\"fill:rgb(30.196078%,30.196078%,30.196078%);fill-opacity:1;\">\n",
       "  <use xlink:href=\"#glyph0-4\" x=\"219.03125\" y=\"478.644531\"/>\n",
       "  <use xlink:href=\"#glyph0-1\" x=\"226.03125\" y=\"478.644531\"/>\n",
       "</g>\n",
       "<g style=\"fill:rgb(30.196078%,30.196078%,30.196078%);fill-opacity:1;\">\n",
       "  <use xlink:href=\"#glyph0-8\" x=\"300.371094\" y=\"478.644531\"/>\n",
       "  <use xlink:href=\"#glyph0-1\" x=\"307.371094\" y=\"478.644531\"/>\n",
       "</g>\n",
       "<g style=\"fill:rgb(30.196078%,30.196078%,30.196078%);fill-opacity:1;\">\n",
       "  <use xlink:href=\"#glyph0-3\" x=\"381.710938\" y=\"478.644531\"/>\n",
       "  <use xlink:href=\"#glyph0-1\" x=\"388.710938\" y=\"478.644531\"/>\n",
       "</g>\n",
       "<g style=\"fill:rgb(30.196078%,30.196078%,30.196078%);fill-opacity:1;\">\n",
       "  <use xlink:href=\"#glyph0-9\" x=\"463.050781\" y=\"478.644531\"/>\n",
       "  <use xlink:href=\"#glyph0-1\" x=\"470.050781\" y=\"478.644531\"/>\n",
       "</g>\n",
       "<g style=\"fill:rgb(0%,0%,0%);fill-opacity:1;\">\n",
       "  <use xlink:href=\"#glyph1-1\" x=\"241.335938\" y=\"495.098633\"/>\n",
       "  <use xlink:href=\"#glyph1-2\" x=\"252.335938\" y=\"495.098633\"/>\n",
       "  <use xlink:href=\"#glyph1-3\" x=\"260.335938\" y=\"495.098633\"/>\n",
       "  <use xlink:href=\"#glyph1-4\" x=\"263.335938\" y=\"495.098633\"/>\n",
       "  <use xlink:href=\"#glyph1-5\" x=\"271.335938\" y=\"495.098633\"/>\n",
       "  <use xlink:href=\"#glyph1-6\" x=\"279.335938\" y=\"495.098633\"/>\n",
       "  <use xlink:href=\"#glyph1-7\" x=\"287.335938\" y=\"495.098633\"/>\n",
       "  <use xlink:href=\"#glyph1-8\" x=\"295.335938\" y=\"495.098633\"/>\n",
       "  <use xlink:href=\"#glyph1-9\" x=\"300.335938\" y=\"495.098633\"/>\n",
       "</g>\n",
       "<g style=\"fill:rgb(0%,0%,0%);fill-opacity:1;\">\n",
       "  <use xlink:href=\"#glyph2-1\" x=\"16.05957\" y=\"297.164062\"/>\n",
       "  <use xlink:href=\"#glyph2-2\" x=\"16.05957\" y=\"287.164062\"/>\n",
       "  <use xlink:href=\"#glyph2-2\" x=\"16.05957\" y=\"279.164062\"/>\n",
       "  <use xlink:href=\"#glyph2-3\" x=\"16.05957\" y=\"271.164062\"/>\n",
       "  <use xlink:href=\"#glyph2-4\" x=\"16.05957\" y=\"263.164062\"/>\n",
       "  <use xlink:href=\"#glyph2-5\" x=\"16.05957\" y=\"258.164062\"/>\n",
       "  <use xlink:href=\"#glyph2-2\" x=\"16.05957\" y=\"250.164062\"/>\n",
       "  <use xlink:href=\"#glyph2-6\" x=\"16.05957\" y=\"242.164062\"/>\n",
       "  <use xlink:href=\"#glyph2-7\" x=\"16.05957\" y=\"234.164062\"/>\n",
       "  <use xlink:href=\"#glyph2-8\" x=\"16.05957\" y=\"230.164062\"/>\n",
       "  <use xlink:href=\"#glyph2-9\" x=\"16.05957\" y=\"220.164062\"/>\n",
       "  <use xlink:href=\"#glyph2-10\" x=\"16.05957\" y=\"212.164062\"/>\n",
       "  <use xlink:href=\"#glyph2-11\" x=\"16.05957\" y=\"208.164062\"/>\n",
       "  <use xlink:href=\"#glyph2-12\" x=\"16.05957\" y=\"205.164062\"/>\n",
       "  <use xlink:href=\"#glyph2-5\" x=\"16.05957\" y=\"193.164062\"/>\n",
       "  <use xlink:href=\"#glyph2-10\" x=\"16.05957\" y=\"185.164062\"/>\n",
       "  <use xlink:href=\"#glyph2-13\" x=\"16.05957\" y=\"181.164062\"/>\n",
       "</g>\n",
       "</g>\n",
       "</svg>\n"
      ],
      "text/plain": [
       "plot without title"
      ]
     },
     "metadata": {
      "application/pdf": {
       "height": 420,
       "width": 420
      },
      "image/jpeg": {
       "height": 420,
       "width": 420
      },
      "image/png": {
       "height": 420,
       "width": 420
      },
      "image/svg+xml": {
       "height": 420,
       "isolated": true,
       "width": 420
      }
     },
     "output_type": "display_data"
    }
   ],
   "source": [
    "# Plot the different accuracies of k, \n",
    "accuracy_vs_k <- ggplot(accuracies, aes(x = neighbors, y = mean)) +\n",
    "  geom_point() +\n",
    "  geom_line() +\n",
    "  labs(x = \"Neighbors\", y = \"Accuracy Estimate\") + \n",
    "  theme(text = element_text(size = 15))\n",
    "\n",
    "accuracy_vs_k"
   ]
  },
  {
   "cell_type": "markdown",
   "id": "26a4da17-a4c3-43ab-be4e-c16390b77727",
   "metadata": {},
   "source": [
    "**Figure 2.2** - Plot of accuracies of the different k"
   ]
  },
  {
   "cell_type": "code",
   "execution_count": 16,
   "id": "2108d1fe-f46d-40ca-8fc1-e95e8e44c334",
   "metadata": {
    "tags": []
   },
   "outputs": [],
   "source": [
    "# Calculate accuracy of the model using the best k and cross-validation\n",
    "\n",
    "knn_spec <- nearest_neighbor(weight_func = \"rectangular\", neighbors = 11) |>\n",
    "  set_engine(\"kknn\") |>\n",
    "  set_mode(\"classification\")\n",
    "\n",
    "knn_fit <- workflow() |>\n",
    "  add_recipe(data_recipe) |>\n",
    "  add_model(knn_spec) |>\n",
    "  fit_resamples(resamples = data_vfold)\n",
    "\n",
    "accuracy_value <- knn_fit |> \n",
    "  collect_metrics() "
   ]
  },
  {
   "cell_type": "code",
   "execution_count": 17,
   "id": "2ac35931-6950-4ac7-81e0-00ab626fa782",
   "metadata": {
    "tags": []
   },
   "outputs": [
    {
     "data": {
      "text/html": [
       "<table class=\"dataframe\">\n",
       "<caption>A tibble: 2 × 6</caption>\n",
       "<thead>\n",
       "\t<tr><th scope=col>.metric</th><th scope=col>.estimator</th><th scope=col>mean</th><th scope=col>n</th><th scope=col>std_err</th><th scope=col>.config</th></tr>\n",
       "\t<tr><th scope=col>&lt;chr&gt;</th><th scope=col>&lt;chr&gt;</th><th scope=col>&lt;dbl&gt;</th><th scope=col>&lt;int&gt;</th><th scope=col>&lt;dbl&gt;</th><th scope=col>&lt;chr&gt;</th></tr>\n",
       "</thead>\n",
       "<tbody>\n",
       "\t<tr><td>accuracy</td><td>multiclass</td><td>0.4730514</td><td>5</td><td>0.003223286</td><td>Preprocessor1_Model1</td></tr>\n",
       "\t<tr><td>roc_auc </td><td>hand_till </td><td>0.7747687</td><td>5</td><td>0.003256340</td><td>Preprocessor1_Model1</td></tr>\n",
       "</tbody>\n",
       "</table>\n"
      ],
      "text/latex": [
       "A tibble: 2 × 6\n",
       "\\begin{tabular}{llllll}\n",
       " .metric & .estimator & mean & n & std\\_err & .config\\\\\n",
       " <chr> & <chr> & <dbl> & <int> & <dbl> & <chr>\\\\\n",
       "\\hline\n",
       "\t accuracy & multiclass & 0.4730514 & 5 & 0.003223286 & Preprocessor1\\_Model1\\\\\n",
       "\t roc\\_auc  & hand\\_till  & 0.7747687 & 5 & 0.003256340 & Preprocessor1\\_Model1\\\\\n",
       "\\end{tabular}\n"
      ],
      "text/markdown": [
       "\n",
       "A tibble: 2 × 6\n",
       "\n",
       "| .metric &lt;chr&gt; | .estimator &lt;chr&gt; | mean &lt;dbl&gt; | n &lt;int&gt; | std_err &lt;dbl&gt; | .config &lt;chr&gt; |\n",
       "|---|---|---|---|---|---|\n",
       "| accuracy | multiclass | 0.4730514 | 5 | 0.003223286 | Preprocessor1_Model1 |\n",
       "| roc_auc  | hand_till  | 0.7747687 | 5 | 0.003256340 | Preprocessor1_Model1 |\n",
       "\n"
      ],
      "text/plain": [
       "  .metric  .estimator mean      n std_err     .config             \n",
       "1 accuracy multiclass 0.4730514 5 0.003223286 Preprocessor1_Model1\n",
       "2 roc_auc  hand_till  0.7747687 5 0.003256340 Preprocessor1_Model1"
      ]
     },
     "metadata": {},
     "output_type": "display_data"
    }
   ],
   "source": [
    "# Display accuracy of the model\n",
    "accuracy_value"
   ]
  },
  {
   "cell_type": "markdown",
   "id": "55783dd0-69e1-4366-9e25-5e4d7dd8715b",
   "metadata": {},
   "source": [
    "**Table 2.3** - Accuracy of the model"
   ]
  },
  {
   "cell_type": "code",
   "execution_count": 18,
   "id": "164da816-dfd7-4b76-8ea6-215653bae61f",
   "metadata": {
    "tags": []
   },
   "outputs": [],
   "source": [
    "#test predictions using test-data\n",
    "knn_fit <- workflow() |>\n",
    "  add_recipe(data_recipe) |>\n",
    "  add_model(knn_spec) |>\n",
    "  fit(train_data)\n",
    "\n",
    "data_test_predictions <- predict(knn_fit, test_data) |>\n",
    "  bind_cols(test_data)\n",
    "\n",
    "accuracy_only <- data_test_predictions |>\n",
    "  metrics(truth = playlist_genre, estimate = .pred_class) |>\n",
    "  filter(.metric == \"accuracy\")\n",
    "\n",
    "\n",
    "confusion <- data_test_predictions |>\n",
    "             conf_mat(truth = playlist_genre, estimate = .pred_class)"
   ]
  },
  {
   "cell_type": "code",
   "execution_count": 19,
   "id": "74135b7d-4b28-4791-9d40-8bd3412c50a7",
   "metadata": {
    "tags": []
   },
   "outputs": [
    {
     "data": {
      "text/html": [
       "<table class=\"dataframe\">\n",
       "<caption>A tibble: 1 × 3</caption>\n",
       "<thead>\n",
       "\t<tr><th scope=col>.metric</th><th scope=col>.estimator</th><th scope=col>.estimate</th></tr>\n",
       "\t<tr><th scope=col>&lt;chr&gt;</th><th scope=col>&lt;chr&gt;</th><th scope=col>&lt;dbl&gt;</th></tr>\n",
       "</thead>\n",
       "<tbody>\n",
       "\t<tr><td>accuracy</td><td>multiclass</td><td>0.4684531</td></tr>\n",
       "</tbody>\n",
       "</table>\n"
      ],
      "text/latex": [
       "A tibble: 1 × 3\n",
       "\\begin{tabular}{lll}\n",
       " .metric & .estimator & .estimate\\\\\n",
       " <chr> & <chr> & <dbl>\\\\\n",
       "\\hline\n",
       "\t accuracy & multiclass & 0.4684531\\\\\n",
       "\\end{tabular}\n"
      ],
      "text/markdown": [
       "\n",
       "A tibble: 1 × 3\n",
       "\n",
       "| .metric &lt;chr&gt; | .estimator &lt;chr&gt; | .estimate &lt;dbl&gt; |\n",
       "|---|---|---|\n",
       "| accuracy | multiclass | 0.4684531 |\n",
       "\n"
      ],
      "text/plain": [
       "  .metric  .estimator .estimate\n",
       "1 accuracy multiclass 0.4684531"
      ]
     },
     "metadata": {},
     "output_type": "display_data"
    }
   ],
   "source": [
    "# Accuracy of the model on testing data\n",
    "accuracy_only"
   ]
  },
  {
   "cell_type": "markdown",
   "id": "92614c34-c847-4028-86a7-a607a87d3847",
   "metadata": {},
   "source": [
    "**Table 2.4** - Accuracy of model on testing data"
   ]
  },
  {
   "cell_type": "code",
   "execution_count": 20,
   "id": "c9dc5a71-e5e4-4f5a-b766-f60720cbad6f",
   "metadata": {
    "tags": []
   },
   "outputs": [
    {
     "data": {
      "text/html": [
       "<table class=\"dataframe\">\n",
       "<caption>A tibble: 8210 × 13</caption>\n",
       "<thead>\n",
       "\t<tr><th scope=col>.pred_class</th><th scope=col>playlist_genre</th><th scope=col>danceability</th><th scope=col>energy</th><th scope=col>key</th><th scope=col>loudness</th><th scope=col>mode</th><th scope=col>speechiness</th><th scope=col>acousticness</th><th scope=col>instrumentalness</th><th scope=col>liveness</th><th scope=col>valence</th><th scope=col>tempo</th></tr>\n",
       "\t<tr><th scope=col>&lt;fct&gt;</th><th scope=col>&lt;fct&gt;</th><th scope=col>&lt;dbl&gt;</th><th scope=col>&lt;dbl&gt;</th><th scope=col>&lt;int&gt;</th><th scope=col>&lt;dbl&gt;</th><th scope=col>&lt;int&gt;</th><th scope=col>&lt;dbl&gt;</th><th scope=col>&lt;dbl&gt;</th><th scope=col>&lt;dbl&gt;</th><th scope=col>&lt;dbl&gt;</th><th scope=col>&lt;dbl&gt;</th><th scope=col>&lt;dbl&gt;</th></tr>\n",
       "</thead>\n",
       "<tbody>\n",
       "\t<tr><td>pop  </td><td>pop</td><td>0.748</td><td>0.916</td><td> 6</td><td>-2.634</td><td>1</td><td>0.0583</td><td>0.1020</td><td>0.00000</td><td>0.0653</td><td>0.518</td><td>122.036</td></tr>\n",
       "\t<tr><td>latin</td><td>pop</td><td>0.726</td><td>0.815</td><td>11</td><td>-4.969</td><td>1</td><td>0.0373</td><td>0.0724</td><td>0.00421</td><td>0.3570</td><td>0.693</td><td> 99.972</td></tr>\n",
       "\t<tr><td>edm  </td><td>pop</td><td>0.449</td><td>0.856</td><td> 5</td><td>-4.788</td><td>0</td><td>0.0623</td><td>0.1870</td><td>0.00000</td><td>0.1760</td><td>0.152</td><td>112.648</td></tr>\n",
       "\t<tr><td>⋮</td><td>⋮</td><td>⋮</td><td>⋮</td><td>⋮</td><td>⋮</td><td>⋮</td><td>⋮</td><td>⋮</td><td>⋮</td><td>⋮</td><td>⋮</td><td>⋮</td></tr>\n",
       "\t<tr><td>pop</td><td>edm</td><td>0.645</td><td>0.832</td><td>2</td><td>-5.595</td><td>1</td><td>0.0294</td><td>0.00106</td><td>2.64e-03</td><td>0.199</td><td>0.375</td><td>112.028</td></tr>\n",
       "\t<tr><td>edm</td><td>edm</td><td>0.581</td><td>0.640</td><td>5</td><td>-8.367</td><td>1</td><td>0.0365</td><td>0.02660</td><td>0.00e+00</td><td>0.572</td><td>0.288</td><td>128.001</td></tr>\n",
       "\t<tr><td>edm</td><td>edm</td><td>0.529</td><td>0.821</td><td>6</td><td>-4.899</td><td>0</td><td>0.0481</td><td>0.10800</td><td>1.11e-06</td><td>0.150</td><td>0.436</td><td>127.989</td></tr>\n",
       "</tbody>\n",
       "</table>\n"
      ],
      "text/latex": [
       "A tibble: 8210 × 13\n",
       "\\begin{tabular}{lllllllllllll}\n",
       " .pred\\_class & playlist\\_genre & danceability & energy & key & loudness & mode & speechiness & acousticness & instrumentalness & liveness & valence & tempo\\\\\n",
       " <fct> & <fct> & <dbl> & <dbl> & <int> & <dbl> & <int> & <dbl> & <dbl> & <dbl> & <dbl> & <dbl> & <dbl>\\\\\n",
       "\\hline\n",
       "\t pop   & pop & 0.748 & 0.916 &  6 & -2.634 & 1 & 0.0583 & 0.1020 & 0.00000 & 0.0653 & 0.518 & 122.036\\\\\n",
       "\t latin & pop & 0.726 & 0.815 & 11 & -4.969 & 1 & 0.0373 & 0.0724 & 0.00421 & 0.3570 & 0.693 &  99.972\\\\\n",
       "\t edm   & pop & 0.449 & 0.856 &  5 & -4.788 & 0 & 0.0623 & 0.1870 & 0.00000 & 0.1760 & 0.152 & 112.648\\\\\n",
       "\t ⋮ & ⋮ & ⋮ & ⋮ & ⋮ & ⋮ & ⋮ & ⋮ & ⋮ & ⋮ & ⋮ & ⋮ & ⋮\\\\\n",
       "\t pop & edm & 0.645 & 0.832 & 2 & -5.595 & 1 & 0.0294 & 0.00106 & 2.64e-03 & 0.199 & 0.375 & 112.028\\\\\n",
       "\t edm & edm & 0.581 & 0.640 & 5 & -8.367 & 1 & 0.0365 & 0.02660 & 0.00e+00 & 0.572 & 0.288 & 128.001\\\\\n",
       "\t edm & edm & 0.529 & 0.821 & 6 & -4.899 & 0 & 0.0481 & 0.10800 & 1.11e-06 & 0.150 & 0.436 & 127.989\\\\\n",
       "\\end{tabular}\n"
      ],
      "text/markdown": [
       "\n",
       "A tibble: 8210 × 13\n",
       "\n",
       "| .pred_class &lt;fct&gt; | playlist_genre &lt;fct&gt; | danceability &lt;dbl&gt; | energy &lt;dbl&gt; | key &lt;int&gt; | loudness &lt;dbl&gt; | mode &lt;int&gt; | speechiness &lt;dbl&gt; | acousticness &lt;dbl&gt; | instrumentalness &lt;dbl&gt; | liveness &lt;dbl&gt; | valence &lt;dbl&gt; | tempo &lt;dbl&gt; |\n",
       "|---|---|---|---|---|---|---|---|---|---|---|---|---|\n",
       "| pop   | pop | 0.748 | 0.916 |  6 | -2.634 | 1 | 0.0583 | 0.1020 | 0.00000 | 0.0653 | 0.518 | 122.036 |\n",
       "| latin | pop | 0.726 | 0.815 | 11 | -4.969 | 1 | 0.0373 | 0.0724 | 0.00421 | 0.3570 | 0.693 |  99.972 |\n",
       "| edm   | pop | 0.449 | 0.856 |  5 | -4.788 | 0 | 0.0623 | 0.1870 | 0.00000 | 0.1760 | 0.152 | 112.648 |\n",
       "| ⋮ | ⋮ | ⋮ | ⋮ | ⋮ | ⋮ | ⋮ | ⋮ | ⋮ | ⋮ | ⋮ | ⋮ | ⋮ |\n",
       "| pop | edm | 0.645 | 0.832 | 2 | -5.595 | 1 | 0.0294 | 0.00106 | 2.64e-03 | 0.199 | 0.375 | 112.028 |\n",
       "| edm | edm | 0.581 | 0.640 | 5 | -8.367 | 1 | 0.0365 | 0.02660 | 0.00e+00 | 0.572 | 0.288 | 128.001 |\n",
       "| edm | edm | 0.529 | 0.821 | 6 | -4.899 | 0 | 0.0481 | 0.10800 | 1.11e-06 | 0.150 | 0.436 | 127.989 |\n",
       "\n"
      ],
      "text/plain": [
       "     .pred_class playlist_genre danceability energy key loudness mode\n",
       "1    pop         pop            0.748        0.916   6  -2.634   1   \n",
       "2    latin       pop            0.726        0.815  11  -4.969   1   \n",
       "3    edm         pop            0.449        0.856   5  -4.788   0   \n",
       "⋮    ⋮           ⋮              ⋮            ⋮      ⋮   ⋮        ⋮   \n",
       "8208 pop         edm            0.645        0.832  2   -5.595   1   \n",
       "8209 edm         edm            0.581        0.640  5   -8.367   1   \n",
       "8210 edm         edm            0.529        0.821  6   -4.899   0   \n",
       "     speechiness acousticness instrumentalness liveness valence tempo  \n",
       "1    0.0583      0.1020       0.00000          0.0653   0.518   122.036\n",
       "2    0.0373      0.0724       0.00421          0.3570   0.693    99.972\n",
       "3    0.0623      0.1870       0.00000          0.1760   0.152   112.648\n",
       "⋮    ⋮           ⋮            ⋮                ⋮        ⋮       ⋮      \n",
       "8208 0.0294      0.00106      2.64e-03         0.199    0.375   112.028\n",
       "8209 0.0365      0.02660      0.00e+00         0.572    0.288   128.001\n",
       "8210 0.0481      0.10800      1.11e-06         0.150    0.436   127.989"
      ]
     },
     "metadata": {},
     "output_type": "display_data"
    }
   ],
   "source": [
    "# A table of predictions of the model\n",
    "data_test_predictions"
   ]
  },
  {
   "cell_type": "code",
   "execution_count": 21,
   "id": "6a3007f4-ffa6-4f41-834f-1b39681da5aa",
   "metadata": {
    "tags": []
   },
   "outputs": [
    {
     "data": {
      "text/plain": [
       "          Truth\n",
       "Prediction edm latin pop r&b rap rock\n",
       "     edm   952   146 277  74 122  111\n",
       "     latin 105   475 181 170 184   49\n",
       "     pop   215   221 391 203 100  139\n",
       "     r&b    60   178 190 483 207  126\n",
       "     rap    81   178 114 296 771   39\n",
       "     rock   98    91 224 132  53  774"
      ]
     },
     "metadata": {},
     "output_type": "display_data"
    }
   ],
   "source": [
    "# Confusion\n",
    "confusion"
   ]
  },
  {
   "cell_type": "code",
   "execution_count": 18,
   "id": "8541e5ba-91f9-4245-b0e1-04b830aec402",
   "metadata": {
    "tags": []
   },
   "outputs": [],
   "source": [
    "# Data visualization "
   ]
  },
  {
   "cell_type": "code",
   "execution_count": 19,
   "id": "974a7375-a1b9-466b-ba15-5c6a32eaabce",
   "metadata": {
    "tags": []
   },
   "outputs": [],
   "source": [
    "# Forward Selection?"
   ]
  },
  {
   "cell_type": "code",
   "execution_count": 20,
   "id": "a28abbad-7bf1-4904-a91a-29bc9b1ea92f",
   "metadata": {
    "tags": []
   },
   "outputs": [],
   "source": [
    "# Discussion"
   ]
  }
 ],
 "metadata": {
  "kernelspec": {
   "display_name": "R",
   "language": "R",
   "name": "ir"
  },
  "language_info": {
   "codemirror_mode": "r",
   "file_extension": ".r",
   "mimetype": "text/x-r-source",
   "name": "R",
   "pygments_lexer": "r",
   "version": "4.2.2"
  }
 },
 "nbformat": 4,
 "nbformat_minor": 5
}
