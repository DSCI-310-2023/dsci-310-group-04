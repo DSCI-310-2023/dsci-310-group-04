{
 "cells": [
  {
   "cell_type": "code",
   "execution_count": 3,
   "id": "87576eb3-2eb3-45a8-a170-9404db069d69",
   "metadata": {
    "tags": []
   },
   "outputs": [
    {
     "name": "stderr",
     "output_type": "stream",
     "text": [
      "── \u001b[1mAttaching packages\u001b[22m ──────────────────────────────────────────────────────── tidyverse 1.3.2 ──\n",
      "\u001b[32m✔\u001b[39m \u001b[34mggplot2\u001b[39m 3.4.0     \u001b[32m✔\u001b[39m \u001b[34mpurrr  \u001b[39m 1.0.1\n",
      "\u001b[32m✔\u001b[39m \u001b[34mtibble \u001b[39m 3.1.8     \u001b[32m✔\u001b[39m \u001b[34mdplyr  \u001b[39m 1.1.0\n",
      "\u001b[32m✔\u001b[39m \u001b[34mtidyr  \u001b[39m 1.3.0     \u001b[32m✔\u001b[39m \u001b[34mstringr\u001b[39m 1.5.0\n",
      "\u001b[32m✔\u001b[39m \u001b[34mreadr  \u001b[39m 2.1.3     \u001b[32m✔\u001b[39m \u001b[34mforcats\u001b[39m 1.0.0\n",
      "── \u001b[1mConflicts\u001b[22m ─────────────────────────────────────────────────────────── tidyverse_conflicts() ──\n",
      "\u001b[31m✖\u001b[39m \u001b[34mdplyr\u001b[39m::\u001b[32mfilter()\u001b[39m masks \u001b[34mstats\u001b[39m::filter()\n",
      "\u001b[31m✖\u001b[39m \u001b[34mdplyr\u001b[39m::\u001b[32mlag()\u001b[39m    masks \u001b[34mstats\u001b[39m::lag()\n",
      "── \u001b[1mAttaching packages\u001b[22m ─────────────────────────────────────────────────────── tidymodels 1.0.0 ──\n",
      "\n",
      "\u001b[32m✔\u001b[39m \u001b[34mbroom       \u001b[39m 1.0.3     \u001b[32m✔\u001b[39m \u001b[34mrsample     \u001b[39m 1.1.1\n",
      "\u001b[32m✔\u001b[39m \u001b[34mdials       \u001b[39m 1.1.0     \u001b[32m✔\u001b[39m \u001b[34mtune        \u001b[39m 1.0.1\n",
      "\u001b[32m✔\u001b[39m \u001b[34minfer       \u001b[39m 1.0.4     \u001b[32m✔\u001b[39m \u001b[34mworkflows   \u001b[39m 1.1.2\n",
      "\u001b[32m✔\u001b[39m \u001b[34mmodeldata   \u001b[39m 1.1.0     \u001b[32m✔\u001b[39m \u001b[34mworkflowsets\u001b[39m 1.0.0\n",
      "\u001b[32m✔\u001b[39m \u001b[34mparsnip     \u001b[39m 1.0.3     \u001b[32m✔\u001b[39m \u001b[34myardstick   \u001b[39m 1.1.0\n",
      "\u001b[32m✔\u001b[39m \u001b[34mrecipes     \u001b[39m 1.0.4     \n",
      "\n",
      "── \u001b[1mConflicts\u001b[22m ────────────────────────────────────────────────────────── tidymodels_conflicts() ──\n",
      "\u001b[31m✖\u001b[39m \u001b[34mscales\u001b[39m::\u001b[32mdiscard()\u001b[39m masks \u001b[34mpurrr\u001b[39m::discard()\n",
      "\u001b[31m✖\u001b[39m \u001b[34mdplyr\u001b[39m::\u001b[32mfilter()\u001b[39m   masks \u001b[34mstats\u001b[39m::filter()\n",
      "\u001b[31m✖\u001b[39m \u001b[34mrecipes\u001b[39m::\u001b[32mfixed()\u001b[39m  masks \u001b[34mstringr\u001b[39m::fixed()\n",
      "\u001b[31m✖\u001b[39m \u001b[34mdplyr\u001b[39m::\u001b[32mlag()\u001b[39m      masks \u001b[34mstats\u001b[39m::lag()\n",
      "\u001b[31m✖\u001b[39m \u001b[34myardstick\u001b[39m::\u001b[32mspec()\u001b[39m masks \u001b[34mreadr\u001b[39m::spec()\n",
      "\u001b[31m✖\u001b[39m \u001b[34mrecipes\u001b[39m::\u001b[32mstep()\u001b[39m   masks \u001b[34mstats\u001b[39m::step()\n",
      "\u001b[34m•\u001b[39m Learn how to get started at \u001b[32mhttps://www.tidymodels.org/start/\u001b[39m\n",
      "\n",
      "\n",
      "Attaching package: ‘RCurl’\n",
      "\n",
      "\n",
      "The following object is masked from ‘package:tidyr’:\n",
      "\n",
      "    complete\n",
      "\n",
      "\n"
     ]
    }
   ],
   "source": [
    "library(tidyverse)\n",
    "library(repr)\n",
    "library(tidymodels)\n",
    "library(RCurl)\n",
    "options(repr.matrix.max.rows = 6)\n",
    "set.seed(1)"
   ]
  },
  {
   "cell_type": "code",
   "execution_count": 4,
   "id": "0a99eab1-ac49-4188-910f-a49407eb8afe",
   "metadata": {
    "tags": []
   },
   "outputs": [],
   "source": [
    "# Read the data from the web into jupyter\n",
    "x <- getURL(\"https://raw.githubusercontent.com/rfordatascience/tidytuesday/master/data/2021/2021-04-06/forest.csv\")\n",
    "data <- read.csv(text = x)"
   ]
  },
  {
   "cell_type": "code",
   "execution_count": 5,
   "id": "c2fa5721-b60f-402a-bf00-2d575f1b0f00",
   "metadata": {
    "tags": []
   },
   "outputs": [
    {
     "data": {
      "text/html": [
       "<table class=\"dataframe\">\n",
       "<caption>A data.frame: 475 × 4</caption>\n",
       "<thead>\n",
       "\t<tr><th scope=col>entity</th><th scope=col>code</th><th scope=col>year</th><th scope=col>net_forest_conversion</th></tr>\n",
       "\t<tr><th scope=col>&lt;chr&gt;</th><th scope=col>&lt;chr&gt;</th><th scope=col>&lt;int&gt;</th><th scope=col>&lt;dbl&gt;</th></tr>\n",
       "</thead>\n",
       "<tbody>\n",
       "\t<tr><td>Algeria</td><td>DZA</td><td>1990</td><td>-8800</td></tr>\n",
       "\t<tr><td>Algeria</td><td>DZA</td><td>2000</td><td>33900</td></tr>\n",
       "\t<tr><td>Algeria</td><td>DZA</td><td>2010</td><td> 7600</td></tr>\n",
       "\t<tr><td>⋮</td><td>⋮</td><td>⋮</td><td>⋮</td></tr>\n",
       "\t<tr><td>Zimbabwe</td><td>ZWE</td><td>2000</td><td>-46070</td></tr>\n",
       "\t<tr><td>Zimbabwe</td><td>ZWE</td><td>2010</td><td>-46070</td></tr>\n",
       "\t<tr><td>Zimbabwe</td><td>ZWE</td><td>2015</td><td>-46070</td></tr>\n",
       "</tbody>\n",
       "</table>\n"
      ],
      "text/latex": [
       "A data.frame: 475 × 4\n",
       "\\begin{tabular}{llll}\n",
       " entity & code & year & net\\_forest\\_conversion\\\\\n",
       " <chr> & <chr> & <int> & <dbl>\\\\\n",
       "\\hline\n",
       "\t Algeria & DZA & 1990 & -8800\\\\\n",
       "\t Algeria & DZA & 2000 & 33900\\\\\n",
       "\t Algeria & DZA & 2010 &  7600\\\\\n",
       "\t ⋮ & ⋮ & ⋮ & ⋮\\\\\n",
       "\t Zimbabwe & ZWE & 2000 & -46070\\\\\n",
       "\t Zimbabwe & ZWE & 2010 & -46070\\\\\n",
       "\t Zimbabwe & ZWE & 2015 & -46070\\\\\n",
       "\\end{tabular}\n"
      ],
      "text/markdown": [
       "\n",
       "A data.frame: 475 × 4\n",
       "\n",
       "| entity &lt;chr&gt; | code &lt;chr&gt; | year &lt;int&gt; | net_forest_conversion &lt;dbl&gt; |\n",
       "|---|---|---|---|\n",
       "| Algeria | DZA | 1990 | -8800 |\n",
       "| Algeria | DZA | 2000 | 33900 |\n",
       "| Algeria | DZA | 2010 |  7600 |\n",
       "| ⋮ | ⋮ | ⋮ | ⋮ |\n",
       "| Zimbabwe | ZWE | 2000 | -46070 |\n",
       "| Zimbabwe | ZWE | 2010 | -46070 |\n",
       "| Zimbabwe | ZWE | 2015 | -46070 |\n",
       "\n"
      ],
      "text/plain": [
       "    entity   code year net_forest_conversion\n",
       "1   Algeria  DZA  1990 -8800                \n",
       "2   Algeria  DZA  2000 33900                \n",
       "3   Algeria  DZA  2010  7600                \n",
       "⋮   ⋮        ⋮    ⋮    ⋮                    \n",
       "473 Zimbabwe ZWE  2000 -46070               \n",
       "474 Zimbabwe ZWE  2010 -46070               \n",
       "475 Zimbabwe ZWE  2015 -46070               "
      ]
     },
     "metadata": {},
     "output_type": "display_data"
    }
   ],
   "source": [
    "# Overview of the original dataset\n",
    "#tidydata"
   ]
  },
  {
   "cell_type": "markdown",
   "id": "5091c92b-4ba7-4342-90d5-f68eba09e49d",
   "metadata": {},
   "source": [
    "**Table 1.1** - Original dataset"
   ]
  },
  {
   "cell_type": "code",
   "execution_count": null,
   "id": "f7050567-c8a4-4130-97ac-8c85e2bc8f98",
   "metadata": {},
   "outputs": [],
   "source": [
    "# Tidy the data if needed, only keep relevant columns\n",
    "#tidy_data"
   ]
  },
  {
   "cell_type": "markdown",
   "id": "29fa7a5c-67d4-4a44-870e-72701b63aeba",
   "metadata": {},
   "source": [
    "**Table 1.2** - Tidy dataset"
   ]
  },
  {
   "cell_type": "code",
   "execution_count": null,
   "id": "83716df3-b68e-40e9-b864-75741658cb9b",
   "metadata": {},
   "outputs": [],
   "source": [
    "# Split the data into training and testing sets at 75:25 ratio\n",
    "\n",
    "set.seed(1) # Set the seed for reproducability\n",
    "split_data <- initial_split(tidy_data, prop = 0.75, strata = PREDICTED)\n",
    "\n",
    "# training set\n",
    "train_data <- training(split_data)\n",
    "\n",
    "# testing set\n",
    "test_data <- testing(split_data)"
   ]
  },
  {
   "cell_type": "code",
   "execution_count": null,
   "id": "c9f120ff-652b-4b02-8913-b90fafa92bd6",
   "metadata": {},
   "outputs": [],
   "source": [
    "# Preliminary data analysis"
   ]
  },
  {
   "cell_type": "markdown",
   "id": "d3f78389-a652-45cf-ad1d-29cc3e29dccf",
   "metadata": {},
   "source": [
    "**Table 1.3** - Preliminary data analysis"
   ]
  },
  {
   "cell_type": "code",
   "execution_count": 6,
   "id": "9a4f6abd-8d0e-4e9a-9cdc-e3f2d1223fb3",
   "metadata": {
    "tags": []
   },
   "outputs": [],
   "source": [
    "# Preliminary data visualization"
   ]
  },
  {
   "cell_type": "markdown",
   "id": "5375d8c2-a1da-4aa7-b06e-d8a4abbc3161",
   "metadata": {},
   "source": [
    "**Table 1.4** - Preliminary data "
   ]
  },
  {
   "cell_type": "code",
   "execution_count": null,
   "id": "6968a0c9-1fb3-4349-b7d8-1ea95bcb0c90",
   "metadata": {},
   "outputs": [],
   "source": [
    "# Building the classifier/regressor \n",
    "# Scale predictors, use standard recipe, setup knn_spec to tune for best k value\n",
    "data_recipe <- recipe(PREDICTED ~ PREDICTOR1 + PREDICTOR2, data = train_data) |>\n",
    "  step_scale(all_predictors()) |>\n",
    "  step_center(all_predictors())\n",
    "\n",
    "knn_spec <- nearest_neighbor(weight_func = \"rectangular\", \n",
    "                             neighbors = tune()) |>\n",
    "  set_engine(\"kknn\") |>\n",
    "  set_mode(\"classification\")"
   ]
  },
  {
   "cell_type": "code",
   "execution_count": null,
   "id": "49db1d7f-d40b-4a1d-a77c-d2674cc6c410",
   "metadata": {},
   "outputs": [],
   "source": [
    "#trying 15 different k values, count by every 2 from 1 to 30\n",
    "\n",
    "k_vals <- tibble(neighbors = seq(from = 1, to = 31, by = 2))\n",
    "\n",
    "data_vfold <- vfold_cv(train_data, v = 5, strata = PREDICTED)\n",
    "\n",
    "knn_results <- workflow() |>\n",
    "  add_recipe(data_recipe) |>\n",
    "  add_model(knn_spec) |>\n",
    "  tune_grid(resamples = data_vfold, grid = k_vals) |>\n",
    "  collect_metrics() \n",
    "\n",
    "accuracies <- knn_results |>\n",
    "  filter(.metric == \"accuracy\")"
   ]
  },
  {
   "cell_type": "code",
   "execution_count": null,
   "id": "bcd925c3-042f-4a0e-8eda-90d1bb43316a",
   "metadata": {},
   "outputs": [],
   "source": [
    "# Accuracy table for different k values\n",
    "accuracies |>  arrange(desc(mean))"
   ]
  },
  {
   "cell_type": "markdown",
   "id": "1018a396-58e1-4cfc-9f3a-9dd3f20d12b4",
   "metadata": {},
   "source": [
    "**Table 2.1** - Accuracy of the different k values"
   ]
  },
  {
   "cell_type": "code",
   "execution_count": null,
   "id": "332af50e-d711-4d99-bb28-38ca4475b2f1",
   "metadata": {},
   "outputs": [],
   "source": [
    "# Plot the different accuracies of k, \n",
    "accuracy_vs_k <- ggplot(accuracies, aes(x = neighbors, y = mean)) +\n",
    "  geom_point() +\n",
    "  geom_line() +\n",
    "  labs(x = \"Neighbors\", y = \"Accuracy Estimate\") + \n",
    "  theme(text = element_text(size = 15))\n",
    "     "
   ]
  },
  {
   "cell_type": "markdown",
   "id": "26a4da17-a4c3-43ab-be4e-c16390b77727",
   "metadata": {},
   "source": [
    "**Figure 2.2** - Plot of accuracies of the different k"
   ]
  },
  {
   "cell_type": "code",
   "execution_count": null,
   "id": "2108d1fe-f46d-40ca-8fc1-e95e8e44c334",
   "metadata": {},
   "outputs": [],
   "source": [
    "# Calculate accuracy of the model using the best k and cross-validation\n",
    "\n",
    "knn_spec <- nearest_neighbor(weight_func = \"rectangular\", neighbors = 10) |>\n",
    "  set_engine(\"kknn\") |>\n",
    "  set_mode(\"classification\")\n",
    "\n",
    "knn_fit <- workflow() |>\n",
    "  add_recipe(data_recipe) |>\n",
    "  add_model(knn_spec) |>\n",
    "  fit_resamples(resamples = data_vfold)\n",
    "\n",
    "accuracy_value <- knn_fit |> \n",
    "  collect_metrics() "
   ]
  },
  {
   "cell_type": "code",
   "execution_count": null,
   "id": "2ac35931-6950-4ac7-81e0-00ab626fa782",
   "metadata": {},
   "outputs": [],
   "source": [
    "# Display accuracy of the model\n",
    "accuracy_value"
   ]
  },
  {
   "cell_type": "markdown",
   "id": "55783dd0-69e1-4366-9e25-5e4d7dd8715b",
   "metadata": {},
   "source": [
    "**Table 2.3** - Accuracy of the model"
   ]
  },
  {
   "cell_type": "code",
   "execution_count": null,
   "id": "164da816-dfd7-4b76-8ea6-215653bae61f",
   "metadata": {},
   "outputs": [],
   "source": [
    "#test predictions using test-data\n",
    "knn_fit <- workflow() |>\n",
    "  add_recipe(data_recipe) |>\n",
    "  add_model(knn_spec) |>\n",
    "  fit(train_data)\n",
    "\n",
    "data_test_predictions <- predict(knn_fit, test_data) |>\n",
    "  bind_cols(match_test)\n",
    "\n",
    "accuracy_only <- data_test_predictions |>\n",
    "  metrics(truth = PREDICTED, estimate = .pred_class) |>\n",
    "  filter(.metric == \"accuracy\")\n",
    "\n",
    "\n",
    "confusion <- data_test_predictions |>\n",
    "             conf_mat(truth = PREDICTED, estimate = .pred_class)"
   ]
  },
  {
   "cell_type": "code",
   "execution_count": null,
   "id": "74135b7d-4b28-4791-9d40-8bd3412c50a7",
   "metadata": {},
   "outputs": [],
   "source": [
    "# Accuracy of the model on testing data\n",
    "accuracy_only"
   ]
  },
  {
   "cell_type": "markdown",
   "id": "92614c34-c847-4028-86a7-a607a87d3847",
   "metadata": {},
   "source": [
    "**Table 2.4** - Accuracy of model on testing data"
   ]
  },
  {
   "cell_type": "code",
   "execution_count": null,
   "id": "c9dc5a71-e5e4-4f5a-b766-f60720cbad6f",
   "metadata": {},
   "outputs": [],
   "source": [
    "# A table of predictions of the model\n",
    "data_test_predications"
   ]
  },
  {
   "cell_type": "code",
   "execution_count": null,
   "id": "6a3007f4-ffa6-4f41-834f-1b39681da5aa",
   "metadata": {},
   "outputs": [],
   "source": [
    "# Confusion\n",
    "confusion"
   ]
  },
  {
   "cell_type": "code",
   "execution_count": null,
   "id": "8541e5ba-91f9-4245-b0e1-04b830aec402",
   "metadata": {},
   "outputs": [],
   "source": [
    "# Data visualization "
   ]
  },
  {
   "cell_type": "code",
   "execution_count": null,
   "id": "974a7375-a1b9-466b-ba15-5c6a32eaabce",
   "metadata": {},
   "outputs": [],
   "source": [
    "# Forward Selection?"
   ]
  },
  {
   "cell_type": "code",
   "execution_count": null,
   "id": "a28abbad-7bf1-4904-a91a-29bc9b1ea92f",
   "metadata": {},
   "outputs": [],
   "source": [
    "# Discussion"
   ]
  }
 ],
 "metadata": {
  "kernelspec": {
   "display_name": "R",
   "language": "R",
   "name": "ir"
  },
  "language_info": {
   "codemirror_mode": "r",
   "file_extension": ".r",
   "mimetype": "text/x-r-source",
   "name": "R",
   "pygments_lexer": "r",
   "version": "4.2.2"
  }
 },
 "nbformat": 4,
 "nbformat_minor": 5
}
