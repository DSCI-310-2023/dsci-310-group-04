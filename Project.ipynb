{
 "cells": [
  {
   "cell_type": "code",
   "execution_count": 1,
   "id": "87576eb3-2eb3-45a8-a170-9404db069d69",
   "metadata": {
    "tags": []
   },
   "outputs": [
    {
     "name": "stderr",
     "output_type": "stream",
     "text": [
      "── \u001b[1mAttaching packages\u001b[22m ───────────────────────────────────────────────────────────────────────────────────────────────────────── tidyverse 1.3.2 ──\n",
      "\u001b[32m✔\u001b[39m \u001b[34mggplot2\u001b[39m 3.4.0     \u001b[32m✔\u001b[39m \u001b[34mpurrr  \u001b[39m 1.0.1\n",
      "\u001b[32m✔\u001b[39m \u001b[34mtibble \u001b[39m 3.1.8     \u001b[32m✔\u001b[39m \u001b[34mdplyr  \u001b[39m 1.1.0\n",
      "\u001b[32m✔\u001b[39m \u001b[34mtidyr  \u001b[39m 1.3.0     \u001b[32m✔\u001b[39m \u001b[34mstringr\u001b[39m 1.5.0\n",
      "\u001b[32m✔\u001b[39m \u001b[34mreadr  \u001b[39m 2.1.3     \u001b[32m✔\u001b[39m \u001b[34mforcats\u001b[39m 1.0.0\n",
      "── \u001b[1mConflicts\u001b[22m ──────────────────────────────────────────────────────────────────────────────────────────────────────────── tidyverse_conflicts() ──\n",
      "\u001b[31m✖\u001b[39m \u001b[34mdplyr\u001b[39m::\u001b[32mfilter()\u001b[39m masks \u001b[34mstats\u001b[39m::filter()\n",
      "\u001b[31m✖\u001b[39m \u001b[34mdplyr\u001b[39m::\u001b[32mlag()\u001b[39m    masks \u001b[34mstats\u001b[39m::lag()\n",
      "── \u001b[1mAttaching packages\u001b[22m ──────────────────────────────────────────────────────────────────────────────────────────────────────── tidymodels 1.0.0 ──\n",
      "\n",
      "\u001b[32m✔\u001b[39m \u001b[34mbroom       \u001b[39m 1.0.3     \u001b[32m✔\u001b[39m \u001b[34mrsample     \u001b[39m 1.1.1\n",
      "\u001b[32m✔\u001b[39m \u001b[34mdials       \u001b[39m 1.1.0     \u001b[32m✔\u001b[39m \u001b[34mtune        \u001b[39m 1.0.1\n",
      "\u001b[32m✔\u001b[39m \u001b[34minfer       \u001b[39m 1.0.4     \u001b[32m✔\u001b[39m \u001b[34mworkflows   \u001b[39m 1.1.2\n",
      "\u001b[32m✔\u001b[39m \u001b[34mmodeldata   \u001b[39m 1.1.0     \u001b[32m✔\u001b[39m \u001b[34mworkflowsets\u001b[39m 1.0.0\n",
      "\u001b[32m✔\u001b[39m \u001b[34mparsnip     \u001b[39m 1.0.3     \u001b[32m✔\u001b[39m \u001b[34myardstick   \u001b[39m 1.1.0\n",
      "\u001b[32m✔\u001b[39m \u001b[34mrecipes     \u001b[39m 1.0.4     \n",
      "\n",
      "── \u001b[1mConflicts\u001b[22m ─────────────────────────────────────────────────────────────────────────────────────────────────────────── tidymodels_conflicts() ──\n",
      "\u001b[31m✖\u001b[39m \u001b[34mscales\u001b[39m::\u001b[32mdiscard()\u001b[39m masks \u001b[34mpurrr\u001b[39m::discard()\n",
      "\u001b[31m✖\u001b[39m \u001b[34mdplyr\u001b[39m::\u001b[32mfilter()\u001b[39m   masks \u001b[34mstats\u001b[39m::filter()\n",
      "\u001b[31m✖\u001b[39m \u001b[34mrecipes\u001b[39m::\u001b[32mfixed()\u001b[39m  masks \u001b[34mstringr\u001b[39m::fixed()\n",
      "\u001b[31m✖\u001b[39m \u001b[34mdplyr\u001b[39m::\u001b[32mlag()\u001b[39m      masks \u001b[34mstats\u001b[39m::lag()\n",
      "\u001b[31m✖\u001b[39m \u001b[34myardstick\u001b[39m::\u001b[32mspec()\u001b[39m masks \u001b[34mreadr\u001b[39m::spec()\n",
      "\u001b[31m✖\u001b[39m \u001b[34mrecipes\u001b[39m::\u001b[32mstep()\u001b[39m   masks \u001b[34mstats\u001b[39m::step()\n",
      "\u001b[34m•\u001b[39m Use \u001b[32mtidymodels_prefer()\u001b[39m to resolve common conflicts.\n",
      "\n",
      "\n",
      "Attaching package: ‘RCurl’\n",
      "\n",
      "\n",
      "The following object is masked from ‘package:tidyr’:\n",
      "\n",
      "    complete\n",
      "\n",
      "\n"
     ]
    }
   ],
   "source": [
    "library(tidyverse)\n",
    "library(repr)\n",
    "library(tidymodels)\n",
    "library(RCurl)\n",
    "options(repr.matrix.max.rows = 6)\n",
    "set.seed(1)"
   ]
  },
  {
   "cell_type": "code",
   "execution_count": 3,
   "id": "0a99eab1-ac49-4188-910f-a49407eb8afe",
   "metadata": {
    "tags": []
   },
   "outputs": [
    {
     "data": {
      "text/html": [
       "<table class=\"dataframe\">\n",
       "<caption>A data.frame: 475 × 4</caption>\n",
       "<thead>\n",
       "\t<tr><th scope=col>entity</th><th scope=col>code</th><th scope=col>year</th><th scope=col>net_forest_conversion</th></tr>\n",
       "\t<tr><th scope=col>&lt;chr&gt;</th><th scope=col>&lt;chr&gt;</th><th scope=col>&lt;int&gt;</th><th scope=col>&lt;dbl&gt;</th></tr>\n",
       "</thead>\n",
       "<tbody>\n",
       "\t<tr><td>Algeria</td><td>DZA</td><td>1990</td><td>-8800</td></tr>\n",
       "\t<tr><td>Algeria</td><td>DZA</td><td>2000</td><td>33900</td></tr>\n",
       "\t<tr><td>Algeria</td><td>DZA</td><td>2010</td><td> 7600</td></tr>\n",
       "\t<tr><td>⋮</td><td>⋮</td><td>⋮</td><td>⋮</td></tr>\n",
       "\t<tr><td>Zimbabwe</td><td>ZWE</td><td>2000</td><td>-46070</td></tr>\n",
       "\t<tr><td>Zimbabwe</td><td>ZWE</td><td>2010</td><td>-46070</td></tr>\n",
       "\t<tr><td>Zimbabwe</td><td>ZWE</td><td>2015</td><td>-46070</td></tr>\n",
       "</tbody>\n",
       "</table>\n"
      ],
      "text/latex": [
       "A data.frame: 475 × 4\n",
       "\\begin{tabular}{llll}\n",
       " entity & code & year & net\\_forest\\_conversion\\\\\n",
       " <chr> & <chr> & <int> & <dbl>\\\\\n",
       "\\hline\n",
       "\t Algeria & DZA & 1990 & -8800\\\\\n",
       "\t Algeria & DZA & 2000 & 33900\\\\\n",
       "\t Algeria & DZA & 2010 &  7600\\\\\n",
       "\t ⋮ & ⋮ & ⋮ & ⋮\\\\\n",
       "\t Zimbabwe & ZWE & 2000 & -46070\\\\\n",
       "\t Zimbabwe & ZWE & 2010 & -46070\\\\\n",
       "\t Zimbabwe & ZWE & 2015 & -46070\\\\\n",
       "\\end{tabular}\n"
      ],
      "text/markdown": [
       "\n",
       "A data.frame: 475 × 4\n",
       "\n",
       "| entity &lt;chr&gt; | code &lt;chr&gt; | year &lt;int&gt; | net_forest_conversion &lt;dbl&gt; |\n",
       "|---|---|---|---|\n",
       "| Algeria | DZA | 1990 | -8800 |\n",
       "| Algeria | DZA | 2000 | 33900 |\n",
       "| Algeria | DZA | 2010 |  7600 |\n",
       "| ⋮ | ⋮ | ⋮ | ⋮ |\n",
       "| Zimbabwe | ZWE | 2000 | -46070 |\n",
       "| Zimbabwe | ZWE | 2010 | -46070 |\n",
       "| Zimbabwe | ZWE | 2015 | -46070 |\n",
       "\n"
      ],
      "text/plain": [
       "    entity   code year net_forest_conversion\n",
       "1   Algeria  DZA  1990 -8800                \n",
       "2   Algeria  DZA  2000 33900                \n",
       "3   Algeria  DZA  2010  7600                \n",
       "⋮   ⋮        ⋮    ⋮    ⋮                    \n",
       "473 Zimbabwe ZWE  2000 -46070               \n",
       "474 Zimbabwe ZWE  2010 -46070               \n",
       "475 Zimbabwe ZWE  2015 -46070               "
      ]
     },
     "metadata": {},
     "output_type": "display_data"
    }
   ],
   "source": [
    "x <- getURL(\"https://raw.githubusercontent.com/rfordatascience/tidytuesday/master/data/2021/2021-04-06/forest.csv\")\n",
    "forest_data <- read.csv(text = x)\n",
    "forest_data"
   ]
  },
  {
   "cell_type": "code",
   "execution_count": 4,
   "id": "8344243f-5010-4c6c-97e5-d939fb4ed606",
   "metadata": {
    "tags": []
   },
   "outputs": [
    {
     "data": {
      "text/html": [
       "<table class=\"dataframe\">\n",
       "<caption>A data.frame: 7846 × 4</caption>\n",
       "<thead>\n",
       "\t<tr><th scope=col>entity</th><th scope=col>code</th><th scope=col>year</th><th scope=col>forest_area</th></tr>\n",
       "\t<tr><th scope=col>&lt;chr&gt;</th><th scope=col>&lt;chr&gt;</th><th scope=col>&lt;int&gt;</th><th scope=col>&lt;dbl&gt;</th></tr>\n",
       "</thead>\n",
       "<tbody>\n",
       "\t<tr><td>Afghanistan</td><td>AFG</td><td>1990</td><td>0.02852494</td></tr>\n",
       "\t<tr><td>Afghanistan</td><td>AFG</td><td>1991</td><td>0.02857782</td></tr>\n",
       "\t<tr><td>Afghanistan</td><td>AFG</td><td>1992</td><td>0.02863089</td></tr>\n",
       "\t<tr><td>⋮</td><td>⋮</td><td>⋮</td><td>⋮</td></tr>\n",
       "\t<tr><td>Zimbabwe</td><td>ZWE</td><td>2018</td><td>0.4309932</td></tr>\n",
       "\t<tr><td>Zimbabwe</td><td>ZWE</td><td>2019</td><td>0.4303885</td></tr>\n",
       "\t<tr><td>Zimbabwe</td><td>ZWE</td><td>2020</td><td>0.4297823</td></tr>\n",
       "</tbody>\n",
       "</table>\n"
      ],
      "text/latex": [
       "A data.frame: 7846 × 4\n",
       "\\begin{tabular}{llll}\n",
       " entity & code & year & forest\\_area\\\\\n",
       " <chr> & <chr> & <int> & <dbl>\\\\\n",
       "\\hline\n",
       "\t Afghanistan & AFG & 1990 & 0.02852494\\\\\n",
       "\t Afghanistan & AFG & 1991 & 0.02857782\\\\\n",
       "\t Afghanistan & AFG & 1992 & 0.02863089\\\\\n",
       "\t ⋮ & ⋮ & ⋮ & ⋮\\\\\n",
       "\t Zimbabwe & ZWE & 2018 & 0.4309932\\\\\n",
       "\t Zimbabwe & ZWE & 2019 & 0.4303885\\\\\n",
       "\t Zimbabwe & ZWE & 2020 & 0.4297823\\\\\n",
       "\\end{tabular}\n"
      ],
      "text/markdown": [
       "\n",
       "A data.frame: 7846 × 4\n",
       "\n",
       "| entity &lt;chr&gt; | code &lt;chr&gt; | year &lt;int&gt; | forest_area &lt;dbl&gt; |\n",
       "|---|---|---|---|\n",
       "| Afghanistan | AFG | 1990 | 0.02852494 |\n",
       "| Afghanistan | AFG | 1991 | 0.02857782 |\n",
       "| Afghanistan | AFG | 1992 | 0.02863089 |\n",
       "| ⋮ | ⋮ | ⋮ | ⋮ |\n",
       "| Zimbabwe | ZWE | 2018 | 0.4309932 |\n",
       "| Zimbabwe | ZWE | 2019 | 0.4303885 |\n",
       "| Zimbabwe | ZWE | 2020 | 0.4297823 |\n",
       "\n"
      ],
      "text/plain": [
       "     entity      code year forest_area\n",
       "1    Afghanistan AFG  1990 0.02852494 \n",
       "2    Afghanistan AFG  1991 0.02857782 \n",
       "3    Afghanistan AFG  1992 0.02863089 \n",
       "⋮    ⋮           ⋮    ⋮    ⋮          \n",
       "7844 Zimbabwe    ZWE  2018 0.4309932  \n",
       "7845 Zimbabwe    ZWE  2019 0.4303885  \n",
       "7846 Zimbabwe    ZWE  2020 0.4297823  "
      ]
     },
     "metadata": {},
     "output_type": "display_data"
    }
   ],
   "source": [
    "x <- getURL(\"https://raw.githubusercontent.com/rfordatascience/tidytuesday/master/data/2021/2021-04-06/forest_area.csv\")\n",
    "forest_area_data <- read.csv(text = x)\n",
    "forest_area_data"
   ]
  },
  {
   "cell_type": "code",
   "execution_count": 5,
   "id": "34312e2f-1d18-453e-a7e4-d043048db8df",
   "metadata": {
    "tags": []
   },
   "outputs": [
    {
     "data": {
      "text/html": [
       "<table class=\"dataframe\">\n",
       "<caption>A data.frame: 13 × 14</caption>\n",
       "<thead>\n",
       "\t<tr><th scope=col>entity</th><th scope=col>code</th><th scope=col>year</th><th scope=col>commercial_crops</th><th scope=col>flooding_due_to_dams</th><th scope=col>natural_disturbances</th><th scope=col>pasture</th><th scope=col>selective_logging</th><th scope=col>fire</th><th scope=col>mining</th><th scope=col>other_infrastructure</th><th scope=col>roads</th><th scope=col>tree_plantations_including_palm</th><th scope=col>small_scale_clearing</th></tr>\n",
       "\t<tr><th scope=col>&lt;chr&gt;</th><th scope=col>&lt;chr&gt;</th><th scope=col>&lt;int&gt;</th><th scope=col>&lt;int&gt;</th><th scope=col>&lt;int&gt;</th><th scope=col>&lt;int&gt;</th><th scope=col>&lt;int&gt;</th><th scope=col>&lt;int&gt;</th><th scope=col>&lt;int&gt;</th><th scope=col>&lt;int&gt;</th><th scope=col>&lt;int&gt;</th><th scope=col>&lt;int&gt;</th><th scope=col>&lt;int&gt;</th><th scope=col>&lt;int&gt;</th></tr>\n",
       "</thead>\n",
       "<tbody>\n",
       "\t<tr><td>Brazil</td><td>BRA</td><td>2001</td><td>280000</td><td>    0</td><td>    0</td><td>1520000</td><td> 96000</td><td> 26000</td><td>9000</td><td> 9000</td><td>13000</td><td>44000</td><td>249000</td></tr>\n",
       "\t<tr><td>Brazil</td><td>BRA</td><td>2002</td><td>415000</td><td>79000</td><td>35000</td><td>2568000</td><td> 96000</td><td>114000</td><td>9000</td><td>13000</td><td>31000</td><td>44000</td><td>293000</td></tr>\n",
       "\t<tr><td>Brazil</td><td>BRA</td><td>2003</td><td>550000</td><td>    0</td><td>35000</td><td>2761000</td><td>149000</td><td> 44000</td><td>   0</td><td> 9000</td><td>35000</td><td>26000</td><td>358000</td></tr>\n",
       "\t<tr><td>⋮</td><td>⋮</td><td>⋮</td><td>⋮</td><td>⋮</td><td>⋮</td><td>⋮</td><td>⋮</td><td>⋮</td><td>⋮</td><td>⋮</td><td>⋮</td><td>⋮</td><td>⋮</td></tr>\n",
       "\t<tr><td>Brazil</td><td>BRA</td><td>2011</td><td> 52000</td><td>17000</td><td>87000</td><td>738000</td><td> 44000</td><td>122000</td><td>    0</td><td>    0</td><td> 9000</td><td>26000</td><td>271000</td></tr>\n",
       "\t<tr><td>Brazil</td><td>BRA</td><td>2012</td><td>118000</td><td>17000</td><td>52000</td><td>546000</td><td>166000</td><td> 70000</td><td>    0</td><td>13000</td><td>31000</td><td>26000</td><td>232000</td></tr>\n",
       "\t<tr><td>Brazil</td><td>BRA</td><td>2013</td><td> 87000</td><td>    0</td><td>13000</td><td>695000</td><td>131000</td><td> 26000</td><td>35000</td><td> 4000</td><td>17000</td><td>35000</td><td>284000</td></tr>\n",
       "</tbody>\n",
       "</table>\n"
      ],
      "text/latex": [
       "A data.frame: 13 × 14\n",
       "\\begin{tabular}{llllllllllllll}\n",
       " entity & code & year & commercial\\_crops & flooding\\_due\\_to\\_dams & natural\\_disturbances & pasture & selective\\_logging & fire & mining & other\\_infrastructure & roads & tree\\_plantations\\_including\\_palm & small\\_scale\\_clearing\\\\\n",
       " <chr> & <chr> & <int> & <int> & <int> & <int> & <int> & <int> & <int> & <int> & <int> & <int> & <int> & <int>\\\\\n",
       "\\hline\n",
       "\t Brazil & BRA & 2001 & 280000 &     0 &     0 & 1520000 &  96000 &  26000 & 9000 &  9000 & 13000 & 44000 & 249000\\\\\n",
       "\t Brazil & BRA & 2002 & 415000 & 79000 & 35000 & 2568000 &  96000 & 114000 & 9000 & 13000 & 31000 & 44000 & 293000\\\\\n",
       "\t Brazil & BRA & 2003 & 550000 &     0 & 35000 & 2761000 & 149000 &  44000 &    0 &  9000 & 35000 & 26000 & 358000\\\\\n",
       "\t ⋮ & ⋮ & ⋮ & ⋮ & ⋮ & ⋮ & ⋮ & ⋮ & ⋮ & ⋮ & ⋮ & ⋮ & ⋮ & ⋮\\\\\n",
       "\t Brazil & BRA & 2011 &  52000 & 17000 & 87000 & 738000 &  44000 & 122000 &     0 &     0 &  9000 & 26000 & 271000\\\\\n",
       "\t Brazil & BRA & 2012 & 118000 & 17000 & 52000 & 546000 & 166000 &  70000 &     0 & 13000 & 31000 & 26000 & 232000\\\\\n",
       "\t Brazil & BRA & 2013 &  87000 &     0 & 13000 & 695000 & 131000 &  26000 & 35000 &  4000 & 17000 & 35000 & 284000\\\\\n",
       "\\end{tabular}\n"
      ],
      "text/markdown": [
       "\n",
       "A data.frame: 13 × 14\n",
       "\n",
       "| entity &lt;chr&gt; | code &lt;chr&gt; | year &lt;int&gt; | commercial_crops &lt;int&gt; | flooding_due_to_dams &lt;int&gt; | natural_disturbances &lt;int&gt; | pasture &lt;int&gt; | selective_logging &lt;int&gt; | fire &lt;int&gt; | mining &lt;int&gt; | other_infrastructure &lt;int&gt; | roads &lt;int&gt; | tree_plantations_including_palm &lt;int&gt; | small_scale_clearing &lt;int&gt; |\n",
       "|---|---|---|---|---|---|---|---|---|---|---|---|---|---|\n",
       "| Brazil | BRA | 2001 | 280000 |     0 |     0 | 1520000 |  96000 |  26000 | 9000 |  9000 | 13000 | 44000 | 249000 |\n",
       "| Brazil | BRA | 2002 | 415000 | 79000 | 35000 | 2568000 |  96000 | 114000 | 9000 | 13000 | 31000 | 44000 | 293000 |\n",
       "| Brazil | BRA | 2003 | 550000 |     0 | 35000 | 2761000 | 149000 |  44000 |    0 |  9000 | 35000 | 26000 | 358000 |\n",
       "| ⋮ | ⋮ | ⋮ | ⋮ | ⋮ | ⋮ | ⋮ | ⋮ | ⋮ | ⋮ | ⋮ | ⋮ | ⋮ | ⋮ |\n",
       "| Brazil | BRA | 2011 |  52000 | 17000 | 87000 | 738000 |  44000 | 122000 |     0 |     0 |  9000 | 26000 | 271000 |\n",
       "| Brazil | BRA | 2012 | 118000 | 17000 | 52000 | 546000 | 166000 |  70000 |     0 | 13000 | 31000 | 26000 | 232000 |\n",
       "| Brazil | BRA | 2013 |  87000 |     0 | 13000 | 695000 | 131000 |  26000 | 35000 |  4000 | 17000 | 35000 | 284000 |\n",
       "\n"
      ],
      "text/plain": [
       "   entity code year commercial_crops flooding_due_to_dams natural_disturbances\n",
       "1  Brazil BRA  2001 280000               0                    0               \n",
       "2  Brazil BRA  2002 415000           79000                35000               \n",
       "3  Brazil BRA  2003 550000               0                35000               \n",
       "⋮  ⋮      ⋮    ⋮    ⋮                ⋮                    ⋮                   \n",
       "11 Brazil BRA  2011  52000           17000                87000               \n",
       "12 Brazil BRA  2012 118000           17000                52000               \n",
       "13 Brazil BRA  2013  87000               0                13000               \n",
       "   pasture selective_logging fire   mining other_infrastructure roads\n",
       "1  1520000  96000             26000 9000    9000                13000\n",
       "2  2568000  96000            114000 9000   13000                31000\n",
       "3  2761000 149000             44000    0    9000                35000\n",
       "⋮  ⋮       ⋮                 ⋮      ⋮      ⋮                    ⋮    \n",
       "11 738000   44000            122000     0      0                 9000\n",
       "12 546000  166000             70000     0  13000                31000\n",
       "13 695000  131000             26000 35000   4000                17000\n",
       "   tree_plantations_including_palm small_scale_clearing\n",
       "1  44000                           249000              \n",
       "2  44000                           293000              \n",
       "3  26000                           358000              \n",
       "⋮  ⋮                               ⋮                   \n",
       "11 26000                           271000              \n",
       "12 26000                           232000              \n",
       "13 35000                           284000              "
      ]
     },
     "metadata": {},
     "output_type": "display_data"
    }
   ],
   "source": [
    "x <- getURL(\"https://raw.githubusercontent.com/rfordatascience/tidytuesday/master/data/2021/2021-04-06/brazil_loss.csv\")\n",
    "brazil_loss_data <- read.csv(text = x)\n",
    "brazil_loss_data"
   ]
  },
  {
   "cell_type": "code",
   "execution_count": 6,
   "id": "87c07801-df39-49f3-8915-4bd8fa562efe",
   "metadata": {
    "tags": []
   },
   "outputs": [
    {
     "data": {
      "text/html": [
       "<table class=\"dataframe\">\n",
       "<caption>A data.frame: 9897 × 6</caption>\n",
       "<thead>\n",
       "\t<tr><th scope=col>entity</th><th scope=col>code</th><th scope=col>year</th><th scope=col>human_food</th><th scope=col>animal_feed</th><th scope=col>processed</th></tr>\n",
       "\t<tr><th scope=col>&lt;chr&gt;</th><th scope=col>&lt;chr&gt;</th><th scope=col>&lt;int&gt;</th><th scope=col>&lt;int&gt;</th><th scope=col>&lt;int&gt;</th><th scope=col>&lt;int&gt;</th></tr>\n",
       "</thead>\n",
       "<tbody>\n",
       "\t<tr><td>Africa</td><td>NA</td><td>1961</td><td>33000</td><td>6000</td><td>14000</td></tr>\n",
       "\t<tr><td>Africa</td><td>NA</td><td>1962</td><td>43000</td><td>7000</td><td>17000</td></tr>\n",
       "\t<tr><td>Africa</td><td>NA</td><td>1963</td><td>31000</td><td>7000</td><td> 5000</td></tr>\n",
       "\t<tr><td>⋮</td><td>⋮</td><td>⋮</td><td>⋮</td><td>⋮</td><td>⋮</td></tr>\n",
       "\t<tr><td>Zimbabwe</td><td>ZWE</td><td>2011</td><td>8000</td><td>NA</td><td>75000</td></tr>\n",
       "\t<tr><td>Zimbabwe</td><td>ZWE</td><td>2012</td><td>8000</td><td>NA</td><td>87000</td></tr>\n",
       "\t<tr><td>Zimbabwe</td><td>ZWE</td><td>2013</td><td>8000</td><td>NA</td><td>91000</td></tr>\n",
       "</tbody>\n",
       "</table>\n"
      ],
      "text/latex": [
       "A data.frame: 9897 × 6\n",
       "\\begin{tabular}{llllll}\n",
       " entity & code & year & human\\_food & animal\\_feed & processed\\\\\n",
       " <chr> & <chr> & <int> & <int> & <int> & <int>\\\\\n",
       "\\hline\n",
       "\t Africa & NA & 1961 & 33000 & 6000 & 14000\\\\\n",
       "\t Africa & NA & 1962 & 43000 & 7000 & 17000\\\\\n",
       "\t Africa & NA & 1963 & 31000 & 7000 &  5000\\\\\n",
       "\t ⋮ & ⋮ & ⋮ & ⋮ & ⋮ & ⋮\\\\\n",
       "\t Zimbabwe & ZWE & 2011 & 8000 & NA & 75000\\\\\n",
       "\t Zimbabwe & ZWE & 2012 & 8000 & NA & 87000\\\\\n",
       "\t Zimbabwe & ZWE & 2013 & 8000 & NA & 91000\\\\\n",
       "\\end{tabular}\n"
      ],
      "text/markdown": [
       "\n",
       "A data.frame: 9897 × 6\n",
       "\n",
       "| entity &lt;chr&gt; | code &lt;chr&gt; | year &lt;int&gt; | human_food &lt;int&gt; | animal_feed &lt;int&gt; | processed &lt;int&gt; |\n",
       "|---|---|---|---|---|---|\n",
       "| Africa | NA | 1961 | 33000 | 6000 | 14000 |\n",
       "| Africa | NA | 1962 | 43000 | 7000 | 17000 |\n",
       "| Africa | NA | 1963 | 31000 | 7000 |  5000 |\n",
       "| ⋮ | ⋮ | ⋮ | ⋮ | ⋮ | ⋮ |\n",
       "| Zimbabwe | ZWE | 2011 | 8000 | NA | 75000 |\n",
       "| Zimbabwe | ZWE | 2012 | 8000 | NA | 87000 |\n",
       "| Zimbabwe | ZWE | 2013 | 8000 | NA | 91000 |\n",
       "\n"
      ],
      "text/plain": [
       "     entity   code year human_food animal_feed processed\n",
       "1    Africa   NA   1961 33000      6000        14000    \n",
       "2    Africa   NA   1962 43000      7000        17000    \n",
       "3    Africa   NA   1963 31000      7000         5000    \n",
       "⋮    ⋮        ⋮    ⋮    ⋮          ⋮           ⋮        \n",
       "9895 Zimbabwe ZWE  2011 8000       NA          75000    \n",
       "9896 Zimbabwe ZWE  2012 8000       NA          87000    \n",
       "9897 Zimbabwe ZWE  2013 8000       NA          91000    "
      ]
     },
     "metadata": {},
     "output_type": "display_data"
    }
   ],
   "source": [
    "x <- getURL(\"https://raw.githubusercontent.com/rfordatascience/tidytuesday/master/data/2021/2021-04-06/soybean_use.csv\")\n",
    "soybean_use_data <- read.csv(text = x)\n",
    "soybean_use_data"
   ]
  },
  {
   "cell_type": "code",
   "execution_count": 7,
   "id": "bd33c930-c793-43a6-97d7-a2859c1b0cb1",
   "metadata": {
    "tags": []
   },
   "outputs": [
    {
     "data": {
      "text/html": [
       "<table class=\"dataframe\">\n",
       "<caption>A data.frame: 143832 × 5</caption>\n",
       "<thead>\n",
       "\t<tr><th scope=col>entity</th><th scope=col>code</th><th scope=col>year</th><th scope=col>crop_oil</th><th scope=col>production</th></tr>\n",
       "\t<tr><th scope=col>&lt;chr&gt;</th><th scope=col>&lt;chr&gt;</th><th scope=col>&lt;int&gt;</th><th scope=col>&lt;chr&gt;</th><th scope=col>&lt;int&gt;</th></tr>\n",
       "</thead>\n",
       "<tbody>\n",
       "\t<tr><td>Afghanistan</td><td>AFG</td><td>1961</td><td>Soybean</td><td>  NA</td></tr>\n",
       "\t<tr><td>Afghanistan</td><td>AFG</td><td>1961</td><td>Sesame </td><td>2253</td></tr>\n",
       "\t<tr><td>Afghanistan</td><td>AFG</td><td>1961</td><td>Linseed</td><td>3531</td></tr>\n",
       "\t<tr><td>⋮</td><td>⋮</td><td>⋮</td><td>⋮</td><td>⋮</td></tr>\n",
       "\t<tr><td>Zimbabwe</td><td>ZWE</td><td>1973</td><td>Sunflower  </td><td> 666</td></tr>\n",
       "\t<tr><td>Zimbabwe</td><td>ZWE</td><td>1973</td><td>Maize      </td><td>5400</td></tr>\n",
       "\t<tr><td>Zimbabwe</td><td>ZWE</td><td>1973</td><td>Palm kernel</td><td>  NA</td></tr>\n",
       "</tbody>\n",
       "</table>\n"
      ],
      "text/latex": [
       "A data.frame: 143832 × 5\n",
       "\\begin{tabular}{lllll}\n",
       " entity & code & year & crop\\_oil & production\\\\\n",
       " <chr> & <chr> & <int> & <chr> & <int>\\\\\n",
       "\\hline\n",
       "\t Afghanistan & AFG & 1961 & Soybean &   NA\\\\\n",
       "\t Afghanistan & AFG & 1961 & Sesame  & 2253\\\\\n",
       "\t Afghanistan & AFG & 1961 & Linseed & 3531\\\\\n",
       "\t ⋮ & ⋮ & ⋮ & ⋮ & ⋮\\\\\n",
       "\t Zimbabwe & ZWE & 1973 & Sunflower   &  666\\\\\n",
       "\t Zimbabwe & ZWE & 1973 & Maize       & 5400\\\\\n",
       "\t Zimbabwe & ZWE & 1973 & Palm kernel &   NA\\\\\n",
       "\\end{tabular}\n"
      ],
      "text/markdown": [
       "\n",
       "A data.frame: 143832 × 5\n",
       "\n",
       "| entity &lt;chr&gt; | code &lt;chr&gt; | year &lt;int&gt; | crop_oil &lt;chr&gt; | production &lt;int&gt; |\n",
       "|---|---|---|---|---|\n",
       "| Afghanistan | AFG | 1961 | Soybean |   NA |\n",
       "| Afghanistan | AFG | 1961 | Sesame  | 2253 |\n",
       "| Afghanistan | AFG | 1961 | Linseed | 3531 |\n",
       "| ⋮ | ⋮ | ⋮ | ⋮ | ⋮ |\n",
       "| Zimbabwe | ZWE | 1973 | Sunflower   |  666 |\n",
       "| Zimbabwe | ZWE | 1973 | Maize       | 5400 |\n",
       "| Zimbabwe | ZWE | 1973 | Palm kernel |   NA |\n",
       "\n"
      ],
      "text/plain": [
       "       entity      code year crop_oil    production\n",
       "1      Afghanistan AFG  1961 Soybean       NA      \n",
       "2      Afghanistan AFG  1961 Sesame      2253      \n",
       "3      Afghanistan AFG  1961 Linseed     3531      \n",
       "⋮      ⋮           ⋮    ⋮    ⋮           ⋮         \n",
       "143830 Zimbabwe    ZWE  1973 Sunflower    666      \n",
       "143831 Zimbabwe    ZWE  1973 Maize       5400      \n",
       "143832 Zimbabwe    ZWE  1973 Palm kernel   NA      "
      ]
     },
     "metadata": {},
     "output_type": "display_data"
    }
   ],
   "source": [
    "x <- getURL(\"https://raw.githubusercontent.com/rfordatascience/tidytuesday/master/data/2021/2021-04-06/vegetable_oil.csv\")\n",
    "vegetable_oil_data <- read.csv(text = x)\n",
    "vegetable_oil_data"
   ]
  },
  {
   "cell_type": "code",
   "execution_count": null,
   "id": "c7bd2651-5168-4914-ad37-5ba1c3c964a7",
   "metadata": {},
   "outputs": [],
   "source": []
  }
 ],
 "metadata": {
  "kernelspec": {
   "display_name": "R",
   "language": "R",
   "name": "ir"
  },
  "language_info": {
   "codemirror_mode": "r",
   "file_extension": ".r",
   "mimetype": "text/x-r-source",
   "name": "R",
   "pygments_lexer": "r",
   "version": "4.2.2"
  }
 },
 "nbformat": 4,
 "nbformat_minor": 5
}
